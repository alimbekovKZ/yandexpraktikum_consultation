{
  "nbformat": 4,
  "nbformat_minor": 0,
  "metadata": {
    "colab": {
      "name": "lstm.ipynb",
      "provenance": [],
      "collapsed_sections": []
    },
    "kernelspec": {
      "name": "python3",
      "display_name": "Python 3"
    }
  },
  "cells": [
    {
      "cell_type": "code",
      "metadata": {
        "id": "2VZKpGclrNQR",
        "outputId": "3861c9b4-d0f6-4964-c9a8-0c6e5c29c63b",
        "colab": {
          "base_uri": "https://localhost:8080/"
        }
      },
      "source": [
        "!wget https://raw.githubusercontent.com/alimbekovKZ/ods_homework/master/data/wiki_machine_learning.csv"
      ],
      "execution_count": null,
      "outputs": [
        {
          "output_type": "stream",
          "text": [
            "--2020-11-09 12:06:07--  https://raw.githubusercontent.com/alimbekovKZ/ods_homework/master/data/wiki_machine_learning.csv\n",
            "Resolving raw.githubusercontent.com (raw.githubusercontent.com)... 151.101.0.133, 151.101.64.133, 151.101.128.133, ...\n",
            "Connecting to raw.githubusercontent.com (raw.githubusercontent.com)|151.101.0.133|:443... connected.\n",
            "HTTP request sent, awaiting response... 200 OK\n",
            "Length: 31043 (30K) [text/plain]\n",
            "Saving to: ‘wiki_machine_learning.csv.3’\n",
            "\n",
            "wiki_machine_learni 100%[===================>]  30.32K  --.-KB/s    in 0.01s   \n",
            "\n",
            "2020-11-09 12:06:07 (2.13 MB/s) - ‘wiki_machine_learning.csv.3’ saved [31043/31043]\n",
            "\n"
          ],
          "name": "stdout"
        }
      ]
    },
    {
      "cell_type": "code",
      "metadata": {
        "id": "LZG883_tiLAy"
      },
      "source": [
        "import pandas as pd\n",
        "import numpy as np\n",
        "import matplotlib.pyplot as plt\n",
        "\n",
        "from sklearn.preprocessing import MinMaxScaler\n",
        "from keras.models import Sequential\n",
        "from keras.layers import Dense, LSTM, Dropout\n",
        "from keras.callbacks import EarlyStopping"
      ],
      "execution_count": null,
      "outputs": []
    },
    {
      "cell_type": "code",
      "metadata": {
        "id": "X5CPQYgerLhs",
        "outputId": "1fefb0d1-1272-4ca3-8709-9e79022ca879",
        "colab": {
          "base_uri": "https://localhost:8080/",
          "height": 206
        }
      },
      "source": [
        "df = pd.read_csv('wiki_machine_learning.csv', sep = ' ')\n",
        "df = df[df['count'] != 0]\n",
        "df.head()"
      ],
      "execution_count": null,
      "outputs": [
        {
          "output_type": "execute_result",
          "data": {
            "text/html": [
              "<div>\n",
              "<style scoped>\n",
              "    .dataframe tbody tr th:only-of-type {\n",
              "        vertical-align: middle;\n",
              "    }\n",
              "\n",
              "    .dataframe tbody tr th {\n",
              "        vertical-align: top;\n",
              "    }\n",
              "\n",
              "    .dataframe thead th {\n",
              "        text-align: right;\n",
              "    }\n",
              "</style>\n",
              "<table border=\"1\" class=\"dataframe\">\n",
              "  <thead>\n",
              "    <tr style=\"text-align: right;\">\n",
              "      <th></th>\n",
              "      <th>date</th>\n",
              "      <th>count</th>\n",
              "      <th>lang</th>\n",
              "      <th>page</th>\n",
              "      <th>rank</th>\n",
              "      <th>month</th>\n",
              "      <th>title</th>\n",
              "    </tr>\n",
              "  </thead>\n",
              "  <tbody>\n",
              "    <tr>\n",
              "      <th>81</th>\n",
              "      <td>2015-01-01</td>\n",
              "      <td>1414</td>\n",
              "      <td>en</td>\n",
              "      <td>Machine_learning</td>\n",
              "      <td>8708</td>\n",
              "      <td>201501</td>\n",
              "      <td>Machine_learning</td>\n",
              "    </tr>\n",
              "    <tr>\n",
              "      <th>80</th>\n",
              "      <td>2015-01-02</td>\n",
              "      <td>1920</td>\n",
              "      <td>en</td>\n",
              "      <td>Machine_learning</td>\n",
              "      <td>8708</td>\n",
              "      <td>201501</td>\n",
              "      <td>Machine_learning</td>\n",
              "    </tr>\n",
              "    <tr>\n",
              "      <th>79</th>\n",
              "      <td>2015-01-03</td>\n",
              "      <td>1338</td>\n",
              "      <td>en</td>\n",
              "      <td>Machine_learning</td>\n",
              "      <td>8708</td>\n",
              "      <td>201501</td>\n",
              "      <td>Machine_learning</td>\n",
              "    </tr>\n",
              "    <tr>\n",
              "      <th>78</th>\n",
              "      <td>2015-01-04</td>\n",
              "      <td>1404</td>\n",
              "      <td>en</td>\n",
              "      <td>Machine_learning</td>\n",
              "      <td>8708</td>\n",
              "      <td>201501</td>\n",
              "      <td>Machine_learning</td>\n",
              "    </tr>\n",
              "    <tr>\n",
              "      <th>77</th>\n",
              "      <td>2015-01-05</td>\n",
              "      <td>2264</td>\n",
              "      <td>en</td>\n",
              "      <td>Machine_learning</td>\n",
              "      <td>8708</td>\n",
              "      <td>201501</td>\n",
              "      <td>Machine_learning</td>\n",
              "    </tr>\n",
              "  </tbody>\n",
              "</table>\n",
              "</div>"
            ],
            "text/plain": [
              "          date  count lang              page  rank   month             title\n",
              "81  2015-01-01   1414   en  Machine_learning  8708  201501  Machine_learning\n",
              "80  2015-01-02   1920   en  Machine_learning  8708  201501  Machine_learning\n",
              "79  2015-01-03   1338   en  Machine_learning  8708  201501  Machine_learning\n",
              "78  2015-01-04   1404   en  Machine_learning  8708  201501  Machine_learning\n",
              "77  2015-01-05   2264   en  Machine_learning  8708  201501  Machine_learning"
            ]
          },
          "metadata": {
            "tags": []
          },
          "execution_count": 2
        }
      ]
    },
    {
      "cell_type": "code",
      "metadata": {
        "id": "QyDeHcSLrSOJ"
      },
      "source": [
        "df.date = pd.to_datetime(df.date)"
      ],
      "execution_count": null,
      "outputs": []
    },
    {
      "cell_type": "code",
      "metadata": {
        "id": "qHdLcIJJrUqy"
      },
      "source": [
        "predictions = 30\n",
        "\n",
        "df = df[['date', 'count']]\n",
        "df.columns = ['ds', 'y']\n",
        "train_df = df[:-predictions].copy()\n",
        "\n",
        "test_data = df[-predictions:].copy()"
      ],
      "execution_count": null,
      "outputs": []
    },
    {
      "cell_type": "code",
      "metadata": {
        "id": "_S4S8yE365-T"
      },
      "source": [
        "scaler = MinMaxScaler()"
      ],
      "execution_count": null,
      "outputs": []
    },
    {
      "cell_type": "code",
      "metadata": {
        "id": "Znyjc8cL66jH"
      },
      "source": [
        "scaler = scaler.fit(np.expand_dims(train_df.y, axis=1))"
      ],
      "execution_count": null,
      "outputs": []
    },
    {
      "cell_type": "code",
      "metadata": {
        "id": "RV_BOoDO7Crn"
      },
      "source": [
        "train_data = scaler.transform(np.expand_dims(train_df.y, axis=1))\n",
        "\n",
        "test_data = scaler.transform(np.expand_dims(test_data.y, axis=1))"
      ],
      "execution_count": null,
      "outputs": []
    },
    {
      "cell_type": "code",
      "metadata": {
        "id": "5psr6RsXu9gn"
      },
      "source": [
        "data_x = np.array(train_data).reshape(-1,1)"
      ],
      "execution_count": null,
      "outputs": []
    },
    {
      "cell_type": "code",
      "metadata": {
        "id": "ehIuZsGptef2"
      },
      "source": [
        "train_x = np.reshape( data_x, (data_x.shape[0], 1, data_x.shape[1]))"
      ],
      "execution_count": null,
      "outputs": []
    },
    {
      "cell_type": "code",
      "metadata": {
        "id": "eAOK6i9KteiA",
        "outputId": "cddf57e4-27d0-4572-d38a-111345db59fc",
        "colab": {
          "base_uri": "https://localhost:8080/"
        }
      },
      "source": [
        "train_x.shape"
      ],
      "execution_count": null,
      "outputs": [
        {
          "output_type": "execute_result",
          "data": {
            "text/plain": [
              "(353, 1, 1)"
            ]
          },
          "metadata": {
            "tags": []
          },
          "execution_count": 10
        }
      ]
    },
    {
      "cell_type": "code",
      "metadata": {
        "id": "681HicHZvhZW"
      },
      "source": [
        "test_x = np.array(test_data).reshape(-1,1)"
      ],
      "execution_count": null,
      "outputs": []
    },
    {
      "cell_type": "code",
      "metadata": {
        "id": "N6Wmycgstem8"
      },
      "source": [
        "test_x = np.reshape(test_x, (test_x.shape[0], 1, test_x.shape[1]))"
      ],
      "execution_count": null,
      "outputs": []
    },
    {
      "cell_type": "code",
      "metadata": {
        "id": "WKc3smoRvhJE",
        "outputId": "251f9941-7667-40e5-da79-effe0a0a21b9",
        "colab": {
          "base_uri": "https://localhost:8080/"
        }
      },
      "source": [
        "test_x.shape"
      ],
      "execution_count": null,
      "outputs": [
        {
          "output_type": "execute_result",
          "data": {
            "text/plain": [
              "(30, 1, 1)"
            ]
          },
          "metadata": {
            "tags": []
          },
          "execution_count": 13
        }
      ]
    },
    {
      "cell_type": "code",
      "metadata": {
        "id": "xOPwyz4Wv0Mk"
      },
      "source": [
        "train_y = df[:-predictions].y.values"
      ],
      "execution_count": null,
      "outputs": []
    },
    {
      "cell_type": "code",
      "metadata": {
        "id": "OX3TDD8qv5nn"
      },
      "source": [
        "test_y = df[353:].y.values"
      ],
      "execution_count": null,
      "outputs": []
    },
    {
      "cell_type": "code",
      "metadata": {
        "id": "kIlO2iVIvt8D"
      },
      "source": [
        "stop = EarlyStopping(monitor='loss',min_delta=0.000000000001, patience=15)\n",
        "\n",
        "model = Sequential()\n",
        "model.add(LSTM(128, input_shape=(train_x.shape[1], train_x.shape[2])))\n",
        "model.add(Dense(1))\n",
        "model.compile(optimizer='adam', loss='mse', metrics=['mape'])\n",
        "\n",
        "history = model.fit(\n",
        "    train_x, \n",
        "    train_y, \n",
        "    epochs=10000, \n",
        "    batch_size=100, \n",
        "    validation_data=(test_x, test_y), \n",
        "    verbose=1, \n",
        "    shuffle=False,\n",
        "    callbacks=[stop]\n",
        ")"
      ],
      "execution_count": null,
      "outputs": []
    },
    {
      "cell_type": "code",
      "metadata": {
        "id": "u4KYiDR1vt-4"
      },
      "source": [
        "plt.plot(history.history['loss'], label='train')\n",
        "plt.plot(history.history['val_loss'], label='test')\n",
        "plt.legend()"
      ],
      "execution_count": null,
      "outputs": []
    },
    {
      "cell_type": "code",
      "metadata": {
        "id": "KqTNn5T3vuA_"
      },
      "source": [
        "def mean_absolute_percentage_error(y_true, y_pred):\n",
        "    return np.mean(np.abs((y_true - y_pred) / y_true)) * 100"
      ],
      "execution_count": null,
      "outputs": []
    },
    {
      "cell_type": "code",
      "metadata": {
        "id": "lpg1-mbwwwNP"
      },
      "source": [
        "preds = model.predict(test_x)\n",
        "preds = scaler.inverse_transform(preds)\n",
        "\n",
        "test = scaler.inverse_transform(test_y.reshape(-1, 1))\n",
        "#test = test_y.reshape(-1, 1)\n",
        "print(mean_absolute_percentage_error(test, preds))\n",
        "print(mean_absolute_percentage_error(sum(test), sum(preds)))"
      ],
      "execution_count": null,
      "outputs": []
    },
    {
      "cell_type": "code",
      "metadata": {
        "id": "PCq-VHiuslhm"
      },
      "source": [
        ""
      ],
      "execution_count": null,
      "outputs": []
    }
  ]
}