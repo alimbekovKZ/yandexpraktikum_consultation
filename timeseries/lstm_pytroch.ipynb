{
  "nbformat": 4,
  "nbformat_minor": 0,
  "metadata": {
    "colab": {
      "name": "lstm pytroch.ipynb",
      "provenance": [],
      "collapsed_sections": []
    },
    "kernelspec": {
      "name": "python3",
      "display_name": "Python 3"
    }
  },
  "cells": [
    {
      "cell_type": "code",
      "metadata": {
        "id": "Mw3HYiS3z5Nh",
        "outputId": "89170fdd-b193-4f49-e4a4-fa3b9e980603",
        "colab": {
          "base_uri": "https://localhost:8080/"
        }
      },
      "source": [
        "!wget https://raw.githubusercontent.com/alimbekovKZ/ods_homework/master/data/wiki_machine_learning.csv"
      ],
      "execution_count": null,
      "outputs": [
        {
          "output_type": "stream",
          "text": [
            "--2020-11-09 11:42:05--  https://raw.githubusercontent.com/alimbekovKZ/ods_homework/master/data/wiki_machine_learning.csv\n",
            "Resolving raw.githubusercontent.com (raw.githubusercontent.com)... 151.101.0.133, 151.101.64.133, 151.101.128.133, ...\n",
            "Connecting to raw.githubusercontent.com (raw.githubusercontent.com)|151.101.0.133|:443... connected.\n",
            "HTTP request sent, awaiting response... 200 OK\n",
            "Length: 31043 (30K) [text/plain]\n",
            "Saving to: ‘wiki_machine_learning.csv’\n",
            "\n",
            "\r          wiki_mach   0%[                    ]       0  --.-KB/s               \rwiki_machine_learni 100%[===================>]  30.32K  --.-KB/s    in 0.004s  \n",
            "\n",
            "2020-11-09 11:42:06 (7.81 MB/s) - ‘wiki_machine_learning.csv’ saved [31043/31043]\n",
            "\n"
          ],
          "name": "stdout"
        }
      ]
    },
    {
      "cell_type": "code",
      "metadata": {
        "id": "uozYRwyk0As8"
      },
      "source": [
        "import torch\n",
        "import os\n",
        "\n",
        "import numpy as np\n",
        "\n",
        "import pandas as pd\n",
        "\n",
        "from tqdm import tqdm\n",
        "\n",
        "import seaborn as sns\n",
        "\n",
        "from pylab import rcParams\n",
        "\n",
        "import matplotlib.pyplot as plt\n",
        "\n",
        "from matplotlib import rc\n",
        "\n",
        "from sklearn.preprocessing import MinMaxScaler\n",
        "\n",
        "from pandas.plotting import register_matplotlib_converters\n",
        "\n",
        "from torch import nn, optim"
      ],
      "execution_count": null,
      "outputs": []
    },
    {
      "cell_type": "code",
      "metadata": {
        "id": "rnmaVw1x0EEt",
        "outputId": "0b918aa4-468c-426a-cde7-a0e6bff190d8",
        "colab": {
          "base_uri": "https://localhost:8080/",
          "height": 206
        }
      },
      "source": [
        "df = pd.read_csv('wiki_machine_learning.csv', sep = ' ')\n",
        "df = df[df['count'] != 0]\n",
        "df.head()"
      ],
      "execution_count": null,
      "outputs": [
        {
          "output_type": "execute_result",
          "data": {
            "text/html": [
              "<div>\n",
              "<style scoped>\n",
              "    .dataframe tbody tr th:only-of-type {\n",
              "        vertical-align: middle;\n",
              "    }\n",
              "\n",
              "    .dataframe tbody tr th {\n",
              "        vertical-align: top;\n",
              "    }\n",
              "\n",
              "    .dataframe thead th {\n",
              "        text-align: right;\n",
              "    }\n",
              "</style>\n",
              "<table border=\"1\" class=\"dataframe\">\n",
              "  <thead>\n",
              "    <tr style=\"text-align: right;\">\n",
              "      <th></th>\n",
              "      <th>date</th>\n",
              "      <th>count</th>\n",
              "      <th>lang</th>\n",
              "      <th>page</th>\n",
              "      <th>rank</th>\n",
              "      <th>month</th>\n",
              "      <th>title</th>\n",
              "    </tr>\n",
              "  </thead>\n",
              "  <tbody>\n",
              "    <tr>\n",
              "      <th>81</th>\n",
              "      <td>2015-01-01</td>\n",
              "      <td>1414</td>\n",
              "      <td>en</td>\n",
              "      <td>Machine_learning</td>\n",
              "      <td>8708</td>\n",
              "      <td>201501</td>\n",
              "      <td>Machine_learning</td>\n",
              "    </tr>\n",
              "    <tr>\n",
              "      <th>80</th>\n",
              "      <td>2015-01-02</td>\n",
              "      <td>1920</td>\n",
              "      <td>en</td>\n",
              "      <td>Machine_learning</td>\n",
              "      <td>8708</td>\n",
              "      <td>201501</td>\n",
              "      <td>Machine_learning</td>\n",
              "    </tr>\n",
              "    <tr>\n",
              "      <th>79</th>\n",
              "      <td>2015-01-03</td>\n",
              "      <td>1338</td>\n",
              "      <td>en</td>\n",
              "      <td>Machine_learning</td>\n",
              "      <td>8708</td>\n",
              "      <td>201501</td>\n",
              "      <td>Machine_learning</td>\n",
              "    </tr>\n",
              "    <tr>\n",
              "      <th>78</th>\n",
              "      <td>2015-01-04</td>\n",
              "      <td>1404</td>\n",
              "      <td>en</td>\n",
              "      <td>Machine_learning</td>\n",
              "      <td>8708</td>\n",
              "      <td>201501</td>\n",
              "      <td>Machine_learning</td>\n",
              "    </tr>\n",
              "    <tr>\n",
              "      <th>77</th>\n",
              "      <td>2015-01-05</td>\n",
              "      <td>2264</td>\n",
              "      <td>en</td>\n",
              "      <td>Machine_learning</td>\n",
              "      <td>8708</td>\n",
              "      <td>201501</td>\n",
              "      <td>Machine_learning</td>\n",
              "    </tr>\n",
              "  </tbody>\n",
              "</table>\n",
              "</div>"
            ],
            "text/plain": [
              "          date  count lang              page  rank   month             title\n",
              "81  2015-01-01   1414   en  Machine_learning  8708  201501  Machine_learning\n",
              "80  2015-01-02   1920   en  Machine_learning  8708  201501  Machine_learning\n",
              "79  2015-01-03   1338   en  Machine_learning  8708  201501  Machine_learning\n",
              "78  2015-01-04   1404   en  Machine_learning  8708  201501  Machine_learning\n",
              "77  2015-01-05   2264   en  Machine_learning  8708  201501  Machine_learning"
            ]
          },
          "metadata": {
            "tags": []
          },
          "execution_count": 2
        }
      ]
    },
    {
      "cell_type": "code",
      "metadata": {
        "id": "UJs4RJlS0FKc"
      },
      "source": [
        "df.date = pd.to_datetime(df.date)"
      ],
      "execution_count": null,
      "outputs": []
    },
    {
      "cell_type": "code",
      "metadata": {
        "id": "A-9Mwdb10Glc",
        "outputId": "3635b090-fc90-4dc6-b29e-e04f8bfbd3c4",
        "colab": {
          "base_uri": "https://localhost:8080/"
        }
      },
      "source": [
        "RANDOM_SEED = 42\n",
        "\n",
        "np.random.seed(RANDOM_SEED)\n",
        "\n",
        "torch.manual_seed(RANDOM_SEED)"
      ],
      "execution_count": null,
      "outputs": [
        {
          "output_type": "execute_result",
          "data": {
            "text/plain": [
              "<torch._C.Generator at 0x7fa3517df570>"
            ]
          },
          "metadata": {
            "tags": []
          },
          "execution_count": 4
        }
      ]
    },
    {
      "cell_type": "code",
      "metadata": {
        "id": "lKkyynze0vFX"
      },
      "source": [
        "predictions = 30\n",
        "\n",
        "df = df[['date', 'count']]\n",
        "df.columns = ['ds', 'y']"
      ],
      "execution_count": null,
      "outputs": []
    },
    {
      "cell_type": "code",
      "metadata": {
        "id": "9TU_XTfY0Ogk",
        "outputId": "8442da45-15e7-448c-91d1-f54208161637",
        "colab": {
          "base_uri": "https://localhost:8080/"
        }
      },
      "source": [
        "train_data = df[:-predictions]\n",
        "\n",
        "test_data = df[-predictions:]\n",
        "\n",
        "train_data.shape"
      ],
      "execution_count": null,
      "outputs": [
        {
          "output_type": "execute_result",
          "data": {
            "text/plain": [
              "(353, 2)"
            ]
          },
          "metadata": {
            "tags": []
          },
          "execution_count": 6
        }
      ]
    },
    {
      "cell_type": "code",
      "metadata": {
        "id": "pCnKAnwD3ozC",
        "outputId": "26db49e8-efbe-4a46-aac4-6fef8279cff8",
        "colab": {
          "base_uri": "https://localhost:8080/"
        }
      },
      "source": [
        "test_data.shape"
      ],
      "execution_count": null,
      "outputs": [
        {
          "output_type": "execute_result",
          "data": {
            "text/plain": [
              "(30, 2)"
            ]
          },
          "metadata": {
            "tags": []
          },
          "execution_count": 8
        }
      ]
    },
    {
      "cell_type": "code",
      "metadata": {
        "id": "o3hj9C3a0jbP",
        "outputId": "ab31cf02-83be-4bc4-d92b-f0ae200df92f",
        "colab": {
          "base_uri": "https://localhost:8080/",
          "height": 424
        }
      },
      "source": [
        "train_data"
      ],
      "execution_count": null,
      "outputs": [
        {
          "output_type": "execute_result",
          "data": {
            "text/html": [
              "<div>\n",
              "<style scoped>\n",
              "    .dataframe tbody tr th:only-of-type {\n",
              "        vertical-align: middle;\n",
              "    }\n",
              "\n",
              "    .dataframe tbody tr th {\n",
              "        vertical-align: top;\n",
              "    }\n",
              "\n",
              "    .dataframe thead th {\n",
              "        text-align: right;\n",
              "    }\n",
              "</style>\n",
              "<table border=\"1\" class=\"dataframe\">\n",
              "  <thead>\n",
              "    <tr style=\"text-align: right;\">\n",
              "      <th></th>\n",
              "      <th>ds</th>\n",
              "      <th>y</th>\n",
              "    </tr>\n",
              "  </thead>\n",
              "  <tbody>\n",
              "    <tr>\n",
              "      <th>81</th>\n",
              "      <td>2015-01-01</td>\n",
              "      <td>1414</td>\n",
              "    </tr>\n",
              "    <tr>\n",
              "      <th>80</th>\n",
              "      <td>2015-01-02</td>\n",
              "      <td>1920</td>\n",
              "    </tr>\n",
              "    <tr>\n",
              "      <th>79</th>\n",
              "      <td>2015-01-03</td>\n",
              "      <td>1338</td>\n",
              "    </tr>\n",
              "    <tr>\n",
              "      <th>78</th>\n",
              "      <td>2015-01-04</td>\n",
              "      <td>1404</td>\n",
              "    </tr>\n",
              "    <tr>\n",
              "      <th>77</th>\n",
              "      <td>2015-01-05</td>\n",
              "      <td>2264</td>\n",
              "    </tr>\n",
              "    <tr>\n",
              "      <th>...</th>\n",
              "      <td>...</td>\n",
              "      <td>...</td>\n",
              "    </tr>\n",
              "    <tr>\n",
              "      <th>358</th>\n",
              "      <td>2015-12-17</td>\n",
              "      <td>2870</td>\n",
              "    </tr>\n",
              "    <tr>\n",
              "      <th>363</th>\n",
              "      <td>2015-12-18</td>\n",
              "      <td>2475</td>\n",
              "    </tr>\n",
              "    <tr>\n",
              "      <th>364</th>\n",
              "      <td>2015-12-19</td>\n",
              "      <td>1659</td>\n",
              "    </tr>\n",
              "    <tr>\n",
              "      <th>344</th>\n",
              "      <td>2015-12-20</td>\n",
              "      <td>1534</td>\n",
              "    </tr>\n",
              "    <tr>\n",
              "      <th>343</th>\n",
              "      <td>2015-12-21</td>\n",
              "      <td>2425</td>\n",
              "    </tr>\n",
              "  </tbody>\n",
              "</table>\n",
              "<p>353 rows × 2 columns</p>\n",
              "</div>"
            ],
            "text/plain": [
              "            ds     y\n",
              "81  2015-01-01  1414\n",
              "80  2015-01-02  1920\n",
              "79  2015-01-03  1338\n",
              "78  2015-01-04  1404\n",
              "77  2015-01-05  2264\n",
              "..         ...   ...\n",
              "358 2015-12-17  2870\n",
              "363 2015-12-18  2475\n",
              "364 2015-12-19  1659\n",
              "344 2015-12-20  1534\n",
              "343 2015-12-21  2425\n",
              "\n",
              "[353 rows x 2 columns]"
            ]
          },
          "metadata": {
            "tags": []
          },
          "execution_count": 9
        }
      ]
    },
    {
      "cell_type": "code",
      "metadata": {
        "id": "vONvdUCQ0So0"
      },
      "source": [
        "scaler = MinMaxScaler()\n",
        "\n",
        "scaler = scaler.fit(np.expand_dims(train_data.y, axis=1))\n",
        "\n",
        "train_data = scaler.transform(np.expand_dims(train_data.y, axis=1))\n",
        "\n",
        "test_data = scaler.transform(np.expand_dims(test_data.y, axis=1))"
      ],
      "execution_count": null,
      "outputs": []
    },
    {
      "cell_type": "code",
      "metadata": {
        "id": "sVMirPsj0hzT"
      },
      "source": [
        "def create_sequences(data, seq_length):\n",
        "    xs = []\n",
        "    ys = []\n",
        "\n",
        "    for i in range(len(data)-seq_length-1):\n",
        "        x = data[i:(i+seq_length)]\n",
        "        y = data[i+seq_length]\n",
        "        xs.append(x)\n",
        "        ys.append(y)\n",
        "\n",
        "    return np.array(xs), np.array(ys)"
      ],
      "execution_count": null,
      "outputs": []
    },
    {
      "cell_type": "code",
      "metadata": {
        "id": "oejR1eTH07B4"
      },
      "source": [
        "seq_length = 5\n",
        "X_train, y_train = create_sequences(train_data, seq_length)\n",
        "X_test, y_test = create_sequences(test_data, seq_length)\n",
        "\n",
        "X_train = torch.from_numpy(X_train).float()\n",
        "y_train = torch.from_numpy(y_train).float()\n",
        "\n",
        "X_test = torch.from_numpy(X_test).float()\n",
        "y_test = torch.from_numpy(y_test).float()"
      ],
      "execution_count": null,
      "outputs": []
    },
    {
      "cell_type": "code",
      "metadata": {
        "id": "oP50EOl_0-Ds",
        "outputId": "fb2118ab-7836-451d-b7c4-e19d3d54d4fa",
        "colab": {
          "base_uri": "https://localhost:8080/"
        }
      },
      "source": [
        "X_train.shape"
      ],
      "execution_count": null,
      "outputs": [
        {
          "output_type": "execute_result",
          "data": {
            "text/plain": [
              "torch.Size([347, 5, 1])"
            ]
          },
          "metadata": {
            "tags": []
          },
          "execution_count": 73
        }
      ]
    },
    {
      "cell_type": "code",
      "metadata": {
        "id": "ivjI4ou83t4v",
        "outputId": "4f8f4896-9026-4399-b834-937565267ad8",
        "colab": {
          "base_uri": "https://localhost:8080/"
        }
      },
      "source": [
        "X_test.shape"
      ],
      "execution_count": null,
      "outputs": [
        {
          "output_type": "execute_result",
          "data": {
            "text/plain": [
              "torch.Size([24, 5, 1])"
            ]
          },
          "metadata": {
            "tags": []
          },
          "execution_count": 74
        }
      ]
    },
    {
      "cell_type": "code",
      "metadata": {
        "id": "72lMI-SD0_q9"
      },
      "source": [
        "class vanillaLSTM(nn.Module):\n",
        "\n",
        "  def __init__(self, n_features, n_hidden, seq_len, n_layers=2):\n",
        "    super(vanillaLSTM, self).__init__()\n",
        "\n",
        "    self.n_hidden = n_hidden\n",
        "    self.seq_len = seq_len\n",
        "    self.n_layers = n_layers\n",
        "\n",
        "    self.lstm = nn.LSTM(\n",
        "      input_size=n_features,\n",
        "      hidden_size=n_hidden,\n",
        "      num_layers=n_layers,\n",
        "      dropout=0.5\n",
        "    )\n",
        "\n",
        "    self.linear = nn.Linear(in_features=n_hidden, out_features=1)\n",
        "\n",
        "  def reset_hidden_state(self):\n",
        "    self.hidden = (\n",
        "        torch.zeros(self.n_layers, self.seq_len, self.n_hidden),\n",
        "        torch.zeros(self.n_layers, self.seq_len, self.n_hidden)\n",
        "    )\n",
        "\n",
        "  def forward(self, sequences):\n",
        "    lstm_out, self.hidden = self.lstm(\n",
        "      sequences.view(len(sequences), self.seq_len, -1),\n",
        "      self.hidden\n",
        "    )\n",
        "    last_time_step = \\\n",
        "      lstm_out.view(self.seq_len, len(sequences), self.n_hidden)[-1]\n",
        "    y_pred = self.linear(last_time_step)\n",
        "    return y_pred"
      ],
      "execution_count": null,
      "outputs": []
    },
    {
      "cell_type": "code",
      "metadata": {
        "id": "hugDrIcA1J4V"
      },
      "source": [
        "def train_model(\n",
        "  model, \n",
        "  train_data, \n",
        "  train_labels, \n",
        "  test_data=None, \n",
        "  test_labels=None\n",
        "):\n",
        "  loss_fn = torch.nn.MSELoss(reduction='sum')\n",
        "\n",
        "  optimiser = torch.optim.Adam(model.parameters(), lr=1e-3)\n",
        "  num_epochs = 60\n",
        "\n",
        "  train_hist = np.zeros(num_epochs)\n",
        "  test_hist = np.zeros(num_epochs)\n",
        "\n",
        "  for t in range(num_epochs):\n",
        "    model.reset_hidden_state()\n",
        "\n",
        "    y_pred = model(X_train)\n",
        "\n",
        "    loss = loss_fn(y_pred.float(), y_train)\n",
        "\n",
        "    if test_data is not None:\n",
        "      with torch.no_grad():\n",
        "        y_test_pred = model(X_test)\n",
        "        test_loss = loss_fn(y_test_pred.float(), y_test)\n",
        "      test_hist[t] = test_loss.item()\n",
        "\n",
        "      if t % 10 == 0:  \n",
        "        print(f'Epoch {t} train loss: {loss.item()} test loss: {test_loss.item()}')\n",
        "    elif t % 10 == 0:\n",
        "      print(f'Epoch {t} train loss: {loss.item()}')\n",
        "\n",
        "    train_hist[t] = loss.item()\n",
        "    \n",
        "    optimiser.zero_grad()\n",
        "\n",
        "    loss.backward()\n",
        "\n",
        "    optimiser.step()\n",
        "  \n",
        "  return model.eval(), train_hist, test_hist"
      ],
      "execution_count": null,
      "outputs": []
    },
    {
      "cell_type": "code",
      "metadata": {
        "id": "m9Yui38r1NP9",
        "outputId": "f650503a-aa37-46c1-979d-369611e9d03d",
        "colab": {
          "base_uri": "https://localhost:8080/"
        }
      },
      "source": [
        "model = vanillaLSTM(\n",
        "  n_features=1, \n",
        "  n_hidden=512, \n",
        "  seq_len=seq_length, \n",
        "  n_layers=2\n",
        ")\n",
        "model, train_hist, test_hist = train_model(\n",
        "  model, \n",
        "  X_train, \n",
        "  y_train, \n",
        "  X_test, \n",
        "  y_test\n",
        ")"
      ],
      "execution_count": null,
      "outputs": [
        {
          "output_type": "stream",
          "text": [
            "Epoch 0 train loss: 49.68014907836914 test loss: 4.296288967132568\n",
            "Epoch 10 train loss: 11.760491371154785 test loss: 1.2036906480789185\n",
            "Epoch 20 train loss: 8.300226211547852 test loss: 0.817054033279419\n",
            "Epoch 30 train loss: 8.358680725097656 test loss: 0.7815330624580383\n",
            "Epoch 40 train loss: 8.329060554504395 test loss: 0.8130291700363159\n",
            "Epoch 50 train loss: 8.317010879516602 test loss: 0.7833806276321411\n"
          ],
          "name": "stdout"
        }
      ]
    },
    {
      "cell_type": "code",
      "metadata": {
        "id": "HLV1Xe7z1RnM",
        "outputId": "0d2f5469-1bb2-4a5b-b102-2005120f7136",
        "colab": {
          "base_uri": "https://localhost:8080/",
          "height": 269
        }
      },
      "source": [
        "plt.plot(train_hist, label=\"Training loss\")\n",
        "plt.plot(test_hist, label=\"Test loss\")\n",
        "plt.ylim((0, 5))\n",
        "plt.legend();"
      ],
      "execution_count": null,
      "outputs": [
        {
          "output_type": "display_data",
          "data": {
            "image/png": "[encoded data removed]",
            "text/plain": [
              "<Figure size 432x288 with 1 Axes>"
            ]
          },
          "metadata": {
            "tags": [],
            "needs_background": "light"
          }
        }
      ]
    },
    {
      "cell_type": "code",
      "metadata": {
        "id": "XTkQMvZZ2TCB",
        "outputId": "87582bd0-44fc-4c5a-f5f6-139026bc6421",
        "colab": {
          "base_uri": "https://localhost:8080/",
          "height": 282
        }
      },
      "source": [
        "plt.plot(train_hist, label=\"Training loss\")"
      ],
      "execution_count": null,
      "outputs": [
        {
          "output_type": "execute_result",
          "data": {
            "text/plain": [
              "[<matplotlib.lines.Line2D at 0x7fa2f72bff60>]"
            ]
          },
          "metadata": {
            "tags": []
          },
          "execution_count": 53
        },
        {
          "output_type": "display_data",
          "data": {
            "image/png": "[encoded data removed]",
            "text/plain": [
              "<Figure size 432x288 with 1 Axes>"
            ]
          },
          "metadata": {
            "tags": [],
            "needs_background": "light"
          }
        }
      ]
    },
    {
      "cell_type": "code",
      "metadata": {
        "id": "FCWBL_lA1bWz"
      },
      "source": [
        "def mean_absolute_percentage_error(y_true, y_pred):\n",
        "    return np.mean(np.abs((y_true - y_pred) / y_true)) * 100"
      ],
      "execution_count": null,
      "outputs": []
    },
    {
      "cell_type": "code",
      "metadata": {
        "id": "Smm4fpcZ1iF6"
      },
      "source": [
        "DAYS_TO_PREDICT = 25\n",
        "\n",
        "with torch.no_grad():\n",
        "  test_seq = X_test[:1]\n",
        "  preds = []\n",
        "  for _ in range(DAYS_TO_PREDICT):\n",
        "    y_test_pred = model(test_seq)\n",
        "    pred = torch.flatten(y_test_pred).item()\n",
        "    preds.append(pred)\n",
        "    new_seq = test_seq.numpy().flatten()\n",
        "    new_seq = np.append(new_seq, [pred])\n",
        "    new_seq = new_seq[1:]\n",
        "    test_seq = torch.as_tensor(new_seq).view(1, seq_length, 1).float()"
      ],
      "execution_count": null,
      "outputs": []
    },
    {
      "cell_type": "code",
      "metadata": {
        "id": "idyb6JuB3V7K",
        "outputId": "2d45ba83-db78-4ac9-8ebc-7aadef8ffbcc",
        "colab": {
          "base_uri": "https://localhost:8080/"
        }
      },
      "source": [
        "y_test.shape"
      ],
      "execution_count": null,
      "outputs": [
        {
          "output_type": "execute_result",
          "data": {
            "text/plain": [
              "torch.Size([25, 1])"
            ]
          },
          "metadata": {
            "tags": []
          },
          "execution_count": 63
        }
      ]
    },
    {
      "cell_type": "code",
      "metadata": {
        "id": "j8lTey1N2Xfb"
      },
      "source": [
        "true_cases = scaler.inverse_transform(\n",
        "    np.expand_dims(y_test.flatten().numpy(), axis=0)\n",
        ").flatten()\n",
        "\n",
        "predicted_cases = scaler.inverse_transform(\n",
        "  np.expand_dims(preds, axis=0)\n",
        ").flatten()"
      ],
      "execution_count": null,
      "outputs": []
    },
    {
      "cell_type": "code",
      "metadata": {
        "id": "TUh95xhy2t2r",
        "outputId": "835822d5-0d56-4330-8679-559b2b56926e",
        "colab": {
          "base_uri": "https://localhost:8080/"
        }
      },
      "source": [
        "true_cases.shape"
      ],
      "execution_count": null,
      "outputs": [
        {
          "output_type": "execute_result",
          "data": {
            "text/plain": [
              "(25,)"
            ]
          },
          "metadata": {
            "tags": []
          },
          "execution_count": 65
        }
      ]
    },
    {
      "cell_type": "code",
      "metadata": {
        "id": "JMizyZDu2we0",
        "outputId": "fd445b82-cf8f-450b-b4d2-81e25d90b3da",
        "colab": {
          "base_uri": "https://localhost:8080/"
        }
      },
      "source": [
        "predicted_cases.shape"
      ],
      "execution_count": null,
      "outputs": [
        {
          "output_type": "execute_result",
          "data": {
            "text/plain": [
              "(25,)"
            ]
          },
          "metadata": {
            "tags": []
          },
          "execution_count": 66
        }
      ]
    },
    {
      "cell_type": "code",
      "metadata": {
        "id": "iWZWCdvW2xr3",
        "outputId": "757f315b-79ff-4546-d658-8e198698aa5c",
        "colab": {
          "base_uri": "https://localhost:8080/"
        }
      },
      "source": [
        "print(mean_absolute_percentage_error(true_cases, predicted_cases))\n",
        "print(mean_absolute_percentage_error(sum(true_cases), sum(predicted_cases)))"
      ],
      "execution_count": null,
      "outputs": [
        {
          "output_type": "stream",
          "text": [
            "30.857965450091836\n",
            "6.756520298896366\n"
          ],
          "name": "stdout"
        }
      ]
    },
    {
      "cell_type": "code",
      "metadata": {
        "id": "hppr_kk027iF"
      },
      "source": [
        ""
      ],
      "execution_count": null,
      "outputs": []
    }
  ]
}