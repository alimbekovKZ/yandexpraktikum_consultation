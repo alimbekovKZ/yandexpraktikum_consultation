{
 "cells": [
  {
   "cell_type": "markdown",
   "metadata": {},
   "source": [
    "## Создадим конфиги"
   ]
  },
  {
   "cell_type": "code",
   "execution_count": 4,
   "metadata": {},
   "outputs": [
    {
     "name": "stdout",
     "output_type": "stream",
     "text": [
      "Save config: experiments/base_config.yml\n",
      "Save config: experiments/split_train_test_config.yml\n",
      "Save config: experiments/featurize_config.yml\n",
      "Save config: experiments/train_config.yml\n",
      "Save config: experiments/evaluate_config.yml\n"
     ]
    }
   ],
   "source": [
    "!python src/pipelines/prepare_configs.py --config=config/pipeline_config.yml"
   ]
  },
  {
   "cell_type": "markdown",
   "metadata": {},
   "source": [
    "## Подготовим признаки"
   ]
  },
  {
   "cell_type": "code",
   "execution_count": 8,
   "metadata": {},
   "outputs": [],
   "source": [
    "!python src/pipelines/featurize.py --config=experiments/featurize_config.yml"
   ]
  },
  {
   "cell_type": "markdown",
   "metadata": {},
   "source": [
    "## Разбиение на выборки"
   ]
  },
  {
   "cell_type": "code",
   "execution_count": 9,
   "metadata": {},
   "outputs": [],
   "source": [
    "!python src/pipelines/split_train_test.py --config=experiments/split_train_test_config.yml --base_config=config/pipeline_config.yml"
   ]
  },
  {
   "cell_type": "markdown",
   "metadata": {},
   "source": [
    "## Обучение модели"
   ]
  },
  {
   "cell_type": "code",
   "execution_count": 12,
   "metadata": {},
   "outputs": [
    {
     "name": "stdout",
     "output_type": "stream",
     "text": [
      "COMET INFO: old comet version (3.0.2) detected. current: 3.2.3 please update your comet lib with command: `pip install --no-cache-dir --upgrade comet_ml`\n",
      "COMET INFO: Experiment is live on comet.ml https://www.comet.ml/alimbekovkz/yandex-project/9bc9dbd4a8e74aaa9eee1705e9e1bb9a\n",
      "\n",
      "Fitting 5 folds for each of 8 candidates, totalling 40 fits\n",
      "[Parallel(n_jobs=1)]: Using backend SequentialBackend with 1 concurrent workers.\n",
      "[Parallel(n_jobs=1)]: Done  40 out of  40 | elapsed:    0.0s finished\n",
      "/home/renat/anaconda3/lib/python3.7/site-packages/sklearn/model_selection/_search.py:849: FutureWarning: The parameter 'iid' is deprecated in 0.22 and will be removed in 0.24.\n",
      "  \"removed in 0.24.\", FutureWarning\n",
      "0.9573570426821202\n",
      "COMET INFO: ----------------------------\n",
      "COMET INFO: Comet.ml Experiment Summary:\n",
      "COMET INFO:   Data:\n",
      "COMET INFO:     url: https://www.comet.ml/alimbekovkz/yandex-project/9bc9dbd4a8e74aaa9eee1705e9e1bb9a\n",
      "COMET INFO:   Metrics [count] (min, max):\n",
      "COMET INFO:     mean_fit_time [8]        : (0.00030069351196289064, 0.0004987239837646485)\n",
      "COMET INFO:     mean_score_time [8]      : (0.0005337715148925782, 0.0006535530090332031)\n",
      "COMET INFO:     mean_test_score [8]      : (0.8823093670462091, 0.9573570426821202)\n",
      "COMET INFO:     param_C [8]              : (0.1, 1.0)\n",
      "COMET INFO:     param_degree [8]         : (3.0, 5.0)\n",
      "COMET INFO:     param_gamma [8]          : scale\n",
      "COMET INFO:     param_kernel [8]         : linear\n",
      "COMET INFO:     rank_test_score [8]      : (1.0, 7.0)\n",
      "COMET INFO:     split0_test_score [8]    : (0.9584967320261436, 1.0)\n",
      "COMET INFO:     split1_test_score [8]    : (0.7090909090909091, 0.9581699346405229)\n",
      "COMET INFO:     split2_test_score [8]    : (0.8222222222222223, 0.9153439153439153)\n",
      "COMET INFO:     split3_test_score [8]    : (0.9581699346405229, 1.0)\n",
      "COMET INFO:     split4_test_score [8]    : (0.8704453441295547, 0.9581699346405229)\n",
      "COMET INFO:     std_fit_time [8]         : (3.315990190642111e-06, 3.691206266663375e-05)\n",
      "COMET INFO:     std_score_time [8]       : (3.4942762299654505e-06, 0.0001748584289968658)\n",
      "COMET INFO:     std_test_score [8]       : (0.04731132750112415, 0.0925159563488695)\n",
      "COMET INFO:     sys.cpu.percent.01       : (7.0, 7.0)\n",
      "COMET INFO:     sys.cpu.percent.02       : (2.0, 2.0)\n",
      "COMET INFO:     sys.cpu.percent.03       : (3.0, 3.0)\n",
      "COMET INFO:     sys.cpu.percent.04       : (3.9, 3.9)\n",
      "COMET INFO:     sys.cpu.percent.05       : (20.1, 20.1)\n",
      "COMET INFO:     sys.cpu.percent.06       : (2.3, 2.3)\n",
      "COMET INFO:     sys.cpu.percent.07       : (9.4, 9.4)\n",
      "COMET INFO:     sys.cpu.percent.08       : (3.6, 3.6)\n",
      "COMET INFO:     sys.cpu.percent.09       : (2.3, 2.3)\n",
      "COMET INFO:     sys.cpu.percent.10       : (9.4, 9.4)\n",
      "COMET INFO:     sys.cpu.percent.11       : (9.2, 9.2)\n",
      "COMET INFO:     sys.cpu.percent.12       : (1.8, 1.8)\n",
      "COMET INFO:     sys.cpu.percent.13       : (2.8, 2.8)\n",
      "COMET INFO:     sys.cpu.percent.14       : (7.1, 7.1)\n",
      "COMET INFO:     sys.cpu.percent.15       : (5.4, 5.4)\n",
      "COMET INFO:     sys.cpu.percent.16       : (1.5, 1.5)\n",
      "COMET INFO:     sys.cpu.percent.avg      : (5.674999999999999, 5.674999999999999)\n",
      "COMET INFO:     sys.gpu.0.free_memory    : (11156062208.0, 11156062208.0)\n",
      "COMET INFO:     sys.gpu.0.gpu_utilization: (8.0, 8.0)\n",
      "COMET INFO:     sys.gpu.0.total_memory   : (11554717696.0, 11554717696.0)\n",
      "COMET INFO:     sys.gpu.0.used_memory    : (398655488.0, 398655488.0)\n",
      "COMET INFO:     sys.load.avg             : (0.74, 0.74)\n",
      "COMET INFO:     sys.ram.total            : (33330774016.0, 33330774016.0)\n",
      "COMET INFO:     sys.ram.used             : (3671293952.0, 3671293952.0)\n",
      "COMET INFO: ----------------------------\n",
      "COMET INFO: Uploading stats to Comet before program termination (may take several seconds)\n",
      "COMET INFO: Still uploading\n"
     ]
    }
   ],
   "source": [
    "!python src/pipelines/train.py --config=experiments/train_config.yml --base_config=config/pipeline_config.yml"
   ]
  },
  {
   "cell_type": "markdown",
   "metadata": {},
   "source": [
    "## Измерение качества модели"
   ]
  },
  {
   "cell_type": "code",
   "execution_count": 13,
   "metadata": {},
   "outputs": [
    {
     "name": "stdout",
     "output_type": "stream",
     "text": [
      "COMET INFO: old comet version (3.0.2) detected. current: 3.2.3 please update your comet lib with command: `pip install --no-cache-dir --upgrade comet_ml`\n",
      "COMET INFO: Experiment is live on comet.ml https://www.comet.ml/alimbekovkz/yandex-project/6d54f45b00cf4f648748304d30881b40\n",
      "\n",
      "{'f1_score': 1.0, 'confusion_matrix': [[10, 0, 0], [0, 9, 0], [0, 0, 11]]}\n",
      "COMET WARNING: Cannot safely convert [[10, 0, 0], [0, 9, 0], [0, 0, 11]] object to a scalar value, using it string representation for logging.\n",
      "COMET INFO: Uploading stats to Comet before program termination (may take several seconds)\n",
      "COMET INFO: Still uploading\n"
     ]
    }
   ],
   "source": [
    "!python src/pipelines/evaluate.py \\\n",
    "    --config=experiments/evaluate_config.yml \\\n",
    "    --base_config=config/pipeline_config.yml"
   ]
  },
  {
   "cell_type": "code",
   "execution_count": null,
   "metadata": {},
   "outputs": [],
   "source": []
  }
 ],
 "metadata": {
  "kernelspec": {
   "display_name": "Python 3",
   "language": "python",
   "name": "python3"
  },
  "language_info": {
   "codemirror_mode": {
    "name": "ipython",
    "version": 3
   },
   "file_extension": ".py",
   "mimetype": "text/x-python",
   "name": "python",
   "nbconvert_exporter": "python",
   "pygments_lexer": "ipython3",
   "version": "3.7.3"
  }
 },
 "nbformat": 4,
 "nbformat_minor": 2
}
