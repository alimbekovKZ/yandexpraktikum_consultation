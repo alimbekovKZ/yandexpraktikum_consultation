{
 "cells": [
  {
   "cell_type": "code",
   "execution_count": 1,
   "metadata": {
    "execution": {
     "iopub.execute_input": "2020-12-25T10:45:46.566813Z",
     "iopub.status.busy": "2020-12-25T10:45:46.566130Z",
     "iopub.status.idle": "2020-12-25T10:45:47.362630Z",
     "shell.execute_reply": "2020-12-25T10:45:47.361566Z"
    },
    "papermill": {
     "duration": 0.819717,
     "end_time": "2020-12-25T10:45:47.362787",
     "exception": false,
     "start_time": "2020-12-25T10:45:46.543070",
     "status": "completed"
    },
    "tags": []
   },
   "outputs": [],
   "source": [
    "import os\n",
    "\n",
    "import pandas as pd\n",
    "\n",
    "from matplotlib import pyplot as plt\n",
    "import seaborn as sns"
   ]
  },
  {
   "cell_type": "code",
   "execution_count": 2,
   "metadata": {
    "execution": {
     "iopub.execute_input": "2020-12-25T10:45:47.397366Z",
     "iopub.status.busy": "2020-12-25T10:45:47.396553Z",
     "iopub.status.idle": "2020-12-25T10:45:47.402866Z",
     "shell.execute_reply": "2020-12-25T10:45:47.402438Z"
    },
    "papermill": {
     "duration": 0.024593,
     "end_time": "2020-12-25T10:45:47.402953",
     "exception": false,
     "start_time": "2020-12-25T10:45:47.378360",
     "status": "completed"
    },
    "tags": []
   },
   "outputs": [
    {
     "data": {
      "text/plain": [
       "['train_tfrecords',\n",
       " 'sample_submission.csv',\n",
       " 'test_tfrecords',\n",
       " 'label_num_to_disease_map.json',\n",
       " 'train_images',\n",
       " 'train.csv',\n",
       " 'test_images']"
      ]
     },
     "execution_count": 2,
     "metadata": {},
     "output_type": "execute_result"
    }
   ],
   "source": [
    "os.listdir('../input/cassava-leaf-disease-classification')"
   ]
  },
  {
   "cell_type": "code",
   "execution_count": 3,
   "metadata": {
    "execution": {
     "iopub.execute_input": "2020-12-25T10:45:47.439611Z",
     "iopub.status.busy": "2020-12-25T10:45:47.439086Z",
     "iopub.status.idle": "2020-12-25T10:45:47.717700Z",
     "shell.execute_reply": "2020-12-25T10:45:47.717254Z"
    },
    "papermill": {
     "duration": 0.299328,
     "end_time": "2020-12-25T10:45:47.717819",
     "exception": false,
     "start_time": "2020-12-25T10:45:47.418491",
     "status": "completed"
    },
    "tags": []
   },
   "outputs": [
    {
     "data": {
      "text/html": [
       "<div>\n",
       "<style scoped>\n",
       "    .dataframe tbody tr th:only-of-type {\n",
       "        vertical-align: middle;\n",
       "    }\n",
       "\n",
       "    .dataframe tbody tr th {\n",
       "        vertical-align: top;\n",
       "    }\n",
       "\n",
       "    .dataframe thead th {\n",
       "        text-align: right;\n",
       "    }\n",
       "</style>\n",
       "<table border=\"1\" class=\"dataframe\">\n",
       "  <thead>\n",
       "    <tr style=\"text-align: right;\">\n",
       "      <th></th>\n",
       "      <th>image_id</th>\n",
       "      <th>label</th>\n",
       "    </tr>\n",
       "  </thead>\n",
       "  <tbody>\n",
       "    <tr>\n",
       "      <th>0</th>\n",
       "      <td>1000015157.jpg</td>\n",
       "      <td>0</td>\n",
       "    </tr>\n",
       "    <tr>\n",
       "      <th>1</th>\n",
       "      <td>1000201771.jpg</td>\n",
       "      <td>3</td>\n",
       "    </tr>\n",
       "    <tr>\n",
       "      <th>2</th>\n",
       "      <td>100042118.jpg</td>\n",
       "      <td>1</td>\n",
       "    </tr>\n",
       "    <tr>\n",
       "      <th>3</th>\n",
       "      <td>1000723321.jpg</td>\n",
       "      <td>1</td>\n",
       "    </tr>\n",
       "    <tr>\n",
       "      <th>4</th>\n",
       "      <td>1000812911.jpg</td>\n",
       "      <td>3</td>\n",
       "    </tr>\n",
       "  </tbody>\n",
       "</table>\n",
       "</div>"
      ],
      "text/plain": [
       "         image_id  label\n",
       "0  1000015157.jpg      0\n",
       "1  1000201771.jpg      3\n",
       "2   100042118.jpg      1\n",
       "3  1000723321.jpg      1\n",
       "4  1000812911.jpg      3"
      ]
     },
     "metadata": {},
     "output_type": "display_data"
    },
    {
     "data": {
      "text/html": [
       "<div>\n",
       "<style scoped>\n",
       "    .dataframe tbody tr th:only-of-type {\n",
       "        vertical-align: middle;\n",
       "    }\n",
       "\n",
       "    .dataframe tbody tr th {\n",
       "        vertical-align: top;\n",
       "    }\n",
       "\n",
       "    .dataframe thead th {\n",
       "        text-align: right;\n",
       "    }\n",
       "</style>\n",
       "<table border=\"1\" class=\"dataframe\">\n",
       "  <thead>\n",
       "    <tr style=\"text-align: right;\">\n",
       "      <th></th>\n",
       "      <th>image_id</th>\n",
       "      <th>label</th>\n",
       "    </tr>\n",
       "  </thead>\n",
       "  <tbody>\n",
       "    <tr>\n",
       "      <th>0</th>\n",
       "      <td>2216849948.jpg</td>\n",
       "      <td>4</td>\n",
       "    </tr>\n",
       "  </tbody>\n",
       "</table>\n",
       "</div>"
      ],
      "text/plain": [
       "         image_id  label\n",
       "0  2216849948.jpg      4"
      ]
     },
     "metadata": {},
     "output_type": "display_data"
    },
    {
     "data": {
      "text/html": [
       "<div>\n",
       "<style scoped>\n",
       "    .dataframe tbody tr th:only-of-type {\n",
       "        vertical-align: middle;\n",
       "    }\n",
       "\n",
       "    .dataframe tbody tr th {\n",
       "        vertical-align: top;\n",
       "    }\n",
       "\n",
       "    .dataframe thead th {\n",
       "        text-align: right;\n",
       "    }\n",
       "</style>\n",
       "<table border=\"1\" class=\"dataframe\">\n",
       "  <thead>\n",
       "    <tr style=\"text-align: right;\">\n",
       "      <th></th>\n",
       "      <th>0</th>\n",
       "    </tr>\n",
       "  </thead>\n",
       "  <tbody>\n",
       "    <tr>\n",
       "      <th>0</th>\n",
       "      <td>Cassava Bacterial Blight (CBB)</td>\n",
       "    </tr>\n",
       "    <tr>\n",
       "      <th>1</th>\n",
       "      <td>Cassava Brown Streak Disease (CBSD)</td>\n",
       "    </tr>\n",
       "    <tr>\n",
       "      <th>2</th>\n",
       "      <td>Cassava Green Mottle (CGM)</td>\n",
       "    </tr>\n",
       "    <tr>\n",
       "      <th>3</th>\n",
       "      <td>Cassava Mosaic Disease (CMD)</td>\n",
       "    </tr>\n",
       "    <tr>\n",
       "      <th>4</th>\n",
       "      <td>Healthy</td>\n",
       "    </tr>\n",
       "  </tbody>\n",
       "</table>\n",
       "</div>"
      ],
      "text/plain": [
       "                                     0\n",
       "0       Cassava Bacterial Blight (CBB)\n",
       "1  Cassava Brown Streak Disease (CBSD)\n",
       "2           Cassava Green Mottle (CGM)\n",
       "3         Cassava Mosaic Disease (CMD)\n",
       "4                              Healthy"
      ]
     },
     "metadata": {},
     "output_type": "display_data"
    }
   ],
   "source": [
    "train = pd.read_csv('../input/cassava-leaf-disease-classification/train.csv')\n",
    "test = pd.read_csv('../input/cassava-leaf-disease-classification/sample_submission.csv')\n",
    "label_map = pd.read_json('../input/cassava-leaf-disease-classification/label_num_to_disease_map.json', \n",
    "                         orient='index')\n",
    "display(train.head())\n",
    "display(test.head())\n",
    "display(label_map)"
   ]
  },
  {
   "cell_type": "code",
   "execution_count": 4,
   "metadata": {
    "execution": {
     "iopub.execute_input": "2020-12-25T10:45:47.756316Z",
     "iopub.status.busy": "2020-12-25T10:45:47.755792Z",
     "iopub.status.idle": "2020-12-25T10:45:47.995266Z",
     "shell.execute_reply": "2020-12-25T10:45:47.994345Z"
    },
    "papermill": {
     "duration": 0.2602,
     "end_time": "2020-12-25T10:45:47.995358",
     "exception": false,
     "start_time": "2020-12-25T10:45:47.735158",
     "status": "completed"
    },
    "tags": []
   },
   "outputs": [
    {
     "data": {
      "text/plain": [
       "<matplotlib.axes._subplots.AxesSubplot at 0x7f19f2229250>"
      ]
     },
     "execution_count": 4,
     "metadata": {},
     "output_type": "execute_result"
    },
    {
     "data": {
      "image/png": "[encoded data removed]",
      "text/plain": [
       "<Figure size 432x288 with 1 Axes>"
      ]
     },
     "metadata": {
      "needs_background": "light"
     },
     "output_type": "display_data"
    }
   ],
   "source": [
    "sns.distplot(train['label'], kde=False)"
   ]
  },
  {
   "cell_type": "code",
   "execution_count": 5,
   "metadata": {
    "execution": {
     "iopub.execute_input": "2020-12-25T10:45:48.035574Z",
     "iopub.status.busy": "2020-12-25T10:45:48.034829Z",
     "iopub.status.idle": "2020-12-25T10:45:48.037558Z",
     "shell.execute_reply": "2020-12-25T10:45:48.037149Z"
    },
    "papermill": {
     "duration": 0.024649,
     "end_time": "2020-12-25T10:45:48.037661",
     "exception": false,
     "start_time": "2020-12-25T10:45:48.013012",
     "status": "completed"
    },
    "tags": []
   },
   "outputs": [],
   "source": [
    "import os\n",
    "\n",
    "OUTPUT_DIR = './'\n",
    "if not os.path.exists(OUTPUT_DIR):\n",
    "    os.makedirs(OUTPUT_DIR)\n",
    "\n",
    "TRAIN_PATH = '../input/cassava-leaf-disease-classification/train_images'\n",
    "TEST_PATH = '../input/cassava-leaf-disease-classification/test_images'"
   ]
  },
  {
   "cell_type": "code",
   "execution_count": 6,
   "metadata": {
    "execution": {
     "iopub.execute_input": "2020-12-25T10:45:48.081480Z",
     "iopub.status.busy": "2020-12-25T10:45:48.080880Z",
     "iopub.status.idle": "2020-12-25T10:45:48.083809Z",
     "shell.execute_reply": "2020-12-25T10:45:48.083390Z"
    },
    "papermill": {
     "duration": 0.028298,
     "end_time": "2020-12-25T10:45:48.083895",
     "exception": false,
     "start_time": "2020-12-25T10:45:48.055597",
     "status": "completed"
    },
    "tags": []
   },
   "outputs": [],
   "source": [
    "class CFG:\n",
    "    debug=False\n",
    "    apex=False\n",
    "    print_freq=100\n",
    "    num_workers=4\n",
    "    model_name='resnext50_32x4d'\n",
    "    size=256\n",
    "    scheduler='ReduceLROnPlateau' # ['CosineAnnealingWarmRestarts', 'CosineAnnealingLR', 'CosineAnnealingWarmRestarts']\n",
    "    epochs=10\n",
    "    factor=0.2 # ReduceLROnPlateau\n",
    "    patience=4 # ReduceLROnPlateau\n",
    "    eps=1e-6 # ReduceLROnPlateau\n",
    "    #T_max=10 # CosineAnnealingLR\n",
    "    #T_0=10 # CosineAnnealingWarmRestarts\n",
    "    lr=1e-4\n",
    "    min_lr=1e-6\n",
    "    batch_size=32\n",
    "    weight_decay=1e-6\n",
    "    gradient_accumulation_steps=1\n",
    "    max_grad_norm=1000\n",
    "    seed=42\n",
    "    target_size=5\n",
    "    target_col='label'\n",
    "    n_fold=5\n",
    "    trn_fold=[0, 1, 2, 3, 4]\n",
    "    train=True\n",
    "    inference=False\n",
    "    \n",
    "if CFG.debug:\n",
    "    CFG.epochs = 1\n",
    "    train = train.sample(n=1000, random_state=CFG.seed).reset_index(drop=True)"
   ]
  },
  {
   "cell_type": "code",
   "execution_count": 7,
   "metadata": {
    "execution": {
     "iopub.execute_input": "2020-12-25T10:45:48.194316Z",
     "iopub.status.busy": "2020-12-25T10:45:48.193589Z",
     "iopub.status.idle": "2020-12-25T10:45:51.306427Z",
     "shell.execute_reply": "2020-12-25T10:45:51.305918Z"
    },
    "papermill": {
     "duration": 3.205272,
     "end_time": "2020-12-25T10:45:51.306527",
     "exception": false,
     "start_time": "2020-12-25T10:45:48.101255",
     "status": "completed"
    },
    "tags": []
   },
   "outputs": [],
   "source": [
    "import sys\n",
    "sys.path.append('../input/pytorch-image-models/pytorch-image-models-master')\n",
    "\n",
    "import os\n",
    "import math\n",
    "import time\n",
    "import random\n",
    "import shutil\n",
    "from pathlib import Path\n",
    "from contextlib import contextmanager\n",
    "from collections import defaultdict, Counter\n",
    "\n",
    "import scipy as sp\n",
    "import numpy as np\n",
    "import pandas as pd\n",
    "\n",
    "from sklearn import preprocessing\n",
    "from sklearn.metrics import accuracy_score\n",
    "from sklearn.model_selection import StratifiedKFold\n",
    "\n",
    "from tqdm.auto import tqdm\n",
    "from functools import partial\n",
    "\n",
    "import cv2\n",
    "from PIL import Image\n",
    "\n",
    "import torch\n",
    "import torch.nn as nn\n",
    "import torch.nn.functional as F\n",
    "from torch.optim import Adam, SGD\n",
    "import torchvision.models as models\n",
    "from torch.nn.parameter import Parameter\n",
    "from torch.utils.data import DataLoader, Dataset\n",
    "from torch.optim.lr_scheduler import CosineAnnealingWarmRestarts, CosineAnnealingLR, ReduceLROnPlateau\n",
    "\n",
    "from albumentations import (\n",
    "    Compose, OneOf, Normalize, Resize, RandomResizedCrop, RandomCrop, HorizontalFlip, VerticalFlip, \n",
    "    RandomBrightness, RandomContrast, RandomBrightnessContrast, Rotate, ShiftScaleRotate, Cutout, \n",
    "    IAAAdditiveGaussianNoise, Transpose, RandomRotate90, CoarseDropout, OpticalDistortion, HueSaturationValue, RandomBrightnessContrast\n",
    "    )\n",
    "from albumentations.pytorch import ToTensorV2\n",
    "from albumentations import ImageOnlyTransform\n",
    "\n",
    "import timm\n",
    "\n",
    "import warnings \n",
    "warnings.filterwarnings('ignore')\n",
    "\n",
    "if CFG.apex:\n",
    "    from apex import amp\n",
    "\n",
    "device = torch.device('cuda' if torch.cuda.is_available() else 'cpu')"
   ]
  },
  {
   "cell_type": "code",
   "execution_count": 8,
   "metadata": {
    "execution": {
     "iopub.execute_input": "2020-12-25T10:45:51.352727Z",
     "iopub.status.busy": "2020-12-25T10:45:51.352086Z",
     "iopub.status.idle": "2020-12-25T10:45:51.358342Z",
     "shell.execute_reply": "2020-12-25T10:45:51.357911Z"
    },
    "papermill": {
     "duration": 0.033855,
     "end_time": "2020-12-25T10:45:51.358420",
     "exception": false,
     "start_time": "2020-12-25T10:45:51.324565",
     "status": "completed"
    },
    "tags": []
   },
   "outputs": [],
   "source": [
    "def get_score(y_true, y_pred):\n",
    "    return accuracy_score(y_true, y_pred)\n",
    "\n",
    "\n",
    "@contextmanager\n",
    "def timer(name):\n",
    "    t0 = time.time()\n",
    "    LOGGER.info(f'[{name}] start')\n",
    "    yield\n",
    "    LOGGER.info(f'[{name}] done in {time.time() - t0:.0f} s.')\n",
    "\n",
    "\n",
    "def init_logger(log_file=OUTPUT_DIR+'train.log'):\n",
    "    from logging import getLogger, INFO, FileHandler,  Formatter,  StreamHandler\n",
    "    logger = getLogger(__name__)\n",
    "    logger.setLevel(INFO)\n",
    "    handler1 = StreamHandler()\n",
    "    handler1.setFormatter(Formatter(\"%(message)s\"))\n",
    "    handler2 = FileHandler(filename=log_file)\n",
    "    handler2.setFormatter(Formatter(\"%(message)s\"))\n",
    "    logger.addHandler(handler1)\n",
    "    logger.addHandler(handler2)\n",
    "    return logger\n",
    "\n",
    "LOGGER = init_logger()\n",
    "\n",
    "\n",
    "def seed_torch(seed=42):\n",
    "    random.seed(seed)\n",
    "    os.environ['PYTHONHASHSEED'] = str(seed)\n",
    "    np.random.seed(seed)\n",
    "    torch.manual_seed(seed)\n",
    "    torch.cuda.manual_seed(seed)\n",
    "    torch.backends.cudnn.deterministic = True\n",
    "\n",
    "seed_torch(seed=CFG.seed)"
   ]
  },
  {
   "cell_type": "code",
   "execution_count": 9,
   "metadata": {
    "execution": {
     "iopub.execute_input": "2020-12-25T10:45:51.401032Z",
     "iopub.status.busy": "2020-12-25T10:45:51.400215Z",
     "iopub.status.idle": "2020-12-25T10:45:51.423495Z",
     "shell.execute_reply": "2020-12-25T10:45:51.423932Z"
    },
    "papermill": {
     "duration": 0.047914,
     "end_time": "2020-12-25T10:45:51.424038",
     "exception": false,
     "start_time": "2020-12-25T10:45:51.376124",
     "status": "completed"
    },
    "tags": []
   },
   "outputs": [
    {
     "name": "stdout",
     "output_type": "stream",
     "text": [
      "fold  label\n",
      "0     0         218\n",
      "      1         438\n",
      "      2         477\n",
      "      3        2631\n",
      "      4         516\n",
      "1     0         218\n",
      "      1         438\n",
      "      2         477\n",
      "      3        2631\n",
      "      4         516\n",
      "2     0         217\n",
      "      1         438\n",
      "      2         477\n",
      "      3        2632\n",
      "      4         515\n",
      "3     0         217\n",
      "      1         438\n",
      "      2         477\n",
      "      3        2632\n",
      "      4         515\n",
      "4     0         217\n",
      "      1         437\n",
      "      2         478\n",
      "      3        2632\n",
      "      4         515\n",
      "dtype: int64\n"
     ]
    }
   ],
   "source": [
    "folds = train.copy()\n",
    "Fold = StratifiedKFold(n_splits=CFG.n_fold, shuffle=True, random_state=CFG.seed)\n",
    "for n, (train_index, val_index) in enumerate(Fold.split(folds, folds[CFG.target_col])):\n",
    "    folds.loc[val_index, 'fold'] = int(n)\n",
    "folds['fold'] = folds['fold'].astype(int)\n",
    "print(folds.groupby(['fold', CFG.target_col]).size())"
   ]
  },
  {
   "cell_type": "code",
   "execution_count": 10,
   "metadata": {
    "execution": {
     "iopub.execute_input": "2020-12-25T10:45:51.472004Z",
     "iopub.status.busy": "2020-12-25T10:45:51.471326Z",
     "iopub.status.idle": "2020-12-25T10:45:51.473741Z",
     "shell.execute_reply": "2020-12-25T10:45:51.474111Z"
    },
    "papermill": {
     "duration": 0.032315,
     "end_time": "2020-12-25T10:45:51.474212",
     "exception": false,
     "start_time": "2020-12-25T10:45:51.441897",
     "status": "completed"
    },
    "tags": []
   },
   "outputs": [],
   "source": [
    "class TrainDataset(Dataset):\n",
    "    def __init__(self, df, transform=None):\n",
    "        self.df = df\n",
    "        self.file_names = df['image_id'].values\n",
    "        self.labels = df['label'].values\n",
    "        self.transform = transform\n",
    "        \n",
    "    def __len__(self):\n",
    "        return len(self.df)\n",
    "\n",
    "    def __getitem__(self, idx):\n",
    "        file_name = self.file_names[idx]\n",
    "        file_path = f'{TRAIN_PATH}/{file_name}'\n",
    "        image = cv2.imread(file_path)\n",
    "        image = cv2.cvtColor(image, cv2.COLOR_BGR2RGB)\n",
    "        if self.transform:\n",
    "            augmented = self.transform(image=image)\n",
    "            image = augmented['image']\n",
    "        label = torch.tensor(self.labels[idx]).long()\n",
    "        return image, label\n",
    "    \n",
    "\n",
    "class TestDataset(Dataset):\n",
    "    def __init__(self, df, transform=None):\n",
    "        self.df = df\n",
    "        self.file_names = df['image_id'].values\n",
    "        self.transform = transform\n",
    "        \n",
    "    def __len__(self):\n",
    "        return len(self.df)\n",
    "\n",
    "    def __getitem__(self, idx):\n",
    "        file_name = self.file_names[idx]\n",
    "        file_path = f'{TEST_PATH}/{file_name}'\n",
    "        image = cv2.imread(file_path)\n",
    "        image = cv2.cvtColor(image, cv2.COLOR_BGR2RGB)\n",
    "        if self.transform:\n",
    "            augmented = self.transform(image=image)\n",
    "            image = augmented['image']\n",
    "        return image"
   ]
  },
  {
   "cell_type": "code",
   "execution_count": 11,
   "metadata": {
    "execution": {
     "iopub.execute_input": "2020-12-25T10:45:51.514320Z",
     "iopub.status.busy": "2020-12-25T10:45:51.513607Z",
     "iopub.status.idle": "2020-12-25T10:45:51.516531Z",
     "shell.execute_reply": "2020-12-25T10:45:51.516099Z"
    },
    "papermill": {
     "duration": 0.0248,
     "end_time": "2020-12-25T10:45:51.516615",
     "exception": false,
     "start_time": "2020-12-25T10:45:51.491815",
     "status": "completed"
    },
    "tags": []
   },
   "outputs": [],
   "source": [
    "train_dataset = TrainDataset(train, transform=None)\n",
    "\n",
    "# for i in range(1):\n",
    "#     image, label = train_dataset[i]\n",
    "#     plt.imshow(image)\n",
    "#     plt.title(f'label: {label}')\n",
    "#     plt.show() "
   ]
  },
  {
   "cell_type": "code",
   "execution_count": 12,
   "metadata": {
    "execution": {
     "iopub.execute_input": "2020-12-25T10:45:51.562049Z",
     "iopub.status.busy": "2020-12-25T10:45:51.559224Z",
     "iopub.status.idle": "2020-12-25T10:45:51.564364Z",
     "shell.execute_reply": "2020-12-25T10:45:51.564793Z"
    },
    "papermill": {
     "duration": 0.030647,
     "end_time": "2020-12-25T10:45:51.564889",
     "exception": false,
     "start_time": "2020-12-25T10:45:51.534242",
     "status": "completed"
    },
    "tags": []
   },
   "outputs": [],
   "source": [
    "def get_transforms(*, data):\n",
    "    num_holes = 50\n",
    "    max_width = int(((CFG.size*CFG.size)/(num_holes*10))**(1/2))\n",
    "    if data == 'train':\n",
    "        return Compose([\n",
    "            #Resize(CFG.size, CFG.size),\n",
    "            CoarseDropout(num_holes, max_width, max_width, p=0.5),\n",
    "            RandomResizedCrop(CFG.size, CFG.size),\n",
    "            Transpose(p=0.5),\n",
    "            HorizontalFlip(p=0.5),\n",
    "            VerticalFlip(p=0.5),\n",
    "            ShiftScaleRotate(p=0.5),\n",
    "            HueSaturationValue(hue_shift_limit=0.2, sat_shift_limit=0.2, val_shift_limit=0.2, p=0.5),\n",
    "            RandomBrightnessContrast(brightness_limit=(-0.1, 0.1), contrast_limit=(-0.1, 0.1), p=0.5),\n",
    "            Normalize(\n",
    "                mean=[0.485, 0.456, 0.406],\n",
    "                std=[0.229, 0.224, 0.225],\n",
    "            ),\n",
    "            ToTensorV2(),\n",
    "        ])\n",
    "\n",
    "    elif data == 'valid':\n",
    "        return Compose([\n",
    "            Resize(CFG.size, CFG.size),\n",
    "            Normalize(\n",
    "                mean=[0.485, 0.456, 0.406],\n",
    "                std=[0.229, 0.224, 0.225],\n",
    "            ),\n",
    "            ToTensorV2(),\n",
    "        ])"
   ]
  },
  {
   "cell_type": "code",
   "execution_count": 13,
   "metadata": {
    "execution": {
     "iopub.execute_input": "2020-12-25T10:45:51.608979Z",
     "iopub.status.busy": "2020-12-25T10:45:51.608319Z",
     "iopub.status.idle": "2020-12-25T10:45:51.838493Z",
     "shell.execute_reply": "2020-12-25T10:45:51.838923Z"
    },
    "papermill": {
     "duration": 0.255153,
     "end_time": "2020-12-25T10:45:51.839040",
     "exception": false,
     "start_time": "2020-12-25T10:45:51.583887",
     "status": "completed"
    },
    "tags": []
   },
   "outputs": [
    {
     "data": {
      "image/png": "[encoded data removed]",
      "text/plain": [
       "<Figure size 432x288 with 1 Axes>"
      ]
     },
     "metadata": {
      "needs_background": "light"
     },
     "output_type": "display_data"
    }
   ],
   "source": [
    "train_dataset = TrainDataset(train, transform=get_transforms(data='train'))\n",
    "\n",
    "for i in range(1):\n",
    "    image, label = train_dataset[i]\n",
    "    plt.imshow(image[0])\n",
    "    plt.title(f'label: {label}')\n",
    "    plt.show() "
   ]
  },
  {
   "cell_type": "code",
   "execution_count": 14,
   "metadata": {
    "execution": {
     "iopub.execute_input": "2020-12-25T10:45:51.889622Z",
     "iopub.status.busy": "2020-12-25T10:45:51.888394Z",
     "iopub.status.idle": "2020-12-25T10:45:51.891408Z",
     "shell.execute_reply": "2020-12-25T10:45:51.890979Z"
    },
    "papermill": {
     "duration": 0.030393,
     "end_time": "2020-12-25T10:45:51.891488",
     "exception": false,
     "start_time": "2020-12-25T10:45:51.861095",
     "status": "completed"
    },
    "tags": []
   },
   "outputs": [],
   "source": [
    "class CustomResNext(nn.Module):\n",
    "    def __init__(self, model_name='resnext50_32x4d', pretrained=False):\n",
    "        super().__init__()\n",
    "        self.model = timm.create_model(model_name, pretrained=pretrained)\n",
    "        n_features = self.model.fc.in_features\n",
    "        self.model.fc = nn.Linear(n_features, CFG.target_size)\n",
    "\n",
    "    def forward(self, x):\n",
    "        x = self.model(x)\n",
    "        return x"
   ]
  },
  {
   "cell_type": "code",
   "execution_count": 15,
   "metadata": {
    "execution": {
     "iopub.execute_input": "2020-12-25T10:45:51.943025Z",
     "iopub.status.busy": "2020-12-25T10:45:51.942456Z",
     "iopub.status.idle": "2020-12-25T10:45:58.232006Z",
     "shell.execute_reply": "2020-12-25T10:45:58.231385Z"
    },
    "papermill": {
     "duration": 6.319913,
     "end_time": "2020-12-25T10:45:58.232152",
     "exception": false,
     "start_time": "2020-12-25T10:45:51.912239",
     "status": "completed"
    },
    "tags": []
   },
   "outputs": [
    {
     "name": "stdout",
     "output_type": "stream",
     "text": [
      "tensor([[ 0.2510, -0.0262,  0.0266,  0.3416, -0.0656],\n",
      "        [ 0.1314,  0.0629,  0.0426,  0.6245,  0.1267],\n",
      "        [ 0.0892,  0.0820,  0.0485,  0.3608,  0.0199],\n",
      "        [ 0.0525,  0.0910,  0.0889,  0.5509,  0.0408]],\n",
      "       grad_fn=<AddmmBackward>)\n"
     ]
    }
   ],
   "source": [
    "model = CustomResNext(model_name=CFG.model_name, pretrained=False)\n",
    "train_dataset = TrainDataset(train, transform=get_transforms(data='train'))\n",
    "train_loader = DataLoader(train_dataset, batch_size=4, shuffle=True,\n",
    "                          num_workers=4, pin_memory=True, drop_last=True)\n",
    "\n",
    "for image, label in train_loader:\n",
    "    output = model(image)\n",
    "    print(output)\n",
    "    break"
   ]
  },
  {
   "cell_type": "code",
   "execution_count": 16,
   "metadata": {
    "execution": {
     "iopub.execute_input": "2020-12-25T10:45:58.282479Z",
     "iopub.status.busy": "2020-12-25T10:45:58.281054Z",
     "iopub.status.idle": "2020-12-25T10:45:58.285766Z",
     "shell.execute_reply": "2020-12-25T10:45:58.286170Z"
    },
    "papermill": {
     "duration": 0.032959,
     "end_time": "2020-12-25T10:45:58.286267",
     "exception": false,
     "start_time": "2020-12-25T10:45:58.253308",
     "status": "completed"
    },
    "tags": []
   },
   "outputs": [
    {
     "data": {
      "text/plain": [
       "CustomResNext(\n",
       "  (model): ResNet(\n",
       "    (conv1): Conv2d(3, 64, kernel_size=(7, 7), stride=(2, 2), padding=(3, 3), bias=False)\n",
       "    (bn1): BatchNorm2d(64, eps=1e-05, momentum=0.1, affine=True, track_running_stats=True)\n",
       "    (act1): ReLU(inplace=True)\n",
       "    (maxpool): MaxPool2d(kernel_size=3, stride=2, padding=1, dilation=1, ceil_mode=False)\n",
       "    (layer1): Sequential(\n",
       "      (0): Bottleneck(\n",
       "        (conv1): Conv2d(64, 128, kernel_size=(1, 1), stride=(1, 1), bias=False)\n",
       "        (bn1): BatchNorm2d(128, eps=1e-05, momentum=0.1, affine=True, track_running_stats=True)\n",
       "        (act1): ReLU(inplace=True)\n",
       "        (conv2): Conv2d(128, 128, kernel_size=(3, 3), stride=(1, 1), padding=(1, 1), groups=32, bias=False)\n",
       "        (bn2): BatchNorm2d(128, eps=1e-05, momentum=0.1, affine=True, track_running_stats=True)\n",
       "        (act2): ReLU(inplace=True)\n",
       "        (conv3): Conv2d(128, 256, kernel_size=(1, 1), stride=(1, 1), bias=False)\n",
       "        (bn3): BatchNorm2d(256, eps=1e-05, momentum=0.1, affine=True, track_running_stats=True)\n",
       "        (act3): ReLU(inplace=True)\n",
       "        (downsample): Sequential(\n",
       "          (0): Conv2d(64, 256, kernel_size=(1, 1), stride=(1, 1), bias=False)\n",
       "          (1): BatchNorm2d(256, eps=1e-05, momentum=0.1, affine=True, track_running_stats=True)\n",
       "        )\n",
       "      )\n",
       "      (1): Bottleneck(\n",
       "        (conv1): Conv2d(256, 128, kernel_size=(1, 1), stride=(1, 1), bias=False)\n",
       "        (bn1): BatchNorm2d(128, eps=1e-05, momentum=0.1, affine=True, track_running_stats=True)\n",
       "        (act1): ReLU(inplace=True)\n",
       "        (conv2): Conv2d(128, 128, kernel_size=(3, 3), stride=(1, 1), padding=(1, 1), groups=32, bias=False)\n",
       "        (bn2): BatchNorm2d(128, eps=1e-05, momentum=0.1, affine=True, track_running_stats=True)\n",
       "        (act2): ReLU(inplace=True)\n",
       "        (conv3): Conv2d(128, 256, kernel_size=(1, 1), stride=(1, 1), bias=False)\n",
       "        (bn3): BatchNorm2d(256, eps=1e-05, momentum=0.1, affine=True, track_running_stats=True)\n",
       "        (act3): ReLU(inplace=True)\n",
       "      )\n",
       "      (2): Bottleneck(\n",
       "        (conv1): Conv2d(256, 128, kernel_size=(1, 1), stride=(1, 1), bias=False)\n",
       "        (bn1): BatchNorm2d(128, eps=1e-05, momentum=0.1, affine=True, track_running_stats=True)\n",
       "        (act1): ReLU(inplace=True)\n",
       "        (conv2): Conv2d(128, 128, kernel_size=(3, 3), stride=(1, 1), padding=(1, 1), groups=32, bias=False)\n",
       "        (bn2): BatchNorm2d(128, eps=1e-05, momentum=0.1, affine=True, track_running_stats=True)\n",
       "        (act2): ReLU(inplace=True)\n",
       "        (conv3): Conv2d(128, 256, kernel_size=(1, 1), stride=(1, 1), bias=False)\n",
       "        (bn3): BatchNorm2d(256, eps=1e-05, momentum=0.1, affine=True, track_running_stats=True)\n",
       "        (act3): ReLU(inplace=True)\n",
       "      )\n",
       "    )\n",
       "    (layer2): Sequential(\n",
       "      (0): Bottleneck(\n",
       "        (conv1): Conv2d(256, 256, kernel_size=(1, 1), stride=(1, 1), bias=False)\n",
       "        (bn1): BatchNorm2d(256, eps=1e-05, momentum=0.1, affine=True, track_running_stats=True)\n",
       "        (act1): ReLU(inplace=True)\n",
       "        (conv2): Conv2d(256, 256, kernel_size=(3, 3), stride=(2, 2), padding=(1, 1), groups=32, bias=False)\n",
       "        (bn2): BatchNorm2d(256, eps=1e-05, momentum=0.1, affine=True, track_running_stats=True)\n",
       "        (act2): ReLU(inplace=True)\n",
       "        (conv3): Conv2d(256, 512, kernel_size=(1, 1), stride=(1, 1), bias=False)\n",
       "        (bn3): BatchNorm2d(512, eps=1e-05, momentum=0.1, affine=True, track_running_stats=True)\n",
       "        (act3): ReLU(inplace=True)\n",
       "        (downsample): Sequential(\n",
       "          (0): Conv2d(256, 512, kernel_size=(1, 1), stride=(2, 2), bias=False)\n",
       "          (1): BatchNorm2d(512, eps=1e-05, momentum=0.1, affine=True, track_running_stats=True)\n",
       "        )\n",
       "      )\n",
       "      (1): Bottleneck(\n",
       "        (conv1): Conv2d(512, 256, kernel_size=(1, 1), stride=(1, 1), bias=False)\n",
       "        (bn1): BatchNorm2d(256, eps=1e-05, momentum=0.1, affine=True, track_running_stats=True)\n",
       "        (act1): ReLU(inplace=True)\n",
       "        (conv2): Conv2d(256, 256, kernel_size=(3, 3), stride=(1, 1), padding=(1, 1), groups=32, bias=False)\n",
       "        (bn2): BatchNorm2d(256, eps=1e-05, momentum=0.1, affine=True, track_running_stats=True)\n",
       "        (act2): ReLU(inplace=True)\n",
       "        (conv3): Conv2d(256, 512, kernel_size=(1, 1), stride=(1, 1), bias=False)\n",
       "        (bn3): BatchNorm2d(512, eps=1e-05, momentum=0.1, affine=True, track_running_stats=True)\n",
       "        (act3): ReLU(inplace=True)\n",
       "      )\n",
       "      (2): Bottleneck(\n",
       "        (conv1): Conv2d(512, 256, kernel_size=(1, 1), stride=(1, 1), bias=False)\n",
       "        (bn1): BatchNorm2d(256, eps=1e-05, momentum=0.1, affine=True, track_running_stats=True)\n",
       "        (act1): ReLU(inplace=True)\n",
       "        (conv2): Conv2d(256, 256, kernel_size=(3, 3), stride=(1, 1), padding=(1, 1), groups=32, bias=False)\n",
       "        (bn2): BatchNorm2d(256, eps=1e-05, momentum=0.1, affine=True, track_running_stats=True)\n",
       "        (act2): ReLU(inplace=True)\n",
       "        (conv3): Conv2d(256, 512, kernel_size=(1, 1), stride=(1, 1), bias=False)\n",
       "        (bn3): BatchNorm2d(512, eps=1e-05, momentum=0.1, affine=True, track_running_stats=True)\n",
       "        (act3): ReLU(inplace=True)\n",
       "      )\n",
       "      (3): Bottleneck(\n",
       "        (conv1): Conv2d(512, 256, kernel_size=(1, 1), stride=(1, 1), bias=False)\n",
       "        (bn1): BatchNorm2d(256, eps=1e-05, momentum=0.1, affine=True, track_running_stats=True)\n",
       "        (act1): ReLU(inplace=True)\n",
       "        (conv2): Conv2d(256, 256, kernel_size=(3, 3), stride=(1, 1), padding=(1, 1), groups=32, bias=False)\n",
       "        (bn2): BatchNorm2d(256, eps=1e-05, momentum=0.1, affine=True, track_running_stats=True)\n",
       "        (act2): ReLU(inplace=True)\n",
       "        (conv3): Conv2d(256, 512, kernel_size=(1, 1), stride=(1, 1), bias=False)\n",
       "        (bn3): BatchNorm2d(512, eps=1e-05, momentum=0.1, affine=True, track_running_stats=True)\n",
       "        (act3): ReLU(inplace=True)\n",
       "      )\n",
       "    )\n",
       "    (layer3): Sequential(\n",
       "      (0): Bottleneck(\n",
       "        (conv1): Conv2d(512, 512, kernel_size=(1, 1), stride=(1, 1), bias=False)\n",
       "        (bn1): BatchNorm2d(512, eps=1e-05, momentum=0.1, affine=True, track_running_stats=True)\n",
       "        (act1): ReLU(inplace=True)\n",
       "        (conv2): Conv2d(512, 512, kernel_size=(3, 3), stride=(2, 2), padding=(1, 1), groups=32, bias=False)\n",
       "        (bn2): BatchNorm2d(512, eps=1e-05, momentum=0.1, affine=True, track_running_stats=True)\n",
       "        (act2): ReLU(inplace=True)\n",
       "        (conv3): Conv2d(512, 1024, kernel_size=(1, 1), stride=(1, 1), bias=False)\n",
       "        (bn3): BatchNorm2d(1024, eps=1e-05, momentum=0.1, affine=True, track_running_stats=True)\n",
       "        (act3): ReLU(inplace=True)\n",
       "        (downsample): Sequential(\n",
       "          (0): Conv2d(512, 1024, kernel_size=(1, 1), stride=(2, 2), bias=False)\n",
       "          (1): BatchNorm2d(1024, eps=1e-05, momentum=0.1, affine=True, track_running_stats=True)\n",
       "        )\n",
       "      )\n",
       "      (1): Bottleneck(\n",
       "        (conv1): Conv2d(1024, 512, kernel_size=(1, 1), stride=(1, 1), bias=False)\n",
       "        (bn1): BatchNorm2d(512, eps=1e-05, momentum=0.1, affine=True, track_running_stats=True)\n",
       "        (act1): ReLU(inplace=True)\n",
       "        (conv2): Conv2d(512, 512, kernel_size=(3, 3), stride=(1, 1), padding=(1, 1), groups=32, bias=False)\n",
       "        (bn2): BatchNorm2d(512, eps=1e-05, momentum=0.1, affine=True, track_running_stats=True)\n",
       "        (act2): ReLU(inplace=True)\n",
       "        (conv3): Conv2d(512, 1024, kernel_size=(1, 1), stride=(1, 1), bias=False)\n",
       "        (bn3): BatchNorm2d(1024, eps=1e-05, momentum=0.1, affine=True, track_running_stats=True)\n",
       "        (act3): ReLU(inplace=True)\n",
       "      )\n",
       "      (2): Bottleneck(\n",
       "        (conv1): Conv2d(1024, 512, kernel_size=(1, 1), stride=(1, 1), bias=False)\n",
       "        (bn1): BatchNorm2d(512, eps=1e-05, momentum=0.1, affine=True, track_running_stats=True)\n",
       "        (act1): ReLU(inplace=True)\n",
       "        (conv2): Conv2d(512, 512, kernel_size=(3, 3), stride=(1, 1), padding=(1, 1), groups=32, bias=False)\n",
       "        (bn2): BatchNorm2d(512, eps=1e-05, momentum=0.1, affine=True, track_running_stats=True)\n",
       "        (act2): ReLU(inplace=True)\n",
       "        (conv3): Conv2d(512, 1024, kernel_size=(1, 1), stride=(1, 1), bias=False)\n",
       "        (bn3): BatchNorm2d(1024, eps=1e-05, momentum=0.1, affine=True, track_running_stats=True)\n",
       "        (act3): ReLU(inplace=True)\n",
       "      )\n",
       "      (3): Bottleneck(\n",
       "        (conv1): Conv2d(1024, 512, kernel_size=(1, 1), stride=(1, 1), bias=False)\n",
       "        (bn1): BatchNorm2d(512, eps=1e-05, momentum=0.1, affine=True, track_running_stats=True)\n",
       "        (act1): ReLU(inplace=True)\n",
       "        (conv2): Conv2d(512, 512, kernel_size=(3, 3), stride=(1, 1), padding=(1, 1), groups=32, bias=False)\n",
       "        (bn2): BatchNorm2d(512, eps=1e-05, momentum=0.1, affine=True, track_running_stats=True)\n",
       "        (act2): ReLU(inplace=True)\n",
       "        (conv3): Conv2d(512, 1024, kernel_size=(1, 1), stride=(1, 1), bias=False)\n",
       "        (bn3): BatchNorm2d(1024, eps=1e-05, momentum=0.1, affine=True, track_running_stats=True)\n",
       "        (act3): ReLU(inplace=True)\n",
       "      )\n",
       "      (4): Bottleneck(\n",
       "        (conv1): Conv2d(1024, 512, kernel_size=(1, 1), stride=(1, 1), bias=False)\n",
       "        (bn1): BatchNorm2d(512, eps=1e-05, momentum=0.1, affine=True, track_running_stats=True)\n",
       "        (act1): ReLU(inplace=True)\n",
       "        (conv2): Conv2d(512, 512, kernel_size=(3, 3), stride=(1, 1), padding=(1, 1), groups=32, bias=False)\n",
       "        (bn2): BatchNorm2d(512, eps=1e-05, momentum=0.1, affine=True, track_running_stats=True)\n",
       "        (act2): ReLU(inplace=True)\n",
       "        (conv3): Conv2d(512, 1024, kernel_size=(1, 1), stride=(1, 1), bias=False)\n",
       "        (bn3): BatchNorm2d(1024, eps=1e-05, momentum=0.1, affine=True, track_running_stats=True)\n",
       "        (act3): ReLU(inplace=True)\n",
       "      )\n",
       "      (5): Bottleneck(\n",
       "        (conv1): Conv2d(1024, 512, kernel_size=(1, 1), stride=(1, 1), bias=False)\n",
       "        (bn1): BatchNorm2d(512, eps=1e-05, momentum=0.1, affine=True, track_running_stats=True)\n",
       "        (act1): ReLU(inplace=True)\n",
       "        (conv2): Conv2d(512, 512, kernel_size=(3, 3), stride=(1, 1), padding=(1, 1), groups=32, bias=False)\n",
       "        (bn2): BatchNorm2d(512, eps=1e-05, momentum=0.1, affine=True, track_running_stats=True)\n",
       "        (act2): ReLU(inplace=True)\n",
       "        (conv3): Conv2d(512, 1024, kernel_size=(1, 1), stride=(1, 1), bias=False)\n",
       "        (bn3): BatchNorm2d(1024, eps=1e-05, momentum=0.1, affine=True, track_running_stats=True)\n",
       "        (act3): ReLU(inplace=True)\n",
       "      )\n",
       "    )\n",
       "    (layer4): Sequential(\n",
       "      (0): Bottleneck(\n",
       "        (conv1): Conv2d(1024, 1024, kernel_size=(1, 1), stride=(1, 1), bias=False)\n",
       "        (bn1): BatchNorm2d(1024, eps=1e-05, momentum=0.1, affine=True, track_running_stats=True)\n",
       "        (act1): ReLU(inplace=True)\n",
       "        (conv2): Conv2d(1024, 1024, kernel_size=(3, 3), stride=(2, 2), padding=(1, 1), groups=32, bias=False)\n",
       "        (bn2): BatchNorm2d(1024, eps=1e-05, momentum=0.1, affine=True, track_running_stats=True)\n",
       "        (act2): ReLU(inplace=True)\n",
       "        (conv3): Conv2d(1024, 2048, kernel_size=(1, 1), stride=(1, 1), bias=False)\n",
       "        (bn3): BatchNorm2d(2048, eps=1e-05, momentum=0.1, affine=True, track_running_stats=True)\n",
       "        (act3): ReLU(inplace=True)\n",
       "        (downsample): Sequential(\n",
       "          (0): Conv2d(1024, 2048, kernel_size=(1, 1), stride=(2, 2), bias=False)\n",
       "          (1): BatchNorm2d(2048, eps=1e-05, momentum=0.1, affine=True, track_running_stats=True)\n",
       "        )\n",
       "      )\n",
       "      (1): Bottleneck(\n",
       "        (conv1): Conv2d(2048, 1024, kernel_size=(1, 1), stride=(1, 1), bias=False)\n",
       "        (bn1): BatchNorm2d(1024, eps=1e-05, momentum=0.1, affine=True, track_running_stats=True)\n",
       "        (act1): ReLU(inplace=True)\n",
       "        (conv2): Conv2d(1024, 1024, kernel_size=(3, 3), stride=(1, 1), padding=(1, 1), groups=32, bias=False)\n",
       "        (bn2): BatchNorm2d(1024, eps=1e-05, momentum=0.1, affine=True, track_running_stats=True)\n",
       "        (act2): ReLU(inplace=True)\n",
       "        (conv3): Conv2d(1024, 2048, kernel_size=(1, 1), stride=(1, 1), bias=False)\n",
       "        (bn3): BatchNorm2d(2048, eps=1e-05, momentum=0.1, affine=True, track_running_stats=True)\n",
       "        (act3): ReLU(inplace=True)\n",
       "      )\n",
       "      (2): Bottleneck(\n",
       "        (conv1): Conv2d(2048, 1024, kernel_size=(1, 1), stride=(1, 1), bias=False)\n",
       "        (bn1): BatchNorm2d(1024, eps=1e-05, momentum=0.1, affine=True, track_running_stats=True)\n",
       "        (act1): ReLU(inplace=True)\n",
       "        (conv2): Conv2d(1024, 1024, kernel_size=(3, 3), stride=(1, 1), padding=(1, 1), groups=32, bias=False)\n",
       "        (bn2): BatchNorm2d(1024, eps=1e-05, momentum=0.1, affine=True, track_running_stats=True)\n",
       "        (act2): ReLU(inplace=True)\n",
       "        (conv3): Conv2d(1024, 2048, kernel_size=(1, 1), stride=(1, 1), bias=False)\n",
       "        (bn3): BatchNorm2d(2048, eps=1e-05, momentum=0.1, affine=True, track_running_stats=True)\n",
       "        (act3): ReLU(inplace=True)\n",
       "      )\n",
       "    )\n",
       "    (global_pool): SelectAdaptivePool2d (pool_type=avg, flatten=True)\n",
       "    (fc): Linear(in_features=2048, out_features=5, bias=True)\n",
       "  )\n",
       ")"
      ]
     },
     "execution_count": 16,
     "metadata": {},
     "output_type": "execute_result"
    }
   ],
   "source": [
    "model"
   ]
  },
  {
   "cell_type": "code",
   "execution_count": 17,
   "metadata": {
    "execution": {
     "iopub.execute_input": "2020-12-25T10:45:58.340088Z",
     "iopub.status.busy": "2020-12-25T10:45:58.338771Z",
     "iopub.status.idle": "2020-12-25T10:45:58.341622Z",
     "shell.execute_reply": "2020-12-25T10:45:58.341231Z"
    },
    "papermill": {
     "duration": 0.03359,
     "end_time": "2020-12-25T10:45:58.341721",
     "exception": false,
     "start_time": "2020-12-25T10:45:58.308131",
     "status": "completed"
    },
    "tags": []
   },
   "outputs": [],
   "source": [
    "class AverageMeter(object):\n",
    "    def __init__(self):\n",
    "        self.reset()\n",
    "\n",
    "    def reset(self):\n",
    "        self.val = 0\n",
    "        self.avg = 0\n",
    "        self.sum = 0\n",
    "        self.count = 0\n",
    "\n",
    "    def update(self, val, n=1):\n",
    "        self.val = val\n",
    "        self.sum += val * n\n",
    "        self.count += n\n",
    "        self.avg = self.sum / self.count\n",
    "\n",
    "\n",
    "def asMinutes(s):\n",
    "    m = math.floor(s / 60)\n",
    "    s -= m * 60\n",
    "    return '%dm %ds' % (m, s)\n",
    "\n",
    "\n",
    "def timeSince(since, percent):\n",
    "    now = time.time()\n",
    "    s = now - since\n",
    "    es = s / (percent)\n",
    "    rs = es - s\n",
    "    return '%s (remain %s)' % (asMinutes(s), asMinutes(rs))"
   ]
  },
  {
   "cell_type": "code",
   "execution_count": 18,
   "metadata": {
    "execution": {
     "iopub.execute_input": "2020-12-25T10:45:58.412366Z",
     "iopub.status.busy": "2020-12-25T10:45:58.402479Z",
     "iopub.status.idle": "2020-12-25T10:45:58.414505Z",
     "shell.execute_reply": "2020-12-25T10:45:58.414909Z"
    },
    "papermill": {
     "duration": 0.051945,
     "end_time": "2020-12-25T10:45:58.415007",
     "exception": false,
     "start_time": "2020-12-25T10:45:58.363062",
     "status": "completed"
    },
    "tags": []
   },
   "outputs": [],
   "source": [
    "def train_fn(train_loader, model, criterion, optimizer, epoch, scheduler, device):\n",
    "    batch_time = AverageMeter()\n",
    "    data_time = AverageMeter()\n",
    "    losses = AverageMeter()\n",
    "    scores = AverageMeter()\n",
    "    model.train()\n",
    "    start = end = time.time()\n",
    "    global_step = 0\n",
    "    for step, (images, labels) in enumerate(train_loader):\n",
    "        data_time.update(time.time() - end)\n",
    "        images = images.to(device)\n",
    "        labels = labels.to(device)\n",
    "        batch_size = labels.size(0)\n",
    "        y_preds = model(images)\n",
    "        loss = criterion(y_preds, labels)\n",
    "        losses.update(loss.item(), batch_size)\n",
    "        if CFG.gradient_accumulation_steps > 1:\n",
    "            loss = loss / CFG.gradient_accumulation_steps\n",
    "        if CFG.apex:\n",
    "            with amp.scale_loss(loss, optimizer) as scaled_loss:\n",
    "                scaled_loss.backward()\n",
    "        else:\n",
    "            loss.backward()\n",
    "        grad_norm = torch.nn.utils.clip_grad_norm_(model.parameters(), CFG.max_grad_norm)\n",
    "        if (step + 1) % CFG.gradient_accumulation_steps == 0:\n",
    "            optimizer.step()\n",
    "            optimizer.zero_grad()\n",
    "            global_step += 1\n",
    "        batch_time.update(time.time() - end)\n",
    "        end = time.time()\n",
    "        if step % CFG.print_freq == 0 or step == (len(train_loader)-1):\n",
    "            print('Epoch: [{0}][{1}/{2}] '\n",
    "                  'Data {data_time.val:.3f} ({data_time.avg:.3f}) '\n",
    "                  'Elapsed {remain:s} '\n",
    "                  'Loss: {loss.val:.4f}({loss.avg:.4f}) '\n",
    "                  'Grad: {grad_norm:.4f}  '\n",
    "                  #'LR: {lr:.6f}  '\n",
    "                  .format(\n",
    "                   epoch+1, step, len(train_loader), batch_time=batch_time,\n",
    "                   data_time=data_time, loss=losses,\n",
    "                   remain=timeSince(start, float(step+1)/len(train_loader)),\n",
    "                   grad_norm=grad_norm,\n",
    "                   #lr=scheduler.get_lr()[0],\n",
    "                   ))\n",
    "    return losses.avg\n",
    "\n",
    "\n",
    "def valid_fn(valid_loader, model, criterion, device):\n",
    "    batch_time = AverageMeter()\n",
    "    data_time = AverageMeter()\n",
    "    losses = AverageMeter()\n",
    "    scores = AverageMeter()\n",
    "    model.eval()\n",
    "    preds = []\n",
    "    start = end = time.time()\n",
    "    for step, (images, labels) in enumerate(valid_loader):\n",
    "        data_time.update(time.time() - end)\n",
    "        images = images.to(device)\n",
    "        labels = labels.to(device)\n",
    "        batch_size = labels.size(0)\n",
    "        with torch.no_grad():\n",
    "            y_preds = model(images)\n",
    "        loss = criterion(y_preds, labels)\n",
    "        losses.update(loss.item(), batch_size)\n",
    "        preds.append(y_preds.softmax(1).to('cpu').numpy())\n",
    "        if CFG.gradient_accumulation_steps > 1:\n",
    "            loss = loss / CFG.gradient_accumulation_steps\n",
    "        batch_time.update(time.time() - end)\n",
    "        end = time.time()\n",
    "        if step % CFG.print_freq == 0 or step == (len(valid_loader)-1):\n",
    "            print('EVAL: [{0}/{1}] '\n",
    "                  'Data {data_time.val:.3f} ({data_time.avg:.3f}) '\n",
    "                  'Elapsed {remain:s} '\n",
    "                  'Loss: {loss.val:.4f}({loss.avg:.4f}) '\n",
    "                  .format(\n",
    "                   step, len(valid_loader), batch_time=batch_time,\n",
    "                   data_time=data_time, loss=losses,\n",
    "                   remain=timeSince(start, float(step+1)/len(valid_loader)),\n",
    "                   ))\n",
    "    predictions = np.concatenate(preds)\n",
    "    return losses.avg, predictions\n",
    "\n",
    "\n",
    "def inference(model, states, test_loader, device):\n",
    "    model.to(device)\n",
    "    tk0 = tqdm(enumerate(test_loader), total=len(test_loader))\n",
    "    probs = []\n",
    "    for i, (images) in tk0:\n",
    "        images = images.to(device)\n",
    "        avg_preds = []\n",
    "        for state in states:\n",
    "            model.load_state_dict(state['model'])\n",
    "            model.eval()\n",
    "            with torch.no_grad():\n",
    "                y_preds = model(images)\n",
    "            avg_preds.append(y_preds.softmax(1).to('cpu').numpy())\n",
    "        avg_preds = np.mean(avg_preds, axis=0)\n",
    "        probs.append(avg_preds)\n",
    "    probs = np.concatenate(probs)\n",
    "    return probs"
   ]
  },
  {
   "cell_type": "code",
   "execution_count": 19,
   "metadata": {
    "_cell_guid": "b1076dfc-b9ad-4769-8c92-a6c4dae69d19",
    "_uuid": "8f2839f25d086af736a60e9eeb907d3b93b6e0e5",
    "execution": {
     "iopub.execute_input": "2020-12-25T10:45:58.481143Z",
     "iopub.status.busy": "2020-12-25T10:45:58.471373Z",
     "iopub.status.idle": "2020-12-25T10:45:58.483589Z",
     "shell.execute_reply": "2020-12-25T10:45:58.483193Z"
    },
    "papermill": {
     "duration": 0.047,
     "end_time": "2020-12-25T10:45:58.483686",
     "exception": false,
     "start_time": "2020-12-25T10:45:58.436686",
     "status": "completed"
    },
    "tags": []
   },
   "outputs": [],
   "source": [
    "def train_loop(folds, fold):\n",
    "\n",
    "    LOGGER.info(f\"========== fold: {fold} training ==========\")\n",
    "\n",
    "    trn_idx = folds[folds['fold'] != fold].index\n",
    "    val_idx = folds[folds['fold'] == fold].index\n",
    "\n",
    "    train_folds = folds.loc[trn_idx].reset_index(drop=True)\n",
    "    valid_folds = folds.loc[val_idx].reset_index(drop=True)\n",
    "\n",
    "    train_dataset = TrainDataset(train_folds, \n",
    "                                 transform=get_transforms(data='train'))\n",
    "    valid_dataset = TrainDataset(valid_folds, \n",
    "                                 transform=get_transforms(data='valid'))\n",
    "\n",
    "    train_loader = DataLoader(train_dataset, \n",
    "                              batch_size=CFG.batch_size, \n",
    "                              shuffle=True, \n",
    "                              num_workers=CFG.num_workers, pin_memory=True, drop_last=True)\n",
    "    valid_loader = DataLoader(valid_dataset, \n",
    "                              batch_size=CFG.batch_size, \n",
    "                              shuffle=False, \n",
    "                              num_workers=CFG.num_workers, pin_memory=True, drop_last=False)\n",
    "    \n",
    "    def get_scheduler(optimizer):\n",
    "        if CFG.scheduler=='ReduceLROnPlateau':\n",
    "            scheduler = ReduceLROnPlateau(optimizer, mode='min', factor=CFG.factor, patience=CFG.patience, verbose=True, eps=CFG.eps)\n",
    "        elif CFG.scheduler=='CosineAnnealingLR':\n",
    "            scheduler = CosineAnnealingLR(optimizer, T_max=CFG.T_max, eta_min=CFG.min_lr, last_epoch=-1)\n",
    "        elif CFG.scheduler=='CosineAnnealingWarmRestarts':\n",
    "            scheduler = CosineAnnealingWarmRestarts(optimizer, T_0=CFG.T_0, T_mult=1, eta_min=CFG.min_lr, last_epoch=-1)\n",
    "        return scheduler\n",
    "\n",
    "    model = CustomResNext(CFG.model_name, pretrained=True)\n",
    "    model.to(device)\n",
    "\n",
    "    optimizer = Adam(model.parameters(), lr=CFG.lr, weight_decay=CFG.weight_decay, amsgrad=False)\n",
    "    scheduler = get_scheduler(optimizer)\n",
    "\n",
    "    if CFG.apex:\n",
    "        model, optimizer = amp.initialize(model, optimizer, opt_level='O1', verbosity=0)\n",
    "\n",
    "    criterion = nn.CrossEntropyLoss()\n",
    "\n",
    "    best_score = 0.\n",
    "    best_loss = np.inf\n",
    "    \n",
    "    for epoch in range(CFG.epochs):\n",
    "        \n",
    "        start_time = time.time()\n",
    "        \n",
    "        avg_loss = train_fn(train_loader, model, criterion, optimizer, epoch, scheduler, device)\n",
    "\n",
    "        avg_val_loss, preds = valid_fn(valid_loader, model, criterion, device)\n",
    "        valid_labels = valid_folds[CFG.target_col].values\n",
    "        \n",
    "        if isinstance(scheduler, ReduceLROnPlateau):\n",
    "            scheduler.step(avg_val_loss)\n",
    "        elif isinstance(scheduler, CosineAnnealingLR):\n",
    "            scheduler.step()\n",
    "        elif isinstance(scheduler, CosineAnnealingWarmRestarts):\n",
    "            scheduler.step()\n",
    "\n",
    "        # scoring\n",
    "        score = get_score(valid_labels, preds.argmax(1))\n",
    "\n",
    "        elapsed = time.time() - start_time\n",
    "\n",
    "        LOGGER.info(f'Epoch {epoch+1} - avg_train_loss: {avg_loss:.4f}  avg_val_loss: {avg_val_loss:.4f}  time: {elapsed:.0f}s')\n",
    "        LOGGER.info(f'Epoch {epoch+1} - Accuracy: {score}')\n",
    "\n",
    "        if score > best_score:\n",
    "            best_score = score\n",
    "            LOGGER.info(f'Epoch {epoch+1} - Save Best Score: {best_score:.4f} Model')\n",
    "            torch.save({'model': model.state_dict(), \n",
    "                        'preds': preds},\n",
    "                        OUTPUT_DIR+f'{CFG.model_name}_fold{fold}_best.pth')\n",
    "    \n",
    "    check_point = torch.load(OUTPUT_DIR+f'{CFG.model_name}_fold{fold}_best.pth')\n",
    "    valid_folds[[str(c) for c in range(5)]] = check_point['preds']\n",
    "    valid_folds['preds'] = check_point['preds'].argmax(1)\n",
    "\n",
    "    return valid_folds"
   ]
  },
  {
   "cell_type": "code",
   "execution_count": 20,
   "metadata": {
    "execution": {
     "iopub.execute_input": "2020-12-25T10:45:58.538860Z",
     "iopub.status.busy": "2020-12-25T10:45:58.538218Z",
     "iopub.status.idle": "2020-12-25T10:45:58.541069Z",
     "shell.execute_reply": "2020-12-25T10:45:58.540553Z"
    },
    "papermill": {
     "duration": 0.035443,
     "end_time": "2020-12-25T10:45:58.541146",
     "exception": false,
     "start_time": "2020-12-25T10:45:58.505703",
     "status": "completed"
    },
    "tags": []
   },
   "outputs": [],
   "source": [
    "def main():\n",
    "\n",
    "    def get_result(result_df):\n",
    "        preds = result_df['preds'].values\n",
    "        labels = result_df[CFG.target_col].values\n",
    "        score = get_score(labels, preds)\n",
    "        LOGGER.info(f'Score: {score:<.5f}')\n",
    "    \n",
    "    if CFG.train:\n",
    "        oof_df = pd.DataFrame()\n",
    "        for fold in range(CFG.n_fold):\n",
    "            if fold in CFG.trn_fold:\n",
    "                _oof_df = train_loop(folds, fold)\n",
    "                oof_df = pd.concat([oof_df, _oof_df])\n",
    "                LOGGER.info(f\"========== fold: {fold} result ==========\")\n",
    "                get_result(_oof_df)\n",
    "        LOGGER.info(f\"========== CV ==========\")\n",
    "        get_result(oof_df)\n",
    "        oof_df.to_csv(OUTPUT_DIR+'oof_df.csv', index=False)\n",
    "    \n",
    "    if CFG.inference:\n",
    "        model = CustomResNext(CFG.model_name, pretrained=False)\n",
    "        states = [torch.load(OUTPUT_DIR+f'{CFG.model_name}_fold{fold}_best.pth') for fold in CFG.trn_fold]\n",
    "        test_dataset = TestDataset(test, transform=get_transforms(data='valid'))\n",
    "        test_loader = DataLoader(test_dataset, batch_size=CFG.batch_size, shuffle=False, \n",
    "                                 num_workers=CFG.num_workers, pin_memory=True)\n",
    "        predictions = inference(model, states, test_loader, device)\n",
    "        test['label'] = predictions.argmax(1)\n",
    "        test[['image_id', 'label']].to_csv(OUTPUT_DIR+'submission.csv', index=False)"
   ]
  },
  {
   "cell_type": "code",
   "execution_count": 21,
   "metadata": {
    "_cell_guid": "79c7e3d0-c299-4dcb-8224-4455121ee9b0",
    "_uuid": "d629ff2d2480ee46fbb7e2d37f6b5fab8052498a",
    "execution": {
     "iopub.execute_input": "2020-12-25T10:45:58.589216Z",
     "iopub.status.busy": "2020-12-25T10:45:58.588410Z",
     "iopub.status.idle": "2020-12-25T14:11:17.722977Z",
     "shell.execute_reply": "2020-12-25T14:11:17.722385Z"
    },
    "papermill": {
     "duration": 12319.160499,
     "end_time": "2020-12-25T14:11:17.723099",
     "exception": false,
     "start_time": "2020-12-25T10:45:58.562600",
     "status": "completed"
    },
    "tags": []
   },
   "outputs": [
    {
     "name": "stderr",
     "output_type": "stream",
     "text": [
      "========== fold: 0 training ==========\n",
      "Downloading: \"https://github.com/rwightman/pytorch-image-models/releases/download/v0.1-weights/resnext50_32x4d_ra-d733960d.pth\" to /root/.cache/torch/hub/checkpoints/resnext50_32x4d_ra-d733960d.pth\n"
     ]
    },
    {
     "name": "stdout",
     "output_type": "stream",
     "text": [
      "Epoch: [1][0/534] Data 1.657 (1.657) Elapsed 0m 3s (remain 29m 25s) Loss: 1.5144(1.5144) Grad: 8.2534  \n",
      "Epoch: [1][100/534] Data 0.000 (0.017) Elapsed 0m 43s (remain 3m 5s) Loss: 0.9327(0.8389) Grad: 12.1620  \n",
      "Epoch: [1][200/534] Data 0.000 (0.009) Elapsed 1m 23s (remain 2m 17s) Loss: 0.3283(0.7393) Grad: 5.3923  \n",
      "Epoch: [1][300/534] Data 0.000 (0.006) Elapsed 2m 3s (remain 1m 35s) Loss: 0.4969(0.6861) Grad: 7.9599  \n",
      "Epoch: [1][400/534] Data 0.000 (0.005) Elapsed 2m 43s (remain 0m 54s) Loss: 0.6107(0.6516) Grad: 7.6257  \n",
      "Epoch: [1][500/534] Data 0.000 (0.004) Elapsed 3m 23s (remain 0m 13s) Loss: 0.7106(0.6310) Grad: 8.0431  \n",
      "Epoch: [1][533/534] Data 0.000 (0.004) Elapsed 3m 36s (remain 0m 0s) Loss: 0.6648(0.6254) Grad: 6.5978  \n",
      "EVAL: [0/134] Data 1.238 (1.238) Elapsed 0m 1s (remain 2m 57s) Loss: 0.6049(0.6049) \n",
      "EVAL: [100/134] Data 0.290 (0.188) Elapsed 0m 28s (remain 0m 9s) Loss: 0.7488(0.5086) \n"
     ]
    },
    {
     "name": "stderr",
     "output_type": "stream",
     "text": [
      "Epoch 1 - avg_train_loss: 0.6254  avg_val_loss: 0.5048  time: 253s\n",
      "Epoch 1 - Accuracy: 0.8242990654205608\n",
      "Epoch 1 - Save Best Score: 0.8243 Model\n"
     ]
    },
    {
     "name": "stdout",
     "output_type": "stream",
     "text": [
      "EVAL: [133/134] Data 0.000 (0.181) Elapsed 0m 37s (remain 0m 0s) Loss: 0.6583(0.5048) \n",
      "Epoch: [2][0/534] Data 1.478 (1.478) Elapsed 0m 2s (remain 18m 15s) Loss: 0.5145(0.5145) Grad: 5.0797  \n",
      "Epoch: [2][100/534] Data 0.000 (0.015) Elapsed 0m 41s (remain 2m 58s) Loss: 0.3606(0.5080) Grad: 5.4680  \n",
      "Epoch: [2][200/534] Data 0.000 (0.008) Elapsed 1m 20s (remain 2m 13s) Loss: 0.6142(0.5075) Grad: 7.4711  \n",
      "Epoch: [2][300/534] Data 0.000 (0.006) Elapsed 1m 59s (remain 1m 32s) Loss: 0.4782(0.4944) Grad: 5.1761  \n",
      "Epoch: [2][400/534] Data 0.000 (0.004) Elapsed 2m 39s (remain 0m 52s) Loss: 0.3339(0.4950) Grad: 4.2261  \n",
      "Epoch: [2][500/534] Data 0.001 (0.004) Elapsed 3m 17s (remain 0m 13s) Loss: 0.7108(0.4967) Grad: 7.1604  \n",
      "Epoch: [2][533/534] Data 0.000 (0.003) Elapsed 3m 31s (remain 0m 0s) Loss: 0.6051(0.4943) Grad: 6.1565  \n",
      "EVAL: [0/134] Data 1.105 (1.105) Elapsed 0m 1s (remain 2m 40s) Loss: 0.6660(0.6660) \n",
      "EVAL: [100/134] Data 0.435 (0.162) Elapsed 0m 26s (remain 0m 8s) Loss: 0.4689(0.4714) \n"
     ]
    },
    {
     "name": "stderr",
     "output_type": "stream",
     "text": [
      "Epoch 2 - avg_train_loss: 0.4943  avg_val_loss: 0.4717  time: 246s\n",
      "Epoch 2 - Accuracy: 0.85\n",
      "Epoch 2 - Save Best Score: 0.8500 Model\n"
     ]
    },
    {
     "name": "stdout",
     "output_type": "stream",
     "text": [
      "EVAL: [133/134] Data 0.000 (0.157) Elapsed 0m 34s (remain 0m 0s) Loss: 0.6133(0.4717) \n",
      "Epoch: [3][0/534] Data 1.264 (1.264) Elapsed 0m 1s (remain 14m 56s) Loss: 0.3181(0.3181) Grad: 4.0853  \n",
      "Epoch: [3][100/534] Data 0.000 (0.013) Elapsed 0m 41s (remain 2m 58s) Loss: 0.3457(0.4316) Grad: 4.2380  \n",
      "Epoch: [3][200/534] Data 0.000 (0.007) Elapsed 1m 20s (remain 2m 13s) Loss: 0.4210(0.4516) Grad: 4.8994  \n",
      "Epoch: [3][300/534] Data 0.000 (0.005) Elapsed 1m 59s (remain 1m 32s) Loss: 0.4355(0.4642) Grad: 5.3359  \n",
      "Epoch: [3][400/534] Data 0.000 (0.004) Elapsed 2m 39s (remain 0m 52s) Loss: 0.3113(0.4607) Grad: 3.6979  \n",
      "Epoch: [3][500/534] Data 0.000 (0.003) Elapsed 3m 18s (remain 0m 13s) Loss: 0.4010(0.4598) Grad: 5.2274  \n",
      "Epoch: [3][533/534] Data 0.000 (0.003) Elapsed 3m 30s (remain 0m 0s) Loss: 0.6118(0.4611) Grad: 5.9302  \n",
      "EVAL: [0/134] Data 1.013 (1.013) Elapsed 0m 1s (remain 2m 27s) Loss: 0.5921(0.5921) \n",
      "EVAL: [100/134] Data 0.387 (0.157) Elapsed 0m 25s (remain 0m 8s) Loss: 0.6798(0.4470) \n"
     ]
    },
    {
     "name": "stderr",
     "output_type": "stream",
     "text": [
      "Epoch 3 - avg_train_loss: 0.4611  avg_val_loss: 0.4407  time: 245s\n",
      "Epoch 3 - Accuracy: 0.8551401869158879\n",
      "Epoch 3 - Save Best Score: 0.8551 Model\n"
     ]
    },
    {
     "name": "stdout",
     "output_type": "stream",
     "text": [
      "EVAL: [133/134] Data 0.000 (0.156) Elapsed 0m 33s (remain 0m 0s) Loss: 0.6799(0.4407) \n",
      "Epoch: [4][0/534] Data 1.141 (1.141) Elapsed 0m 1s (remain 14m 23s) Loss: 0.7072(0.7072) Grad: 6.7045  \n",
      "Epoch: [4][100/534] Data 0.000 (0.012) Elapsed 0m 41s (remain 2m 57s) Loss: 0.5648(0.4427) Grad: 4.6809  \n",
      "Epoch: [4][200/534] Data 0.000 (0.007) Elapsed 1m 20s (remain 2m 13s) Loss: 0.6699(0.4506) Grad: 6.7793  \n",
      "Epoch: [4][300/534] Data 0.006 (0.005) Elapsed 1m 59s (remain 1m 32s) Loss: 0.2266(0.4512) Grad: 2.5822  \n",
      "Epoch: [4][400/534] Data 0.008 (0.004) Elapsed 2m 38s (remain 0m 52s) Loss: 0.2532(0.4467) Grad: 2.9137  \n",
      "Epoch: [4][500/534] Data 0.000 (0.003) Elapsed 3m 18s (remain 0m 13s) Loss: 0.3912(0.4476) Grad: 4.0940  \n",
      "Epoch: [4][533/534] Data 0.000 (0.003) Elapsed 3m 30s (remain 0m 0s) Loss: 0.4822(0.4453) Grad: 4.7685  \n",
      "EVAL: [0/134] Data 1.092 (1.092) Elapsed 0m 1s (remain 2m 37s) Loss: 0.5623(0.5623) \n",
      "EVAL: [100/134] Data 0.525 (0.168) Elapsed 0m 26s (remain 0m 8s) Loss: 0.4330(0.4219) \n"
     ]
    },
    {
     "name": "stderr",
     "output_type": "stream",
     "text": [
      "Epoch 4 - avg_train_loss: 0.4453  avg_val_loss: 0.4195  time: 244s\n",
      "Epoch 4 - Accuracy: 0.8663551401869158\n",
      "Epoch 4 - Save Best Score: 0.8664 Model\n"
     ]
    },
    {
     "name": "stdout",
     "output_type": "stream",
     "text": [
      "EVAL: [133/134] Data 0.000 (0.157) Elapsed 0m 33s (remain 0m 0s) Loss: 0.6196(0.4195) \n",
      "Epoch: [5][0/534] Data 1.558 (1.558) Elapsed 0m 2s (remain 18m 2s) Loss: 0.4419(0.4419) Grad: 5.6287  \n",
      "Epoch: [5][100/534] Data 0.000 (0.016) Elapsed 0m 41s (remain 2m 59s) Loss: 0.3180(0.4179) Grad: 3.8768  \n",
      "Epoch: [5][200/534] Data 0.000 (0.008) Elapsed 1m 21s (remain 2m 15s) Loss: 0.6005(0.4294) Grad: 5.9227  \n",
      "Epoch: [5][300/534] Data 0.000 (0.006) Elapsed 2m 0s (remain 1m 33s) Loss: 0.4514(0.4366) Grad: 4.2189  \n",
      "Epoch: [5][400/534] Data 0.000 (0.005) Elapsed 2m 39s (remain 0m 52s) Loss: 0.5338(0.4333) Grad: 4.9522  \n",
      "Epoch: [5][500/534] Data 0.000 (0.004) Elapsed 3m 18s (remain 0m 13s) Loss: 0.4311(0.4292) Grad: 4.6339  \n",
      "Epoch: [5][533/534] Data 0.000 (0.004) Elapsed 3m 31s (remain 0m 0s) Loss: 0.7145(0.4267) Grad: 4.7904  \n",
      "EVAL: [0/134] Data 1.103 (1.103) Elapsed 0m 1s (remain 2m 39s) Loss: 0.5502(0.5502) \n",
      "EVAL: [100/134] Data 0.614 (0.166) Elapsed 0m 26s (remain 0m 8s) Loss: 0.5560(0.4532) \n"
     ]
    },
    {
     "name": "stderr",
     "output_type": "stream",
     "text": [
      "Epoch 5 - avg_train_loss: 0.4267  avg_val_loss: 0.4444  time: 246s\n",
      "Epoch 5 - Accuracy: 0.8476635514018691\n"
     ]
    },
    {
     "name": "stdout",
     "output_type": "stream",
     "text": [
      "EVAL: [133/134] Data 0.000 (0.160) Elapsed 0m 34s (remain 0m 0s) Loss: 0.6626(0.4444) \n",
      "Epoch: [6][0/534] Data 1.268 (1.268) Elapsed 0m 1s (remain 15m 17s) Loss: 0.4813(0.4813) Grad: 4.9162  \n",
      "Epoch: [6][100/534] Data 0.000 (0.013) Elapsed 0m 40s (remain 2m 55s) Loss: 0.4383(0.3965) Grad: 4.9143  \n",
      "Epoch: [6][200/534] Data 0.000 (0.007) Elapsed 1m 19s (remain 2m 12s) Loss: 0.5509(0.3954) Grad: 5.8919  \n",
      "Epoch: [6][300/534] Data 0.005 (0.005) Elapsed 1m 59s (remain 1m 32s) Loss: 0.7965(0.4016) Grad: 6.1215  \n",
      "Epoch: [6][400/534] Data 0.000 (0.004) Elapsed 2m 38s (remain 0m 52s) Loss: 0.4644(0.4089) Grad: 3.3467  \n",
      "Epoch: [6][500/534] Data 0.000 (0.003) Elapsed 3m 18s (remain 0m 13s) Loss: 0.3458(0.4154) Grad: 4.4382  \n",
      "Epoch: [6][533/534] Data 0.000 (0.003) Elapsed 3m 30s (remain 0m 0s) Loss: 0.2540(0.4180) Grad: 2.8557  \n",
      "EVAL: [0/134] Data 1.095 (1.095) Elapsed 0m 1s (remain 2m 38s) Loss: 0.5595(0.5595) \n",
      "EVAL: [100/134] Data 0.876 (0.166) Elapsed 0m 26s (remain 0m 8s) Loss: 0.3878(0.4034) \n"
     ]
    },
    {
     "name": "stderr",
     "output_type": "stream",
     "text": [
      "Epoch 6 - avg_train_loss: 0.4180  avg_val_loss: 0.3976  time: 245s\n",
      "Epoch 6 - Accuracy: 0.8696261682242991\n",
      "Epoch 6 - Save Best Score: 0.8696 Model\n"
     ]
    },
    {
     "name": "stdout",
     "output_type": "stream",
     "text": [
      "EVAL: [133/134] Data 0.000 (0.162) Elapsed 0m 34s (remain 0m 0s) Loss: 0.6010(0.3976) \n",
      "Epoch: [7][0/534] Data 1.404 (1.404) Elapsed 0m 1s (remain 16m 57s) Loss: 0.3543(0.3543) Grad: 3.6288  \n",
      "Epoch: [7][100/534] Data 0.000 (0.015) Elapsed 0m 41s (remain 2m 57s) Loss: 0.1554(0.3920) Grad: 2.0523  \n",
      "Epoch: [7][200/534] Data 0.000 (0.008) Elapsed 1m 20s (remain 2m 13s) Loss: 0.2659(0.4041) Grad: 3.6487  \n",
      "Epoch: [7][300/534] Data 0.000 (0.005) Elapsed 1m 59s (remain 1m 32s) Loss: 0.6866(0.4007) Grad: 4.7078  \n",
      "Epoch: [7][400/534] Data 0.000 (0.004) Elapsed 2m 37s (remain 0m 52s) Loss: 0.2885(0.4038) Grad: 3.1005  \n",
      "Epoch: [7][500/534] Data 0.000 (0.003) Elapsed 3m 17s (remain 0m 13s) Loss: 0.3188(0.4079) Grad: 4.1906  \n",
      "Epoch: [7][533/534] Data 0.000 (0.003) Elapsed 3m 30s (remain 0m 0s) Loss: 0.4493(0.4061) Grad: 4.6622  \n",
      "EVAL: [0/134] Data 1.053 (1.053) Elapsed 0m 1s (remain 2m 32s) Loss: 0.4911(0.4911) \n",
      "EVAL: [100/134] Data 0.615 (0.175) Elapsed 0m 27s (remain 0m 9s) Loss: 0.5318(0.4148) \n"
     ]
    },
    {
     "name": "stderr",
     "output_type": "stream",
     "text": [
      "Epoch 7 - avg_train_loss: 0.4061  avg_val_loss: 0.4127  time: 245s\n",
      "Epoch 7 - Accuracy: 0.8635514018691589\n"
     ]
    },
    {
     "name": "stdout",
     "output_type": "stream",
     "text": [
      "EVAL: [133/134] Data 0.000 (0.164) Elapsed 0m 35s (remain 0m 0s) Loss: 0.5871(0.4127) \n",
      "Epoch: [8][0/534] Data 1.420 (1.420) Elapsed 0m 1s (remain 16m 42s) Loss: 0.4361(0.4361) Grad: 3.2963  \n",
      "Epoch: [8][100/534] Data 0.000 (0.015) Elapsed 0m 40s (remain 2m 55s) Loss: 0.4373(0.3941) Grad: 5.6227  \n",
      "Epoch: [8][200/534] Data 0.000 (0.008) Elapsed 1m 20s (remain 2m 12s) Loss: 0.3471(0.4014) Grad: 3.7992  \n",
      "Epoch: [8][300/534] Data 0.002 (0.005) Elapsed 1m 59s (remain 1m 32s) Loss: 0.4097(0.4025) Grad: 3.9975  \n",
      "Epoch: [8][400/534] Data 0.000 (0.004) Elapsed 2m 38s (remain 0m 52s) Loss: 0.4787(0.4039) Grad: 5.2166  \n",
      "Epoch: [8][500/534] Data 0.000 (0.004) Elapsed 3m 17s (remain 0m 13s) Loss: 0.4555(0.4036) Grad: 4.1464  \n",
      "Epoch: [8][533/534] Data 0.000 (0.003) Elapsed 3m 30s (remain 0m 0s) Loss: 0.3033(0.4057) Grad: 3.7098  \n",
      "EVAL: [0/134] Data 1.162 (1.162) Elapsed 0m 1s (remain 2m 46s) Loss: 0.5670(0.5670) \n",
      "EVAL: [100/134] Data 0.560 (0.172) Elapsed 0m 27s (remain 0m 8s) Loss: 0.4385(0.4122) \n"
     ]
    },
    {
     "name": "stderr",
     "output_type": "stream",
     "text": [
      "Epoch 8 - avg_train_loss: 0.4057  avg_val_loss: 0.4106  time: 245s\n",
      "Epoch 8 - Accuracy: 0.8630841121495327\n"
     ]
    },
    {
     "name": "stdout",
     "output_type": "stream",
     "text": [
      "EVAL: [133/134] Data 0.000 (0.163) Elapsed 0m 35s (remain 0m 0s) Loss: 0.5739(0.4106) \n",
      "Epoch: [9][0/534] Data 1.204 (1.204) Elapsed 0m 1s (remain 14m 22s) Loss: 0.4719(0.4719) Grad: 3.9177  \n",
      "Epoch: [9][100/534] Data 0.003 (0.013) Elapsed 0m 41s (remain 2m 55s) Loss: 0.4368(0.3735) Grad: 4.2232  \n",
      "Epoch: [9][200/534] Data 0.000 (0.007) Elapsed 1m 20s (remain 2m 13s) Loss: 0.4018(0.3814) Grad: 3.7131  \n",
      "Epoch: [9][300/534] Data 0.002 (0.005) Elapsed 1m 59s (remain 1m 32s) Loss: 0.4403(0.3877) Grad: 4.4379  \n",
      "Epoch: [9][400/534] Data 0.000 (0.004) Elapsed 2m 37s (remain 0m 52s) Loss: 0.4913(0.3885) Grad: 4.8063  \n",
      "Epoch: [9][500/534] Data 0.000 (0.003) Elapsed 3m 17s (remain 0m 12s) Loss: 0.4654(0.3843) Grad: 4.6773  \n",
      "Epoch: [9][533/534] Data 0.000 (0.003) Elapsed 3m 29s (remain 0m 0s) Loss: 0.3300(0.3848) Grad: 4.3283  \n",
      "EVAL: [0/134] Data 1.089 (1.089) Elapsed 0m 1s (remain 2m 38s) Loss: 0.5622(0.5622) \n",
      "EVAL: [100/134] Data 0.625 (0.175) Elapsed 0m 27s (remain 0m 8s) Loss: 0.4997(0.4445) \n"
     ]
    },
    {
     "name": "stderr",
     "output_type": "stream",
     "text": [
      "Epoch 9 - avg_train_loss: 0.3848  avg_val_loss: 0.4355  time: 245s\n",
      "Epoch 9 - Accuracy: 0.8539719626168224\n"
     ]
    },
    {
     "name": "stdout",
     "output_type": "stream",
     "text": [
      "EVAL: [133/134] Data 0.000 (0.165) Elapsed 0m 35s (remain 0m 0s) Loss: 0.5291(0.4355) \n",
      "Epoch: [10][0/534] Data 1.175 (1.175) Elapsed 0m 1s (remain 14m 21s) Loss: 0.3913(0.3913) Grad: 3.9671  \n",
      "Epoch: [10][100/534] Data 0.000 (0.012) Elapsed 0m 41s (remain 2m 56s) Loss: 0.3853(0.3796) Grad: 3.7287  \n",
      "Epoch: [10][200/534] Data 0.000 (0.006) Elapsed 1m 19s (remain 2m 12s) Loss: 0.3916(0.3818) Grad: 3.5857  \n",
      "Epoch: [10][300/534] Data 0.000 (0.005) Elapsed 1m 59s (remain 1m 32s) Loss: 0.3130(0.3777) Grad: 3.3572  \n",
      "Epoch: [10][400/534] Data 0.000 (0.004) Elapsed 2m 38s (remain 0m 52s) Loss: 0.3756(0.3812) Grad: 3.5653  \n",
      "Epoch: [10][500/534] Data 0.000 (0.003) Elapsed 3m 17s (remain 0m 13s) Loss: 0.3398(0.3847) Grad: 3.0924  \n",
      "Epoch: [10][533/534] Data 0.000 (0.003) Elapsed 3m 29s (remain 0m 0s) Loss: 0.4416(0.3851) Grad: 4.3174  \n",
      "EVAL: [0/134] Data 1.115 (1.115) Elapsed 0m 1s (remain 2m 41s) Loss: 0.4916(0.4916) \n",
      "EVAL: [100/134] Data 0.771 (0.177) Elapsed 0m 27s (remain 0m 9s) Loss: 0.4191(0.4128) \n"
     ]
    },
    {
     "name": "stderr",
     "output_type": "stream",
     "text": [
      "Epoch 10 - avg_train_loss: 0.3851  avg_val_loss: 0.4091  time: 245s\n",
      "Epoch 10 - Accuracy: 0.8698598130841122\n",
      "Epoch 10 - Save Best Score: 0.8699 Model\n"
     ]
    },
    {
     "name": "stdout",
     "output_type": "stream",
     "text": [
      "EVAL: [133/134] Data 0.000 (0.163) Elapsed 0m 34s (remain 0m 0s) Loss: 0.5431(0.4091) \n"
     ]
    },
    {
     "name": "stderr",
     "output_type": "stream",
     "text": [
      "========== fold: 0 result ==========\n",
      "Score: 0.86986\n",
      "========== fold: 1 training ==========\n"
     ]
    },
    {
     "name": "stdout",
     "output_type": "stream",
     "text": [
      "Epoch: [1][0/534] Data 1.394 (1.394) Elapsed 0m 1s (remain 16m 52s) Loss: 1.5897(1.5897) Grad: 7.4518  \n",
      "Epoch: [1][100/534] Data 0.000 (0.014) Elapsed 0m 41s (remain 2m 57s) Loss: 0.5908(0.8769) Grad: 8.6666  \n",
      "Epoch: [1][200/534] Data 0.000 (0.008) Elapsed 1m 20s (remain 2m 12s) Loss: 0.6036(0.7645) Grad: 7.9425  \n",
      "Epoch: [1][300/534] Data 0.000 (0.005) Elapsed 1m 59s (remain 1m 32s) Loss: 0.4155(0.7046) Grad: 5.0785  \n",
      "Epoch: [1][400/534] Data 0.000 (0.004) Elapsed 2m 38s (remain 0m 52s) Loss: 0.5354(0.6710) Grad: 6.5925  \n",
      "Epoch: [1][500/534] Data 0.000 (0.003) Elapsed 3m 17s (remain 0m 12s) Loss: 0.4079(0.6418) Grad: 5.4334  \n",
      "Epoch: [1][533/534] Data 0.000 (0.003) Elapsed 3m 29s (remain 0m 0s) Loss: 0.5349(0.6360) Grad: 5.7201  \n",
      "EVAL: [0/134] Data 1.031 (1.031) Elapsed 0m 1s (remain 2m 30s) Loss: 0.3793(0.3793) \n",
      "EVAL: [100/134] Data 0.580 (0.175) Elapsed 0m 27s (remain 0m 8s) Loss: 0.5218(0.4719) \n"
     ]
    },
    {
     "name": "stderr",
     "output_type": "stream",
     "text": [
      "Epoch 1 - avg_train_loss: 0.6360  avg_val_loss: 0.4661  time: 245s\n",
      "Epoch 1 - Accuracy: 0.841588785046729\n",
      "Epoch 1 - Save Best Score: 0.8416 Model\n"
     ]
    },
    {
     "name": "stdout",
     "output_type": "stream",
     "text": [
      "EVAL: [133/134] Data 0.000 (0.165) Elapsed 0m 35s (remain 0m 0s) Loss: 0.1973(0.4661) \n",
      "Epoch: [2][0/534] Data 1.168 (1.168) Elapsed 0m 1s (remain 14m 6s) Loss: 0.3628(0.3628) Grad: 4.7190  \n",
      "Epoch: [2][100/534] Data 0.000 (0.012) Elapsed 0m 41s (remain 2m 57s) Loss: 0.5179(0.5090) Grad: 5.6196  \n",
      "Epoch: [2][200/534] Data 0.003 (0.006) Elapsed 1m 20s (remain 2m 13s) Loss: 0.5771(0.5103) Grad: 6.5075  \n",
      "Epoch: [2][300/534] Data 0.000 (0.004) Elapsed 2m 0s (remain 1m 32s) Loss: 0.3503(0.4926) Grad: 3.4452  \n",
      "Epoch: [2][400/534] Data 0.000 (0.004) Elapsed 2m 39s (remain 0m 52s) Loss: 0.2529(0.4862) Grad: 5.3052  \n",
      "Epoch: [2][500/534] Data 0.000 (0.003) Elapsed 3m 17s (remain 0m 13s) Loss: 0.6975(0.4915) Grad: 7.1145  \n",
      "Epoch: [2][533/534] Data 0.000 (0.003) Elapsed 3m 30s (remain 0m 0s) Loss: 0.5803(0.4919) Grad: 6.5959  \n",
      "EVAL: [0/134] Data 1.130 (1.130) Elapsed 0m 1s (remain 2m 43s) Loss: 0.4603(0.4603) \n",
      "EVAL: [100/134] Data 0.568 (0.162) Elapsed 0m 26s (remain 0m 8s) Loss: 0.3961(0.4274) \n"
     ]
    },
    {
     "name": "stderr",
     "output_type": "stream",
     "text": [
      "Epoch 2 - avg_train_loss: 0.4919  avg_val_loss: 0.4227  time: 245s\n",
      "Epoch 2 - Accuracy: 0.8516355140186916\n",
      "Epoch 2 - Save Best Score: 0.8516 Model\n"
     ]
    },
    {
     "name": "stdout",
     "output_type": "stream",
     "text": [
      "EVAL: [133/134] Data 0.000 (0.158) Elapsed 0m 34s (remain 0m 0s) Loss: 0.1296(0.4227) \n",
      "Epoch: [3][0/534] Data 1.192 (1.192) Elapsed 0m 1s (remain 14m 39s) Loss: 0.4475(0.4475) Grad: 5.7509  \n",
      "Epoch: [3][100/534] Data 0.000 (0.013) Elapsed 0m 41s (remain 2m 57s) Loss: 0.5729(0.4844) Grad: 5.0268  \n",
      "Epoch: [3][200/534] Data 0.000 (0.007) Elapsed 1m 20s (remain 2m 12s) Loss: 0.5971(0.4802) Grad: 6.2371  \n",
      "Epoch: [3][300/534] Data 0.000 (0.005) Elapsed 1m 59s (remain 1m 32s) Loss: 0.3570(0.4656) Grad: 4.3375  \n",
      "Epoch: [3][400/534] Data 0.000 (0.004) Elapsed 2m 38s (remain 0m 52s) Loss: 0.3911(0.4644) Grad: 4.7050  \n",
      "Epoch: [3][500/534] Data 0.000 (0.003) Elapsed 3m 17s (remain 0m 13s) Loss: 0.4920(0.4650) Grad: 4.6005  \n",
      "Epoch: [3][533/534] Data 0.000 (0.003) Elapsed 3m 30s (remain 0m 0s) Loss: 0.3889(0.4633) Grad: 5.5539  \n",
      "EVAL: [0/134] Data 1.178 (1.178) Elapsed 0m 1s (remain 2m 49s) Loss: 0.3183(0.3183) \n",
      "EVAL: [100/134] Data 0.766 (0.168) Elapsed 0m 26s (remain 0m 8s) Loss: 0.3998(0.3917) \n"
     ]
    },
    {
     "name": "stderr",
     "output_type": "stream",
     "text": [
      "Epoch 3 - avg_train_loss: 0.4633  avg_val_loss: 0.3919  time: 245s\n",
      "Epoch 3 - Accuracy: 0.8710280373831776\n",
      "Epoch 3 - Save Best Score: 0.8710 Model\n"
     ]
    },
    {
     "name": "stdout",
     "output_type": "stream",
     "text": [
      "EVAL: [133/134] Data 0.000 (0.157) Elapsed 0m 34s (remain 0m 0s) Loss: 0.0616(0.3919) \n",
      "Epoch: [4][0/534] Data 1.291 (1.291) Elapsed 0m 1s (remain 15m 12s) Loss: 0.2372(0.2372) Grad: 4.3575  \n",
      "Epoch: [4][100/534] Data 0.000 (0.013) Elapsed 0m 41s (remain 2m 59s) Loss: 0.5123(0.4579) Grad: 4.8721  \n",
      "Epoch: [4][200/534] Data 0.000 (0.007) Elapsed 1m 21s (remain 2m 15s) Loss: 0.3742(0.4446) Grad: 4.3225  \n",
      "Epoch: [4][300/534] Data 0.000 (0.005) Elapsed 2m 0s (remain 1m 32s) Loss: 0.3749(0.4500) Grad: 4.4033  \n",
      "Epoch: [4][400/534] Data 0.000 (0.004) Elapsed 2m 39s (remain 0m 52s) Loss: 0.3859(0.4463) Grad: 5.0044  \n",
      "Epoch: [4][500/534] Data 0.000 (0.003) Elapsed 3m 18s (remain 0m 13s) Loss: 0.7454(0.4506) Grad: 7.7495  \n",
      "Epoch: [4][533/534] Data 0.000 (0.003) Elapsed 3m 31s (remain 0m 0s) Loss: 0.6282(0.4483) Grad: 5.5480  \n",
      "EVAL: [0/134] Data 1.512 (1.512) Elapsed 0m 1s (remain 3m 33s) Loss: 0.3528(0.3528) \n",
      "EVAL: [100/134] Data 0.474 (0.165) Elapsed 0m 26s (remain 0m 8s) Loss: 0.3648(0.3964) \n"
     ]
    },
    {
     "name": "stderr",
     "output_type": "stream",
     "text": [
      "Epoch 4 - avg_train_loss: 0.4483  avg_val_loss: 0.3910  time: 246s\n",
      "Epoch 4 - Accuracy: 0.877803738317757\n",
      "Epoch 4 - Save Best Score: 0.8778 Model\n"
     ]
    },
    {
     "name": "stdout",
     "output_type": "stream",
     "text": [
      "EVAL: [133/134] Data 0.000 (0.160) Elapsed 0m 34s (remain 0m 0s) Loss: 0.0881(0.3910) \n",
      "Epoch: [5][0/534] Data 1.306 (1.306) Elapsed 0m 1s (remain 15m 15s) Loss: 0.1547(0.1547) Grad: 1.7002  \n",
      "Epoch: [5][100/534] Data 0.000 (0.013) Elapsed 0m 40s (remain 2m 55s) Loss: 0.3479(0.4391) Grad: 3.9575  \n",
      "Epoch: [5][200/534] Data 0.000 (0.007) Elapsed 1m 20s (remain 2m 12s) Loss: 0.5464(0.4366) Grad: 6.4805  \n",
      "Epoch: [5][300/534] Data 0.000 (0.005) Elapsed 1m 58s (remain 1m 31s) Loss: 0.4664(0.4375) Grad: 3.0477  \n",
      "Epoch: [5][400/534] Data 0.000 (0.004) Elapsed 2m 38s (remain 0m 52s) Loss: 0.6575(0.4348) Grad: 5.1161  \n",
      "Epoch: [5][500/534] Data 0.000 (0.003) Elapsed 3m 17s (remain 0m 13s) Loss: 0.1943(0.4291) Grad: 2.2147  \n",
      "Epoch: [5][533/534] Data 0.000 (0.003) Elapsed 3m 29s (remain 0m 0s) Loss: 0.6174(0.4300) Grad: 5.3330  \n",
      "EVAL: [0/134] Data 1.111 (1.111) Elapsed 0m 1s (remain 2m 40s) Loss: 0.4345(0.4345) \n",
      "EVAL: [100/134] Data 0.614 (0.170) Elapsed 0m 26s (remain 0m 8s) Loss: 0.3896(0.4082) \n"
     ]
    },
    {
     "name": "stderr",
     "output_type": "stream",
     "text": [
      "Epoch 5 - avg_train_loss: 0.4300  avg_val_loss: 0.4018  time: 244s\n",
      "Epoch 5 - Accuracy: 0.8623831775700934\n"
     ]
    },
    {
     "name": "stdout",
     "output_type": "stream",
     "text": [
      "EVAL: [133/134] Data 0.000 (0.161) Elapsed 0m 34s (remain 0m 0s) Loss: 0.1004(0.4018) \n",
      "Epoch: [6][0/534] Data 1.251 (1.251) Elapsed 0m 1s (remain 14m 55s) Loss: 0.3246(0.3246) Grad: 3.9017  \n",
      "Epoch: [6][100/534] Data 0.000 (0.013) Elapsed 0m 41s (remain 2m 58s) Loss: 0.3498(0.4146) Grad: 3.5690  \n",
      "Epoch: [6][200/534] Data 0.000 (0.007) Elapsed 1m 20s (remain 2m 13s) Loss: 0.2311(0.4184) Grad: 3.3418  \n",
      "Epoch: [6][300/534] Data 0.000 (0.005) Elapsed 1m 59s (remain 1m 32s) Loss: 0.4784(0.4138) Grad: 4.6618  \n",
      "Epoch: [6][400/534] Data 0.000 (0.004) Elapsed 2m 38s (remain 0m 52s) Loss: 0.3758(0.4153) Grad: 3.7172  \n",
      "Epoch: [6][500/534] Data 0.000 (0.003) Elapsed 3m 18s (remain 0m 13s) Loss: 0.4144(0.4183) Grad: 3.4514  \n",
      "Epoch: [6][533/534] Data 0.000 (0.003) Elapsed 3m 30s (remain 0m 0s) Loss: 0.2748(0.4159) Grad: 2.8209  \n",
      "EVAL: [0/134] Data 1.149 (1.149) Elapsed 0m 1s (remain 2m 46s) Loss: 0.2956(0.2956) \n",
      "EVAL: [100/134] Data 0.549 (0.163) Elapsed 0m 26s (remain 0m 8s) Loss: 0.3708(0.3843) \n"
     ]
    },
    {
     "name": "stderr",
     "output_type": "stream",
     "text": [
      "Epoch 6 - avg_train_loss: 0.4159  avg_val_loss: 0.3799  time: 246s\n",
      "Epoch 6 - Accuracy: 0.8740654205607477\n"
     ]
    },
    {
     "name": "stdout",
     "output_type": "stream",
     "text": [
      "EVAL: [133/134] Data 0.000 (0.159) Elapsed 0m 34s (remain 0m 0s) Loss: 0.0763(0.3799) \n",
      "Epoch: [7][0/534] Data 1.254 (1.254) Elapsed 0m 1s (remain 16m 21s) Loss: 0.6508(0.6508) Grad: 5.8243  \n",
      "Epoch: [7][100/534] Data 0.000 (0.013) Elapsed 0m 41s (remain 2m 59s) Loss: 0.4217(0.4117) Grad: 3.7216  \n",
      "Epoch: [7][200/534] Data 0.003 (0.007) Elapsed 1m 21s (remain 2m 14s) Loss: 0.2927(0.4166) Grad: 3.6559  \n",
      "Epoch: [7][300/534] Data 0.000 (0.005) Elapsed 1m 59s (remain 1m 32s) Loss: 0.4670(0.4117) Grad: 4.2609  \n",
      "Epoch: [7][400/534] Data 0.000 (0.004) Elapsed 2m 39s (remain 0m 52s) Loss: 0.4788(0.4144) Grad: 4.7051  \n",
      "Epoch: [7][500/534] Data 0.000 (0.003) Elapsed 3m 18s (remain 0m 13s) Loss: 0.2999(0.4125) Grad: 2.9899  \n",
      "Epoch: [7][533/534] Data 0.000 (0.003) Elapsed 3m 31s (remain 0m 0s) Loss: 0.5353(0.4155) Grad: 4.3592  \n",
      "EVAL: [0/134] Data 1.152 (1.152) Elapsed 0m 1s (remain 2m 53s) Loss: 0.2684(0.2684) \n",
      "EVAL: [100/134] Data 0.481 (0.172) Elapsed 0m 27s (remain 0m 8s) Loss: 0.3457(0.3814) \n"
     ]
    },
    {
     "name": "stderr",
     "output_type": "stream",
     "text": [
      "Epoch 7 - avg_train_loss: 0.4155  avg_val_loss: 0.3717  time: 247s\n",
      "Epoch 7 - Accuracy: 0.8740654205607477\n"
     ]
    },
    {
     "name": "stdout",
     "output_type": "stream",
     "text": [
      "EVAL: [133/134] Data 0.000 (0.167) Elapsed 0m 35s (remain 0m 0s) Loss: 0.0780(0.3717) \n",
      "Epoch: [8][0/534] Data 1.372 (1.372) Elapsed 0m 1s (remain 15m 58s) Loss: 0.3629(0.3629) Grad: 4.2019  \n",
      "Epoch: [8][100/534] Data 0.000 (0.014) Elapsed 0m 40s (remain 2m 53s) Loss: 0.4085(0.3913) Grad: 4.3708  \n",
      "Epoch: [8][200/534] Data 0.004 (0.007) Elapsed 1m 20s (remain 2m 13s) Loss: 0.4474(0.4026) Grad: 3.5754  \n",
      "Epoch: [8][300/534] Data 0.000 (0.005) Elapsed 1m 59s (remain 1m 32s) Loss: 0.3246(0.4013) Grad: 3.9170  \n",
      "Epoch: [8][400/534] Data 0.000 (0.004) Elapsed 2m 38s (remain 0m 52s) Loss: 0.3702(0.4024) Grad: 2.9831  \n",
      "Epoch: [8][500/534] Data 0.000 (0.003) Elapsed 3m 17s (remain 0m 13s) Loss: 0.3207(0.3982) Grad: 3.4664  \n",
      "Epoch: [8][533/534] Data 0.000 (0.003) Elapsed 3m 30s (remain 0m 0s) Loss: 0.2307(0.3989) Grad: 2.3956  \n",
      "EVAL: [0/134] Data 1.629 (1.629) Elapsed 0m 1s (remain 3m 49s) Loss: 0.2040(0.2040) \n",
      "EVAL: [100/134] Data 0.679 (0.175) Elapsed 0m 27s (remain 0m 9s) Loss: 0.4643(0.3730) \n"
     ]
    },
    {
     "name": "stderr",
     "output_type": "stream",
     "text": [
      "Epoch 8 - avg_train_loss: 0.3989  avg_val_loss: 0.3656  time: 246s\n",
      "Epoch 8 - Accuracy: 0.8799065420560748\n",
      "Epoch 8 - Save Best Score: 0.8799 Model\n"
     ]
    },
    {
     "name": "stdout",
     "output_type": "stream",
     "text": [
      "EVAL: [133/134] Data 0.000 (0.171) Elapsed 0m 35s (remain 0m 0s) Loss: 0.0331(0.3656) \n",
      "Epoch: [9][0/534] Data 1.290 (1.290) Elapsed 0m 1s (remain 15m 12s) Loss: 0.3079(0.3079) Grad: 2.6015  \n",
      "Epoch: [9][100/534] Data 0.000 (0.013) Elapsed 0m 40s (remain 2m 54s) Loss: 0.4049(0.3572) Grad: 4.8890  \n",
      "Epoch: [9][200/534] Data 0.000 (0.007) Elapsed 1m 19s (remain 2m 12s) Loss: 0.3022(0.3804) Grad: 3.5599  \n",
      "Epoch: [9][300/534] Data 0.000 (0.005) Elapsed 1m 59s (remain 1m 32s) Loss: 0.2261(0.3889) Grad: 3.3403  \n",
      "Epoch: [9][400/534] Data 0.000 (0.004) Elapsed 2m 37s (remain 0m 52s) Loss: 0.1399(0.3905) Grad: 2.8727  \n",
      "Epoch: [9][500/534] Data 0.000 (0.003) Elapsed 3m 17s (remain 0m 13s) Loss: 0.7077(0.3930) Grad: 4.0944  \n",
      "Epoch: [9][533/534] Data 0.000 (0.003) Elapsed 3m 30s (remain 0m 0s) Loss: 0.3052(0.3950) Grad: 3.6552  \n",
      "EVAL: [0/134] Data 1.127 (1.127) Elapsed 0m 1s (remain 2m 42s) Loss: 0.3118(0.3118) \n",
      "EVAL: [100/134] Data 0.591 (0.172) Elapsed 0m 27s (remain 0m 8s) Loss: 0.4247(0.4261) \n"
     ]
    },
    {
     "name": "stderr",
     "output_type": "stream",
     "text": [
      "Epoch 9 - avg_train_loss: 0.3950  avg_val_loss: 0.4215  time: 245s\n",
      "Epoch 9 - Accuracy: 0.8579439252336448\n"
     ]
    },
    {
     "name": "stdout",
     "output_type": "stream",
     "text": [
      "EVAL: [133/134] Data 0.000 (0.161) Elapsed 0m 34s (remain 0m 0s) Loss: 0.1205(0.4215) \n",
      "Epoch: [10][0/534] Data 1.319 (1.319) Elapsed 0m 1s (remain 15m 31s) Loss: 0.5616(0.5616) Grad: 5.0524  \n",
      "Epoch: [10][100/534] Data 0.003 (0.014) Elapsed 0m 40s (remain 2m 55s) Loss: 0.2951(0.3659) Grad: 3.7376  \n",
      "Epoch: [10][200/534] Data 0.000 (0.007) Elapsed 1m 20s (remain 2m 12s) Loss: 0.4268(0.3780) Grad: 4.0545  \n",
      "Epoch: [10][300/534] Data 0.000 (0.005) Elapsed 1m 59s (remain 1m 32s) Loss: 0.3393(0.3788) Grad: 3.0556  \n",
      "Epoch: [10][400/534] Data 0.000 (0.004) Elapsed 2m 38s (remain 0m 52s) Loss: 0.4521(0.3845) Grad: 4.9896  \n",
      "Epoch: [10][500/534] Data 0.000 (0.003) Elapsed 3m 17s (remain 0m 13s) Loss: 0.3702(0.3840) Grad: 3.9800  \n",
      "Epoch: [10][533/534] Data 0.000 (0.003) Elapsed 3m 30s (remain 0m 0s) Loss: 0.3193(0.3859) Grad: 3.2133  \n",
      "EVAL: [0/134] Data 1.328 (1.328) Elapsed 0m 1s (remain 3m 9s) Loss: 0.2729(0.2729) \n",
      "EVAL: [100/134] Data 0.424 (0.175) Elapsed 0m 27s (remain 0m 9s) Loss: 0.4080(0.3798) \n"
     ]
    },
    {
     "name": "stderr",
     "output_type": "stream",
     "text": [
      "Epoch 10 - avg_train_loss: 0.3859  avg_val_loss: 0.3757  time: 246s\n",
      "Epoch 10 - Accuracy: 0.875233644859813\n",
      "========== fold: 1 result ==========\n",
      "Score: 0.87991\n",
      "========== fold: 2 training ==========\n"
     ]
    },
    {
     "name": "stdout",
     "output_type": "stream",
     "text": [
      "EVAL: [133/134] Data 0.000 (0.166) Elapsed 0m 35s (remain 0m 0s) Loss: 0.0879(0.3757) \n",
      "Epoch: [1][0/534] Data 1.828 (1.828) Elapsed 0m 2s (remain 20m 31s) Loss: 1.5979(1.5979) Grad: 7.1383  \n",
      "Epoch: [1][100/534] Data 0.000 (0.019) Elapsed 0m 41s (remain 2m 59s) Loss: 0.6705(0.8547) Grad: 9.8972  \n",
      "Epoch: [1][200/534] Data 0.000 (0.010) Elapsed 1m 20s (remain 2m 13s) Loss: 0.5536(0.7628) Grad: 6.6848  \n",
      "Epoch: [1][300/534] Data 0.000 (0.007) Elapsed 2m 0s (remain 1m 33s) Loss: 0.7472(0.6960) Grad: 10.5572  \n",
      "Epoch: [1][400/534] Data 0.000 (0.005) Elapsed 2m 39s (remain 0m 52s) Loss: 0.2883(0.6602) Grad: 4.5889  \n",
      "Epoch: [1][500/534] Data 0.004 (0.004) Elapsed 3m 18s (remain 0m 13s) Loss: 0.6850(0.6323) Grad: 10.5582  \n",
      "Epoch: [1][533/534] Data 0.000 (0.004) Elapsed 3m 30s (remain 0m 0s) Loss: 0.6691(0.6263) Grad: 6.9742  \n",
      "EVAL: [0/134] Data 1.050 (1.050) Elapsed 0m 1s (remain 2m 32s) Loss: 0.3980(0.3980) \n",
      "EVAL: [100/134] Data 0.182 (0.170) Elapsed 0m 27s (remain 0m 8s) Loss: 0.6122(0.5550) \n"
     ]
    },
    {
     "name": "stderr",
     "output_type": "stream",
     "text": [
      "Epoch 1 - avg_train_loss: 0.6263  avg_val_loss: 0.5490  time: 246s\n",
      "Epoch 1 - Accuracy: 0.8013554568824491\n",
      "Epoch 1 - Save Best Score: 0.8014 Model\n"
     ]
    },
    {
     "name": "stdout",
     "output_type": "stream",
     "text": [
      "EVAL: [133/134] Data 0.005 (0.164) Elapsed 0m 35s (remain 0m 0s) Loss: 0.4496(0.5490) \n",
      "Epoch: [2][0/534] Data 1.301 (1.301) Elapsed 0m 1s (remain 15m 31s) Loss: 0.3388(0.3388) Grad: 4.9484  \n",
      "Epoch: [2][100/534] Data 0.000 (0.014) Elapsed 0m 41s (remain 2m 58s) Loss: 0.3677(0.4771) Grad: 5.0753  \n",
      "Epoch: [2][200/534] Data 0.000 (0.007) Elapsed 1m 20s (remain 2m 12s) Loss: 0.7477(0.4910) Grad: 8.0758  \n",
      "Epoch: [2][300/534] Data 0.000 (0.005) Elapsed 1m 59s (remain 1m 32s) Loss: 0.3788(0.4896) Grad: 5.0859  \n",
      "Epoch: [2][400/534] Data 0.000 (0.004) Elapsed 2m 39s (remain 0m 52s) Loss: 0.4069(0.4907) Grad: 4.9484  \n",
      "Epoch: [2][500/534] Data 0.001 (0.003) Elapsed 3m 18s (remain 0m 13s) Loss: 0.3615(0.4875) Grad: 4.7333  \n",
      "Epoch: [2][533/534] Data 0.000 (0.003) Elapsed 3m 30s (remain 0m 0s) Loss: 0.4824(0.4879) Grad: 5.6530  \n",
      "EVAL: [0/134] Data 1.183 (1.183) Elapsed 0m 1s (remain 2m 50s) Loss: 0.3238(0.3238) \n",
      "EVAL: [100/134] Data 0.517 (0.168) Elapsed 0m 26s (remain 0m 8s) Loss: 0.4018(0.4659) \n"
     ]
    },
    {
     "name": "stderr",
     "output_type": "stream",
     "text": [
      "Epoch 2 - avg_train_loss: 0.4879  avg_val_loss: 0.4640  time: 245s\n",
      "Epoch 2 - Accuracy: 0.8399158681935032\n",
      "Epoch 2 - Save Best Score: 0.8399 Model\n"
     ]
    },
    {
     "name": "stdout",
     "output_type": "stream",
     "text": [
      "EVAL: [133/134] Data 0.000 (0.159) Elapsed 0m 34s (remain 0m 0s) Loss: 0.5412(0.4640) \n",
      "Epoch: [3][0/534] Data 1.803 (1.803) Elapsed 0m 2s (remain 21m 22s) Loss: 0.3158(0.3158) Grad: 3.5757  \n",
      "Epoch: [3][100/534] Data 0.005 (0.019) Elapsed 0m 42s (remain 3m 0s) Loss: 0.5527(0.4591) Grad: 7.0700  \n",
      "Epoch: [3][200/534] Data 0.003 (0.010) Elapsed 1m 21s (remain 2m 14s) Loss: 0.5357(0.4700) Grad: 6.0082  \n",
      "Epoch: [3][300/534] Data 0.000 (0.007) Elapsed 2m 0s (remain 1m 33s) Loss: 0.7682(0.4720) Grad: 7.1019  \n",
      "Epoch: [3][400/534] Data 0.000 (0.005) Elapsed 2m 39s (remain 0m 52s) Loss: 0.4521(0.4711) Grad: 4.5859  \n",
      "Epoch: [3][500/534] Data 0.005 (0.004) Elapsed 3m 18s (remain 0m 13s) Loss: 0.2200(0.4649) Grad: 4.3597  \n",
      "Epoch: [3][533/534] Data 0.000 (0.004) Elapsed 3m 31s (remain 0m 0s) Loss: 0.3811(0.4625) Grad: 4.5999  \n",
      "EVAL: [0/134] Data 1.151 (1.151) Elapsed 0m 1s (remain 2m 45s) Loss: 0.2997(0.2997) \n",
      "EVAL: [100/134] Data 0.217 (0.164) Elapsed 0m 26s (remain 0m 8s) Loss: 0.3641(0.4294) \n"
     ]
    },
    {
     "name": "stderr",
     "output_type": "stream",
     "text": [
      "Epoch 3 - avg_train_loss: 0.4625  avg_val_loss: 0.4270  time: 246s\n",
      "Epoch 3 - Accuracy: 0.8525356391680299\n",
      "Epoch 3 - Save Best Score: 0.8525 Model\n"
     ]
    },
    {
     "name": "stdout",
     "output_type": "stream",
     "text": [
      "EVAL: [133/134] Data 0.000 (0.158) Elapsed 0m 34s (remain 0m 0s) Loss: 0.3961(0.4270) \n",
      "Epoch: [4][0/534] Data 1.218 (1.218) Elapsed 0m 1s (remain 14m 35s) Loss: 0.4136(0.4136) Grad: 4.8226  \n",
      "Epoch: [4][100/534] Data 0.002 (0.013) Elapsed 0m 41s (remain 2m 56s) Loss: 0.3391(0.4304) Grad: 3.6537  \n",
      "Epoch: [4][200/534] Data 0.002 (0.007) Elapsed 1m 20s (remain 2m 13s) Loss: 0.5741(0.4515) Grad: 6.4793  \n",
      "Epoch: [4][300/534] Data 0.000 (0.005) Elapsed 1m 59s (remain 1m 32s) Loss: 1.0012(0.4452) Grad: 6.5299  \n",
      "Epoch: [4][400/534] Data 0.000 (0.004) Elapsed 2m 38s (remain 0m 52s) Loss: 0.5595(0.4475) Grad: 5.1117  \n",
      "Epoch: [4][500/534] Data 0.000 (0.003) Elapsed 3m 17s (remain 0m 13s) Loss: 0.3696(0.4450) Grad: 3.8744  \n",
      "Epoch: [4][533/534] Data 0.000 (0.003) Elapsed 3m 30s (remain 0m 0s) Loss: 0.6821(0.4463) Grad: 6.7459  \n",
      "EVAL: [0/134] Data 1.018 (1.018) Elapsed 0m 1s (remain 2m 28s) Loss: 0.4087(0.4087) \n",
      "EVAL: [100/134] Data 0.507 (0.160) Elapsed 0m 25s (remain 0m 8s) Loss: 0.4674(0.4245) \n"
     ]
    },
    {
     "name": "stderr",
     "output_type": "stream",
     "text": [
      "Epoch 4 - avg_train_loss: 0.4463  avg_val_loss: 0.4265  time: 245s\n",
      "Epoch 4 - Accuracy: 0.8616499182051881\n",
      "Epoch 4 - Save Best Score: 0.8616 Model\n"
     ]
    },
    {
     "name": "stdout",
     "output_type": "stream",
     "text": [
      "EVAL: [133/134] Data 0.000 (0.158) Elapsed 0m 34s (remain 0m 0s) Loss: 0.4460(0.4265) \n",
      "Epoch: [5][0/534] Data 1.286 (1.286) Elapsed 0m 1s (remain 15m 16s) Loss: 0.7238(0.7238) Grad: 5.6973  \n",
      "Epoch: [5][100/534] Data 0.000 (0.013) Elapsed 0m 41s (remain 2m 57s) Loss: 0.3828(0.4211) Grad: 3.6356  \n",
      "Epoch: [5][200/534] Data 0.000 (0.007) Elapsed 1m 20s (remain 2m 12s) Loss: 0.3079(0.4182) Grad: 3.7606  \n",
      "Epoch: [5][300/534] Data 0.000 (0.005) Elapsed 1m 58s (remain 1m 32s) Loss: 0.3870(0.4155) Grad: 4.6922  \n",
      "Epoch: [5][400/534] Data 0.000 (0.004) Elapsed 2m 38s (remain 0m 52s) Loss: 0.2725(0.4195) Grad: 3.8811  \n",
      "Epoch: [5][500/534] Data 0.000 (0.003) Elapsed 3m 18s (remain 0m 13s) Loss: 0.4646(0.4238) Grad: 3.9849  \n",
      "Epoch: [5][533/534] Data 0.000 (0.003) Elapsed 3m 30s (remain 0m 0s) Loss: 0.2582(0.4245) Grad: 2.6603  \n",
      "EVAL: [0/134] Data 1.112 (1.112) Elapsed 0m 1s (remain 2m 40s) Loss: 0.3743(0.3743) \n",
      "EVAL: [100/134] Data 0.617 (0.169) Elapsed 0m 26s (remain 0m 8s) Loss: 0.5265(0.4173) \n"
     ]
    },
    {
     "name": "stderr",
     "output_type": "stream",
     "text": [
      "Epoch 5 - avg_train_loss: 0.4245  avg_val_loss: 0.4216  time: 245s\n",
      "Epoch 5 - Accuracy: 0.8597803225052583\n"
     ]
    },
    {
     "name": "stdout",
     "output_type": "stream",
     "text": [
      "EVAL: [133/134] Data 0.000 (0.157) Elapsed 0m 34s (remain 0m 0s) Loss: 0.4232(0.4216) \n",
      "Epoch: [6][0/534] Data 1.244 (1.244) Elapsed 0m 1s (remain 15m 35s) Loss: 0.4417(0.4417) Grad: 5.0318  \n",
      "Epoch: [6][100/534] Data 0.000 (0.013) Elapsed 0m 41s (remain 2m 58s) Loss: 0.5699(0.4253) Grad: 5.7690  \n",
      "Epoch: [6][200/534] Data 0.000 (0.007) Elapsed 1m 21s (remain 2m 15s) Loss: 0.3196(0.4190) Grad: 3.8982  \n",
      "Epoch: [6][300/534] Data 0.000 (0.005) Elapsed 2m 0s (remain 1m 33s) Loss: 0.4491(0.4121) Grad: 4.1455  \n",
      "Epoch: [6][400/534] Data 0.000 (0.004) Elapsed 2m 39s (remain 0m 52s) Loss: 0.4708(0.4180) Grad: 4.2135  \n",
      "Epoch: [6][500/534] Data 0.000 (0.003) Elapsed 3m 18s (remain 0m 13s) Loss: 0.5029(0.4171) Grad: 4.3153  \n",
      "Epoch: [6][533/534] Data 0.000 (0.003) Elapsed 3m 31s (remain 0m 0s) Loss: 0.6051(0.4180) Grad: 6.1192  \n",
      "EVAL: [0/134] Data 1.026 (1.026) Elapsed 0m 1s (remain 2m 31s) Loss: 0.2869(0.2869) \n",
      "EVAL: [100/134] Data 0.585 (0.165) Elapsed 0m 26s (remain 0m 8s) Loss: 0.3505(0.4372) \n"
     ]
    },
    {
     "name": "stderr",
     "output_type": "stream",
     "text": [
      "Epoch 6 - avg_train_loss: 0.4180  avg_val_loss: 0.4370  time: 246s\n",
      "Epoch 6 - Accuracy: 0.8480953493806964\n"
     ]
    },
    {
     "name": "stdout",
     "output_type": "stream",
     "text": [
      "EVAL: [133/134] Data 0.000 (0.160) Elapsed 0m 34s (remain 0m 0s) Loss: 0.4082(0.4370) \n",
      "Epoch: [7][0/534] Data 1.919 (1.919) Elapsed 0m 2s (remain 20m 51s) Loss: 0.7938(0.7938) Grad: 6.2798  \n",
      "Epoch: [7][100/534] Data 0.000 (0.020) Elapsed 0m 41s (remain 2m 58s) Loss: 0.4325(0.3848) Grad: 4.4883  \n",
      "Epoch: [7][200/534] Data 0.000 (0.010) Elapsed 1m 20s (remain 2m 14s) Loss: 0.3672(0.3928) Grad: 4.5094  \n",
      "Epoch: [7][300/534] Data 0.005 (0.007) Elapsed 2m 0s (remain 1m 33s) Loss: 0.3305(0.4004) Grad: 4.9967  \n",
      "Epoch: [7][400/534] Data 0.001 (0.005) Elapsed 2m 39s (remain 0m 52s) Loss: 0.2475(0.4059) Grad: 2.5882  \n",
      "Epoch: [7][500/534] Data 0.000 (0.005) Elapsed 3m 18s (remain 0m 13s) Loss: 0.2540(0.4057) Grad: 2.4718  \n",
      "Epoch: [7][533/534] Data 0.000 (0.004) Elapsed 3m 31s (remain 0m 0s) Loss: 0.3265(0.4059) Grad: 3.7672  \n",
      "EVAL: [0/134] Data 1.095 (1.095) Elapsed 0m 1s (remain 2m 38s) Loss: 0.3715(0.3715) \n",
      "EVAL: [100/134] Data 0.642 (0.166) Elapsed 0m 26s (remain 0m 8s) Loss: 0.5949(0.3967) \n"
     ]
    },
    {
     "name": "stderr",
     "output_type": "stream",
     "text": [
      "Epoch 7 - avg_train_loss: 0.4059  avg_val_loss: 0.3994  time: 247s\n",
      "Epoch 7 - Accuracy: 0.8679598036924515\n",
      "Epoch 7 - Save Best Score: 0.8680 Model\n"
     ]
    },
    {
     "name": "stdout",
     "output_type": "stream",
     "text": [
      "EVAL: [133/134] Data 0.000 (0.165) Elapsed 0m 35s (remain 0m 0s) Loss: 0.5299(0.3994) \n",
      "Epoch: [8][0/534] Data 1.264 (1.264) Elapsed 0m 1s (remain 15m 0s) Loss: 0.6569(0.6569) Grad: 4.7216  \n",
      "Epoch: [8][100/534] Data 0.000 (0.013) Elapsed 0m 40s (remain 2m 55s) Loss: 0.4316(0.4321) Grad: 3.5590  \n",
      "Epoch: [8][200/534] Data 0.000 (0.007) Elapsed 1m 19s (remain 2m 12s) Loss: 0.3250(0.4159) Grad: 4.6376  \n",
      "Epoch: [8][300/534] Data 0.005 (0.005) Elapsed 1m 59s (remain 1m 32s) Loss: 0.2814(0.4108) Grad: 3.5727  \n",
      "Epoch: [8][400/534] Data 0.000 (0.004) Elapsed 2m 38s (remain 0m 52s) Loss: 0.4620(0.3996) Grad: 4.1990  \n",
      "Epoch: [8][500/534] Data 0.000 (0.003) Elapsed 3m 17s (remain 0m 13s) Loss: 0.4739(0.3982) Grad: 4.6931  \n",
      "Epoch: [8][533/534] Data 0.000 (0.003) Elapsed 3m 30s (remain 0m 0s) Loss: 0.3275(0.3980) Grad: 3.5049  \n",
      "EVAL: [0/134] Data 1.100 (1.100) Elapsed 0m 1s (remain 2m 39s) Loss: 0.4031(0.4031) \n",
      "EVAL: [100/134] Data 1.238 (0.177) Elapsed 0m 27s (remain 0m 9s) Loss: 0.4939(0.3984) \n"
     ]
    },
    {
     "name": "stderr",
     "output_type": "stream",
     "text": [
      "Epoch 8 - avg_train_loss: 0.3980  avg_val_loss: 0.3996  time: 245s\n",
      "Epoch 8 - Accuracy: 0.867492404767469\n"
     ]
    },
    {
     "name": "stdout",
     "output_type": "stream",
     "text": [
      "EVAL: [133/134] Data 0.000 (0.164) Elapsed 0m 35s (remain 0m 0s) Loss: 0.4992(0.3996) \n",
      "Epoch: [9][0/534] Data 1.563 (1.563) Elapsed 0m 2s (remain 18m 6s) Loss: 0.3807(0.3807) Grad: 4.7934  \n",
      "Epoch: [9][100/534] Data 0.000 (0.016) Elapsed 0m 41s (remain 2m 56s) Loss: 0.5072(0.3736) Grad: 5.1281  \n",
      "Epoch: [9][200/534] Data 0.000 (0.008) Elapsed 1m 20s (remain 2m 13s) Loss: 0.4171(0.3970) Grad: 3.2505  \n",
      "Epoch: [9][300/534] Data 0.000 (0.006) Elapsed 1m 59s (remain 1m 32s) Loss: 0.1476(0.3865) Grad: 2.2346  \n",
      "Epoch: [9][400/534] Data 0.000 (0.005) Elapsed 2m 38s (remain 0m 52s) Loss: 0.5431(0.3888) Grad: 5.0276  \n",
      "Epoch: [9][500/534] Data 0.000 (0.004) Elapsed 3m 17s (remain 0m 13s) Loss: 0.2166(0.3907) Grad: 2.9771  \n",
      "Epoch: [9][533/534] Data 0.000 (0.004) Elapsed 3m 30s (remain 0m 0s) Loss: 0.2738(0.3905) Grad: 3.3268  \n",
      "EVAL: [0/134] Data 1.080 (1.080) Elapsed 0m 1s (remain 2m 36s) Loss: 0.3234(0.3234) \n",
      "EVAL: [100/134] Data 0.599 (0.172) Elapsed 0m 27s (remain 0m 8s) Loss: 0.5168(0.3883) \n"
     ]
    },
    {
     "name": "stderr",
     "output_type": "stream",
     "text": [
      "Epoch 9 - avg_train_loss: 0.3905  avg_val_loss: 0.3935  time: 246s\n",
      "Epoch 9 - Accuracy: 0.8709978967048376\n",
      "Epoch 9 - Save Best Score: 0.8710 Model\n"
     ]
    },
    {
     "name": "stdout",
     "output_type": "stream",
     "text": [
      "EVAL: [133/134] Data 0.000 (0.163) Elapsed 0m 35s (remain 0m 0s) Loss: 0.4034(0.3935) \n",
      "Epoch: [10][0/534] Data 1.218 (1.218) Elapsed 0m 1s (remain 14m 41s) Loss: 0.4746(0.4746) Grad: 4.5061  \n",
      "Epoch: [10][100/534] Data 0.000 (0.013) Elapsed 0m 40s (remain 2m 54s) Loss: 0.3642(0.3837) Grad: 4.0088  \n",
      "Epoch: [10][200/534] Data 0.000 (0.007) Elapsed 1m 19s (remain 2m 12s) Loss: 0.2258(0.3787) Grad: 2.9676  \n",
      "Epoch: [10][300/534] Data 0.000 (0.005) Elapsed 1m 59s (remain 1m 32s) Loss: 0.2742(0.3817) Grad: 3.0599  \n",
      "Epoch: [10][400/534] Data 0.000 (0.004) Elapsed 2m 38s (remain 0m 52s) Loss: 0.6572(0.3810) Grad: 4.9633  \n",
      "Epoch: [10][500/534] Data 0.000 (0.003) Elapsed 3m 17s (remain 0m 13s) Loss: 0.2699(0.3832) Grad: 2.8211  \n",
      "Epoch: [10][533/534] Data 0.000 (0.003) Elapsed 3m 30s (remain 0m 0s) Loss: 0.6161(0.3803) Grad: 4.8806  \n",
      "EVAL: [0/134] Data 1.095 (1.095) Elapsed 0m 1s (remain 2m 38s) Loss: 0.3498(0.3498) \n",
      "EVAL: [100/134] Data 0.602 (0.172) Elapsed 0m 27s (remain 0m 8s) Loss: 0.5897(0.4084) \n"
     ]
    },
    {
     "name": "stderr",
     "output_type": "stream",
     "text": [
      "Epoch 10 - avg_train_loss: 0.3803  avg_val_loss: 0.4088  time: 245s\n",
      "Epoch 10 - Accuracy: 0.863519513905118\n",
      "========== fold: 2 result ==========\n",
      "Score: 0.87100\n"
     ]
    },
    {
     "name": "stdout",
     "output_type": "stream",
     "text": [
      "EVAL: [133/134] Data 0.000 (0.163) Elapsed 0m 35s (remain 0m 0s) Loss: 0.4842(0.4088) \n"
     ]
    },
    {
     "name": "stderr",
     "output_type": "stream",
     "text": [
      "========== fold: 3 training ==========\n"
     ]
    },
    {
     "name": "stdout",
     "output_type": "stream",
     "text": [
      "Epoch: [1][0/534] Data 1.346 (1.346) Elapsed 0m 1s (remain 15m 52s) Loss: 1.7243(1.7243) Grad: 9.0175  \n",
      "Epoch: [1][100/534] Data 0.005 (0.014) Elapsed 0m 41s (remain 2m 59s) Loss: 0.4638(0.8427) Grad: 6.0142  \n",
      "Epoch: [1][200/534] Data 0.000 (0.007) Elapsed 1m 20s (remain 2m 13s) Loss: 0.6269(0.7309) Grad: 7.6851  \n",
      "Epoch: [1][300/534] Data 0.000 (0.005) Elapsed 2m 0s (remain 1m 33s) Loss: 0.4519(0.6764) Grad: 7.7422  \n",
      "Epoch: [1][400/534] Data 0.000 (0.004) Elapsed 2m 39s (remain 0m 52s) Loss: 0.4204(0.6468) Grad: 5.3487  \n",
      "Epoch: [1][500/534] Data 0.000 (0.003) Elapsed 3m 18s (remain 0m 13s) Loss: 0.7009(0.6269) Grad: 8.6748  \n",
      "Epoch: [1][533/534] Data 0.000 (0.003) Elapsed 3m 31s (remain 0m 0s) Loss: 0.4713(0.6220) Grad: 6.0804  \n",
      "EVAL: [0/134] Data 1.267 (1.267) Elapsed 0m 1s (remain 3m 0s) Loss: 0.6819(0.6819) \n",
      "EVAL: [100/134] Data 0.619 (0.182) Elapsed 0m 28s (remain 0m 9s) Loss: 0.5472(0.5120) \n"
     ]
    },
    {
     "name": "stderr",
     "output_type": "stream",
     "text": [
      "Epoch 1 - avg_train_loss: 0.6220  avg_val_loss: 0.5213  time: 247s\n",
      "Epoch 1 - Accuracy: 0.8116382332320635\n",
      "Epoch 1 - Save Best Score: 0.8116 Model\n"
     ]
    },
    {
     "name": "stdout",
     "output_type": "stream",
     "text": [
      "EVAL: [133/134] Data 0.000 (0.171) Elapsed 0m 36s (remain 0m 0s) Loss: 0.5022(0.5213) \n",
      "Epoch: [2][0/534] Data 1.322 (1.322) Elapsed 0m 1s (remain 16m 4s) Loss: 0.4881(0.4881) Grad: 6.2146  \n",
      "Epoch: [2][100/534] Data 0.000 (0.014) Elapsed 0m 42s (remain 3m 0s) Loss: 0.5272(0.4757) Grad: 7.1466  \n",
      "Epoch: [2][200/534] Data 0.000 (0.007) Elapsed 1m 21s (remain 2m 15s) Loss: 0.5855(0.4937) Grad: 6.2857  \n",
      "Epoch: [2][300/534] Data 0.000 (0.005) Elapsed 2m 1s (remain 1m 34s) Loss: 0.2765(0.4996) Grad: 3.9028  \n",
      "Epoch: [2][400/534] Data 0.000 (0.004) Elapsed 2m 41s (remain 0m 53s) Loss: 0.7175(0.4950) Grad: 7.0566  \n",
      "Epoch: [2][500/534] Data 0.000 (0.003) Elapsed 3m 19s (remain 0m 13s) Loss: 0.2957(0.4898) Grad: 4.0985  \n",
      "Epoch: [2][533/534] Data 0.000 (0.003) Elapsed 3m 32s (remain 0m 0s) Loss: 0.4160(0.4882) Grad: 4.6111  \n",
      "EVAL: [0/134] Data 1.099 (1.099) Elapsed 0m 1s (remain 2m 39s) Loss: 0.6281(0.6281) \n",
      "EVAL: [100/134] Data 0.285 (0.167) Elapsed 0m 26s (remain 0m 8s) Loss: 0.3519(0.4412) \n"
     ]
    },
    {
     "name": "stderr",
     "output_type": "stream",
     "text": [
      "Epoch 2 - avg_train_loss: 0.4882  avg_val_loss: 0.4540  time: 247s\n",
      "Epoch 2 - Accuracy: 0.8406169665809768\n",
      "Epoch 2 - Save Best Score: 0.8406 Model\n"
     ]
    },
    {
     "name": "stdout",
     "output_type": "stream",
     "text": [
      "EVAL: [133/134] Data 0.036 (0.159) Elapsed 0m 34s (remain 0m 0s) Loss: 0.6146(0.4540) \n",
      "Epoch: [3][0/534] Data 1.255 (1.255) Elapsed 0m 1s (remain 15m 5s) Loss: 0.7333(0.7333) Grad: 7.1804  \n",
      "Epoch: [3][100/534] Data 0.000 (0.013) Elapsed 0m 42s (remain 3m 0s) Loss: 0.3489(0.4803) Grad: 3.0643  \n",
      "Epoch: [3][200/534] Data 0.000 (0.007) Elapsed 1m 20s (remain 2m 13s) Loss: 0.2990(0.4652) Grad: 3.9244  \n",
      "Epoch: [3][300/534] Data 0.000 (0.005) Elapsed 2m 0s (remain 1m 32s) Loss: 0.3123(0.4590) Grad: 3.6528  \n",
      "Epoch: [3][400/534] Data 0.000 (0.004) Elapsed 2m 39s (remain 0m 52s) Loss: 0.4200(0.4585) Grad: 4.3300  \n",
      "Epoch: [3][500/534] Data 0.000 (0.003) Elapsed 3m 18s (remain 0m 13s) Loss: 0.3556(0.4580) Grad: 4.2105  \n",
      "Epoch: [3][533/534] Data 0.000 (0.003) Elapsed 3m 31s (remain 0m 0s) Loss: 0.6562(0.4565) Grad: 6.4098  \n",
      "EVAL: [0/134] Data 1.450 (1.450) Elapsed 0m 1s (remain 3m 26s) Loss: 0.5468(0.5468) \n",
      "EVAL: [100/134] Data 0.457 (0.170) Elapsed 0m 27s (remain 0m 8s) Loss: 0.3383(0.4313) \n"
     ]
    },
    {
     "name": "stderr",
     "output_type": "stream",
     "text": [
      "Epoch 3 - avg_train_loss: 0.4565  avg_val_loss: 0.4384  time: 246s\n",
      "Epoch 3 - Accuracy: 0.8511334423930825\n",
      "Epoch 3 - Save Best Score: 0.8511 Model\n"
     ]
    },
    {
     "name": "stdout",
     "output_type": "stream",
     "text": [
      "EVAL: [133/134] Data 0.000 (0.160) Elapsed 0m 34s (remain 0m 0s) Loss: 0.5409(0.4384) \n",
      "Epoch: [4][0/534] Data 1.164 (1.164) Elapsed 0m 1s (remain 14m 13s) Loss: 0.3311(0.3311) Grad: 4.8622  \n",
      "Epoch: [4][100/534] Data 0.000 (0.012) Elapsed 0m 41s (remain 2m 55s) Loss: 0.4559(0.4442) Grad: 5.4304  \n",
      "Epoch: [4][200/534] Data 0.000 (0.007) Elapsed 1m 20s (remain 2m 13s) Loss: 0.6463(0.4393) Grad: 6.3520  \n",
      "Epoch: [4][300/534] Data 0.000 (0.004) Elapsed 1m 59s (remain 1m 32s) Loss: 0.5010(0.4366) Grad: 4.1552  \n",
      "Epoch: [4][400/534] Data 0.000 (0.004) Elapsed 2m 38s (remain 0m 52s) Loss: 0.3527(0.4388) Grad: 4.6718  \n",
      "Epoch: [4][500/534] Data 0.000 (0.003) Elapsed 3m 17s (remain 0m 13s) Loss: 0.3242(0.4386) Grad: 2.9639  \n",
      "Epoch: [4][533/534] Data 0.000 (0.003) Elapsed 3m 30s (remain 0m 0s) Loss: 0.5088(0.4392) Grad: 5.1633  \n",
      "EVAL: [0/134] Data 1.107 (1.107) Elapsed 0m 1s (remain 2m 40s) Loss: 0.5813(0.5813) \n",
      "EVAL: [100/134] Data 0.299 (0.157) Elapsed 0m 25s (remain 0m 8s) Loss: 0.3902(0.4249) \n"
     ]
    },
    {
     "name": "stderr",
     "output_type": "stream",
     "text": [
      "Epoch 4 - avg_train_loss: 0.4392  avg_val_loss: 0.4346  time: 245s\n",
      "Epoch 4 - Accuracy: 0.8572096284178546\n",
      "Epoch 4 - Save Best Score: 0.8572 Model\n"
     ]
    },
    {
     "name": "stdout",
     "output_type": "stream",
     "text": [
      "EVAL: [133/134] Data 0.000 (0.159) Elapsed 0m 34s (remain 0m 0s) Loss: 0.4701(0.4346) \n",
      "Epoch: [5][0/534] Data 1.307 (1.307) Elapsed 0m 1s (remain 15m 14s) Loss: 0.2693(0.2693) Grad: 2.4172  \n",
      "Epoch: [5][100/534] Data 0.005 (0.014) Elapsed 0m 41s (remain 2m 57s) Loss: 0.4367(0.4522) Grad: 4.2592  \n",
      "Epoch: [5][200/534] Data 0.000 (0.007) Elapsed 1m 20s (remain 2m 13s) Loss: 0.5164(0.4356) Grad: 5.5171  \n",
      "Epoch: [5][300/534] Data 0.000 (0.005) Elapsed 1m 59s (remain 1m 32s) Loss: 0.2493(0.4274) Grad: 3.1702  \n",
      "Epoch: [5][400/534] Data 0.002 (0.004) Elapsed 2m 38s (remain 0m 52s) Loss: 0.8057(0.4250) Grad: 6.1859  \n",
      "Epoch: [5][500/534] Data 0.000 (0.003) Elapsed 3m 18s (remain 0m 13s) Loss: 0.3773(0.4289) Grad: 3.2443  \n",
      "Epoch: [5][533/534] Data 0.000 (0.003) Elapsed 3m 30s (remain 0m 0s) Loss: 0.4235(0.4279) Grad: 4.3711  \n",
      "EVAL: [0/134] Data 1.100 (1.100) Elapsed 0m 1s (remain 2m 40s) Loss: 0.6240(0.6240) \n",
      "EVAL: [100/134] Data 0.141 (0.164) Elapsed 0m 26s (remain 0m 8s) Loss: 0.4624(0.4259) \n"
     ]
    },
    {
     "name": "stderr",
     "output_type": "stream",
     "text": [
      "Epoch 5 - avg_train_loss: 0.4279  avg_val_loss: 0.4372  time: 245s\n",
      "Epoch 5 - Accuracy: 0.8583781257303108\n",
      "Epoch 5 - Save Best Score: 0.8584 Model\n"
     ]
    },
    {
     "name": "stdout",
     "output_type": "stream",
     "text": [
      "EVAL: [133/134] Data 0.000 (0.158) Elapsed 0m 34s (remain 0m 0s) Loss: 0.2742(0.4372) \n",
      "Epoch: [6][0/534] Data 1.265 (1.265) Elapsed 0m 1s (remain 15m 12s) Loss: 0.9304(0.9304) Grad: 7.7210  \n",
      "Epoch: [6][100/534] Data 0.000 (0.013) Elapsed 0m 41s (remain 2m 59s) Loss: 0.5130(0.4026) Grad: 5.8260  \n",
      "Epoch: [6][200/534] Data 0.010 (0.007) Elapsed 1m 21s (remain 2m 15s) Loss: 0.4506(0.4245) Grad: 4.2868  \n",
      "Epoch: [6][300/534] Data 0.000 (0.005) Elapsed 1m 59s (remain 1m 32s) Loss: 0.3280(0.4176) Grad: 4.6477  \n",
      "Epoch: [6][400/534] Data 0.001 (0.004) Elapsed 2m 39s (remain 0m 52s) Loss: 0.4491(0.4138) Grad: 3.2611  \n",
      "Epoch: [6][500/534] Data 0.000 (0.003) Elapsed 3m 18s (remain 0m 13s) Loss: 0.3905(0.4117) Grad: 4.0358  \n",
      "Epoch: [6][533/534] Data 0.000 (0.003) Elapsed 3m 30s (remain 0m 0s) Loss: 0.2527(0.4105) Grad: 2.5187  \n",
      "EVAL: [0/134] Data 1.163 (1.163) Elapsed 0m 1s (remain 2m 47s) Loss: 0.6806(0.6806) \n",
      "EVAL: [100/134] Data 0.402 (0.164) Elapsed 0m 26s (remain 0m 8s) Loss: 0.2407(0.4695) \n"
     ]
    },
    {
     "name": "stderr",
     "output_type": "stream",
     "text": [
      "Epoch 6 - avg_train_loss: 0.4105  avg_val_loss: 0.4652  time: 246s\n",
      "Epoch 6 - Accuracy: 0.8511334423930825\n"
     ]
    },
    {
     "name": "stdout",
     "output_type": "stream",
     "text": [
      "EVAL: [133/134] Data 0.036 (0.162) Elapsed 0m 34s (remain 0m 0s) Loss: 0.3853(0.4652) \n",
      "Epoch: [7][0/534] Data 1.511 (1.511) Elapsed 0m 2s (remain 18m 34s) Loss: 0.2983(0.2983) Grad: 3.1074  \n",
      "Epoch: [7][100/534] Data 0.000 (0.016) Elapsed 0m 41s (remain 2m 56s) Loss: 0.6789(0.4041) Grad: 6.6050  \n",
      "Epoch: [7][200/534] Data 0.000 (0.008) Elapsed 1m 20s (remain 2m 13s) Loss: 0.3081(0.4004) Grad: 3.6221  \n",
      "Epoch: [7][300/534] Data 0.000 (0.006) Elapsed 1m 59s (remain 1m 32s) Loss: 0.1800(0.3983) Grad: 2.8182  \n",
      "Epoch: [7][400/534] Data 0.000 (0.004) Elapsed 2m 38s (remain 0m 52s) Loss: 0.3579(0.3978) Grad: 4.4755  \n",
      "Epoch: [7][500/534] Data 0.000 (0.004) Elapsed 3m 18s (remain 0m 13s) Loss: 0.4585(0.3948) Grad: 3.8706  \n",
      "Epoch: [7][533/534] Data 0.000 (0.003) Elapsed 3m 30s (remain 0m 0s) Loss: 0.4449(0.3968) Grad: 3.8627  \n",
      "EVAL: [0/134] Data 1.184 (1.184) Elapsed 0m 1s (remain 2m 49s) Loss: 0.6969(0.6969) \n",
      "EVAL: [100/134] Data 0.917 (0.171) Elapsed 0m 27s (remain 0m 8s) Loss: 0.3771(0.4455) \n"
     ]
    },
    {
     "name": "stderr",
     "output_type": "stream",
     "text": [
      "Epoch 7 - avg_train_loss: 0.3968  avg_val_loss: 0.4508  time: 246s\n",
      "Epoch 7 - Accuracy: 0.8464594531432578\n"
     ]
    },
    {
     "name": "stdout",
     "output_type": "stream",
     "text": [
      "EVAL: [133/134] Data 0.000 (0.164) Elapsed 0m 35s (remain 0m 0s) Loss: 0.4828(0.4508) \n",
      "Epoch: [8][0/534] Data 1.285 (1.285) Elapsed 0m 1s (remain 15m 3s) Loss: 0.2151(0.2151) Grad: 3.2342  \n",
      "Epoch: [8][100/534] Data 0.000 (0.013) Elapsed 0m 40s (remain 2m 54s) Loss: 0.6433(0.3998) Grad: 4.5198  \n",
      "Epoch: [8][200/534] Data 0.000 (0.007) Elapsed 1m 20s (remain 2m 13s) Loss: 0.2390(0.3962) Grad: 3.6351  \n",
      "Epoch: [8][300/534] Data 0.000 (0.005) Elapsed 1m 59s (remain 1m 32s) Loss: 0.5170(0.3862) Grad: 4.9198  \n",
      "Epoch: [8][400/534] Data 0.000 (0.004) Elapsed 2m 38s (remain 0m 52s) Loss: 0.4122(0.3899) Grad: 4.4640  \n",
      "Epoch: [8][500/534] Data 0.000 (0.003) Elapsed 3m 17s (remain 0m 13s) Loss: 0.6471(0.3881) Grad: 6.4085  \n",
      "Epoch: [8][533/534] Data 0.000 (0.003) Elapsed 3m 30s (remain 0m 0s) Loss: 0.6226(0.3881) Grad: 4.5372  \n",
      "EVAL: [0/134] Data 1.123 (1.123) Elapsed 0m 1s (remain 2m 41s) Loss: 0.6669(0.6669) \n",
      "EVAL: [100/134] Data 0.958 (0.167) Elapsed 0m 26s (remain 0m 8s) Loss: 0.3845(0.4099) \n"
     ]
    },
    {
     "name": "stderr",
     "output_type": "stream",
     "text": [
      "Epoch 8 - avg_train_loss: 0.3881  avg_val_loss: 0.4143  time: 246s\n",
      "Epoch 8 - Accuracy: 0.8653891096050479\n",
      "Epoch 8 - Save Best Score: 0.8654 Model\n"
     ]
    },
    {
     "name": "stdout",
     "output_type": "stream",
     "text": [
      "EVAL: [133/134] Data 0.000 (0.163) Elapsed 0m 35s (remain 0m 0s) Loss: 0.4790(0.4143) \n",
      "Epoch: [9][0/534] Data 1.244 (1.244) Elapsed 0m 1s (remain 14m 47s) Loss: 0.3437(0.3437) Grad: 3.6623  \n",
      "Epoch: [9][100/534] Data 0.000 (0.013) Elapsed 0m 40s (remain 2m 54s) Loss: 0.6137(0.3716) Grad: 4.1043  \n",
      "Epoch: [9][200/534] Data 0.000 (0.007) Elapsed 1m 20s (remain 2m 12s) Loss: 0.3413(0.3763) Grad: 3.2311  \n",
      "Epoch: [9][300/534] Data 0.000 (0.005) Elapsed 1m 59s (remain 1m 32s) Loss: 0.4688(0.3778) Grad: 4.5777  \n",
      "Epoch: [9][400/534] Data 0.009 (0.004) Elapsed 2m 38s (remain 0m 52s) Loss: 0.4294(0.3818) Grad: 3.9808  \n",
      "Epoch: [9][500/534] Data 0.000 (0.003) Elapsed 3m 18s (remain 0m 13s) Loss: 0.5003(0.3835) Grad: 4.4482  \n",
      "Epoch: [9][533/534] Data 0.000 (0.003) Elapsed 3m 30s (remain 0m 0s) Loss: 0.3945(0.3870) Grad: 3.1427  \n",
      "EVAL: [0/134] Data 1.066 (1.066) Elapsed 0m 1s (remain 2m 34s) Loss: 0.6958(0.6958) \n",
      "EVAL: [100/134] Data 0.529 (0.178) Elapsed 0m 27s (remain 0m 9s) Loss: 0.3214(0.4188) \n"
     ]
    },
    {
     "name": "stderr",
     "output_type": "stream",
     "text": [
      "Epoch 9 - avg_train_loss: 0.3870  avg_val_loss: 0.4199  time: 246s\n",
      "Epoch 9 - Accuracy: 0.8600140219677495\n"
     ]
    },
    {
     "name": "stdout",
     "output_type": "stream",
     "text": [
      "EVAL: [133/134] Data 0.000 (0.167) Elapsed 0m 35s (remain 0m 0s) Loss: 0.4578(0.4199) \n",
      "Epoch: [10][0/534] Data 1.299 (1.299) Elapsed 0m 1s (remain 15m 25s) Loss: 0.5375(0.5375) Grad: 4.3844  \n",
      "Epoch: [10][100/534] Data 0.000 (0.013) Elapsed 0m 40s (remain 2m 55s) Loss: 0.2086(0.3428) Grad: 3.0930  \n",
      "Epoch: [10][200/534] Data 0.000 (0.007) Elapsed 1m 20s (remain 2m 13s) Loss: 0.3525(0.3491) Grad: 3.7662  \n",
      "Epoch: [10][300/534] Data 0.000 (0.005) Elapsed 2m 0s (remain 1m 33s) Loss: 0.2842(0.3617) Grad: 2.9449  \n",
      "Epoch: [10][400/534] Data 0.000 (0.004) Elapsed 2m 39s (remain 0m 52s) Loss: 0.5480(0.3617) Grad: 5.0427  \n",
      "Epoch: [10][500/534] Data 0.000 (0.003) Elapsed 3m 18s (remain 0m 13s) Loss: 0.3464(0.3722) Grad: 3.5168  \n",
      "Epoch: [10][533/534] Data 0.000 (0.003) Elapsed 3m 31s (remain 0m 0s) Loss: 0.6418(0.3747) Grad: 5.4071  \n",
      "EVAL: [0/134] Data 1.102 (1.102) Elapsed 0m 1s (remain 2m 38s) Loss: 0.8293(0.8293) \n",
      "EVAL: [100/134] Data 0.598 (0.169) Elapsed 0m 27s (remain 0m 8s) Loss: 0.3003(0.4140) \n"
     ]
    },
    {
     "name": "stderr",
     "output_type": "stream",
     "text": [
      "Epoch 10 - avg_train_loss: 0.3747  avg_val_loss: 0.4197  time: 247s\n",
      "Epoch 10 - Accuracy: 0.8602477214302408\n",
      "========== fold: 3 result ==========\n",
      "Score: 0.86539\n",
      "========== fold: 4 training ==========\n"
     ]
    },
    {
     "name": "stdout",
     "output_type": "stream",
     "text": [
      "EVAL: [133/134] Data 0.000 (0.164) Elapsed 0m 35s (remain 0m 0s) Loss: 0.3914(0.4197) \n",
      "Epoch: [1][0/534] Data 1.206 (1.206) Elapsed 0m 1s (remain 14m 34s) Loss: 1.5797(1.5797) Grad: 8.6131  \n",
      "Epoch: [1][100/534] Data 0.000 (0.013) Elapsed 0m 41s (remain 2m 58s) Loss: 0.8411(0.8866) Grad: 9.2778  \n",
      "Epoch: [1][200/534] Data 0.000 (0.007) Elapsed 1m 20s (remain 2m 12s) Loss: 0.4461(0.7655) Grad: 7.1081  \n",
      "Epoch: [1][300/534] Data 0.000 (0.005) Elapsed 1m 59s (remain 1m 32s) Loss: 0.5121(0.7034) Grad: 7.9015  \n",
      "Epoch: [1][400/534] Data 0.000 (0.004) Elapsed 2m 39s (remain 0m 52s) Loss: 0.2496(0.6618) Grad: 3.5523  \n",
      "Epoch: [1][500/534] Data 0.000 (0.003) Elapsed 3m 18s (remain 0m 13s) Loss: 0.3291(0.6367) Grad: 5.2749  \n",
      "Epoch: [1][533/534] Data 0.000 (0.003) Elapsed 3m 30s (remain 0m 0s) Loss: 0.9296(0.6331) Grad: 9.2386  \n",
      "EVAL: [0/134] Data 1.468 (1.468) Elapsed 0m 1s (remain 3m 29s) Loss: 0.7206(0.7206) \n",
      "EVAL: [100/134] Data 0.559 (0.178) Elapsed 0m 27s (remain 0m 9s) Loss: 0.5442(0.5043) \n"
     ]
    },
    {
     "name": "stderr",
     "output_type": "stream",
     "text": [
      "Epoch 1 - avg_train_loss: 0.6331  avg_val_loss: 0.5019  time: 246s\n",
      "Epoch 1 - Accuracy: 0.8293993923813975\n",
      "Epoch 1 - Save Best Score: 0.8294 Model\n"
     ]
    },
    {
     "name": "stdout",
     "output_type": "stream",
     "text": [
      "EVAL: [133/134] Data 0.000 (0.166) Elapsed 0m 35s (remain 0m 0s) Loss: 0.5314(0.5019) \n",
      "Epoch: [2][0/534] Data 1.328 (1.328) Elapsed 0m 1s (remain 15m 35s) Loss: 0.7651(0.7651) Grad: 8.6245  \n",
      "Epoch: [2][100/534] Data 0.000 (0.014) Elapsed 0m 41s (remain 2m 58s) Loss: 0.3699(0.5280) Grad: 5.8304  \n",
      "Epoch: [2][200/534] Data 0.000 (0.007) Elapsed 1m 20s (remain 2m 13s) Loss: 0.3923(0.5104) Grad: 7.9232  \n",
      "Epoch: [2][300/534] Data 0.000 (0.005) Elapsed 1m 59s (remain 1m 32s) Loss: 0.2132(0.5006) Grad: 3.1624  \n",
      "Epoch: [2][400/534] Data 0.000 (0.004) Elapsed 2m 39s (remain 0m 52s) Loss: 0.7855(0.4983) Grad: 7.8008  \n",
      "Epoch: [2][500/534] Data 0.000 (0.003) Elapsed 3m 17s (remain 0m 13s) Loss: 0.7062(0.4923) Grad: 6.6372  \n",
      "Epoch: [2][533/534] Data 0.000 (0.003) Elapsed 3m 30s (remain 0m 0s) Loss: 0.5385(0.4935) Grad: 6.5017  \n",
      "EVAL: [0/134] Data 1.090 (1.090) Elapsed 0m 1s (remain 2m 38s) Loss: 0.6062(0.6062) \n",
      "EVAL: [100/134] Data 0.547 (0.166) Elapsed 0m 26s (remain 0m 8s) Loss: 0.4285(0.4379) \n"
     ]
    },
    {
     "name": "stderr",
     "output_type": "stream",
     "text": [
      "Epoch 2 - avg_train_loss: 0.4935  avg_val_loss: 0.4374  time: 245s\n",
      "Epoch 2 - Accuracy: 0.8483290488431876\n",
      "Epoch 2 - Save Best Score: 0.8483 Model\n"
     ]
    },
    {
     "name": "stdout",
     "output_type": "stream",
     "text": [
      "EVAL: [133/134] Data 0.000 (0.159) Elapsed 0m 34s (remain 0m 0s) Loss: 0.2559(0.4374) \n",
      "Epoch: [3][0/534] Data 1.302 (1.302) Elapsed 0m 1s (remain 15m 11s) Loss: 0.8311(0.8311) Grad: 7.0511  \n",
      "Epoch: [3][100/534] Data 0.000 (0.013) Elapsed 0m 41s (remain 2m 58s) Loss: 0.3104(0.4528) Grad: 4.7246  \n",
      "Epoch: [3][200/534] Data 0.000 (0.007) Elapsed 1m 21s (remain 2m 14s) Loss: 0.5215(0.4593) Grad: 4.7053  \n",
      "Epoch: [3][300/534] Data 0.000 (0.005) Elapsed 2m 1s (remain 1m 34s) Loss: 0.3713(0.4568) Grad: 4.7888  \n",
      "Epoch: [3][400/534] Data 0.000 (0.004) Elapsed 2m 41s (remain 0m 53s) Loss: 0.3794(0.4592) Grad: 6.2041  \n",
      "Epoch: [3][500/534] Data 0.000 (0.003) Elapsed 3m 20s (remain 0m 13s) Loss: 0.5913(0.4587) Grad: 5.3626  \n",
      "Epoch: [3][533/534] Data 0.000 (0.003) Elapsed 3m 33s (remain 0m 0s) Loss: 0.5002(0.4604) Grad: 5.7363  \n",
      "EVAL: [0/134] Data 1.173 (1.173) Elapsed 0m 1s (remain 2m 48s) Loss: 0.5588(0.5588) \n",
      "EVAL: [100/134] Data 0.235 (0.164) Elapsed 0m 26s (remain 0m 8s) Loss: 0.3893(0.4607) \n"
     ]
    },
    {
     "name": "stderr",
     "output_type": "stream",
     "text": [
      "Epoch 3 - avg_train_loss: 0.4604  avg_val_loss: 0.4561  time: 248s\n",
      "Epoch 3 - Accuracy: 0.8422528628184155\n"
     ]
    },
    {
     "name": "stdout",
     "output_type": "stream",
     "text": [
      "EVAL: [133/134] Data 0.000 (0.162) Elapsed 0m 34s (remain 0m 0s) Loss: 0.2832(0.4561) \n",
      "Epoch: [4][0/534] Data 1.581 (1.581) Elapsed 0m 2s (remain 18m 14s) Loss: 0.3090(0.3090) Grad: 4.2237  \n",
      "Epoch: [4][100/534] Data 0.000 (0.016) Elapsed 0m 42s (remain 3m 0s) Loss: 0.3529(0.4420) Grad: 3.9495  \n",
      "Epoch: [4][200/534] Data 0.000 (0.009) Elapsed 1m 21s (remain 2m 15s) Loss: 0.2691(0.4437) Grad: 2.7513  \n",
      "Epoch: [4][300/534] Data 0.000 (0.006) Elapsed 2m 0s (remain 1m 33s) Loss: 0.7125(0.4457) Grad: 5.8521  \n",
      "Epoch: [4][400/534] Data 0.000 (0.005) Elapsed 2m 41s (remain 0m 53s) Loss: 0.4263(0.4421) Grad: 4.8703  \n",
      "Epoch: [4][500/534] Data 0.000 (0.004) Elapsed 3m 20s (remain 0m 13s) Loss: 0.5448(0.4390) Grad: 5.9133  \n",
      "Epoch: [4][533/534] Data 0.000 (0.004) Elapsed 3m 33s (remain 0m 0s) Loss: 0.5255(0.4375) Grad: 4.2734  \n",
      "EVAL: [0/134] Data 1.104 (1.104) Elapsed 0m 1s (remain 2m 40s) Loss: 0.4752(0.4752) \n",
      "EVAL: [100/134] Data 0.244 (0.165) Elapsed 0m 26s (remain 0m 8s) Loss: 0.4802(0.4115) \n"
     ]
    },
    {
     "name": "stderr",
     "output_type": "stream",
     "text": [
      "Epoch 4 - avg_train_loss: 0.4375  avg_val_loss: 0.4117  time: 248s\n",
      "Epoch 4 - Accuracy: 0.8600140219677495\n",
      "Epoch 4 - Save Best Score: 0.8600 Model\n"
     ]
    },
    {
     "name": "stdout",
     "output_type": "stream",
     "text": [
      "EVAL: [133/134] Data 0.019 (0.161) Elapsed 0m 34s (remain 0m 0s) Loss: 0.2042(0.4117) \n",
      "Epoch: [5][0/534] Data 1.321 (1.321) Elapsed 0m 1s (remain 15m 41s) Loss: 0.1590(0.1590) Grad: 1.9009  \n",
      "Epoch: [5][100/534] Data 0.000 (0.014) Elapsed 0m 42s (remain 3m 1s) Loss: 0.3662(0.4230) Grad: 3.4152  \n",
      "Epoch: [5][200/534] Data 0.000 (0.007) Elapsed 1m 21s (remain 2m 15s) Loss: 0.4696(0.4263) Grad: 5.1180  \n",
      "Epoch: [5][300/534] Data 0.000 (0.005) Elapsed 2m 0s (remain 1m 33s) Loss: 0.3657(0.4244) Grad: 3.6994  \n",
      "Epoch: [5][400/534] Data 0.000 (0.004) Elapsed 2m 39s (remain 0m 52s) Loss: 0.6804(0.4273) Grad: 5.1525  \n",
      "Epoch: [5][500/534] Data 0.000 (0.003) Elapsed 3m 19s (remain 0m 13s) Loss: 0.3671(0.4254) Grad: 4.3476  \n",
      "Epoch: [5][533/534] Data 0.000 (0.003) Elapsed 3m 32s (remain 0m 0s) Loss: 0.3957(0.4255) Grad: 4.7442  \n",
      "EVAL: [0/134] Data 0.984 (0.984) Elapsed 0m 1s (remain 2m 23s) Loss: 0.4144(0.4144) \n",
      "EVAL: [100/134] Data 0.000 (0.167) Elapsed 0m 26s (remain 0m 8s) Loss: 0.4363(0.4093) \n"
     ]
    },
    {
     "name": "stderr",
     "output_type": "stream",
     "text": [
      "Epoch 5 - avg_train_loss: 0.4255  avg_val_loss: 0.4045  time: 248s\n",
      "Epoch 5 - Accuracy: 0.8607151203552231\n",
      "Epoch 5 - Save Best Score: 0.8607 Model\n"
     ]
    },
    {
     "name": "stdout",
     "output_type": "stream",
     "text": [
      "EVAL: [133/134] Data 0.109 (0.165) Elapsed 0m 35s (remain 0m 0s) Loss: 0.1456(0.4045) \n",
      "Epoch: [6][0/534] Data 1.740 (1.740) Elapsed 0m 2s (remain 19m 22s) Loss: 0.3477(0.3477) Grad: 3.0822  \n",
      "Epoch: [6][100/534] Data 0.000 (0.018) Elapsed 0m 41s (remain 2m 56s) Loss: 0.4325(0.4084) Grad: 5.3416  \n",
      "Epoch: [6][200/534] Data 0.000 (0.009) Elapsed 1m 20s (remain 2m 13s) Loss: 0.4657(0.4049) Grad: 4.3864  \n",
      "Epoch: [6][300/534] Data 0.010 (0.006) Elapsed 2m 0s (remain 1m 33s) Loss: 0.4487(0.4086) Grad: 6.2243  \n",
      "Epoch: [6][400/534] Data 0.000 (0.005) Elapsed 2m 39s (remain 0m 52s) Loss: 0.2893(0.4184) Grad: 3.3362  \n",
      "Epoch: [6][500/534] Data 0.000 (0.004) Elapsed 3m 19s (remain 0m 13s) Loss: 0.4434(0.4141) Grad: 3.7516  \n",
      "Epoch: [6][533/534] Data 0.000 (0.004) Elapsed 3m 31s (remain 0m 0s) Loss: 0.5786(0.4115) Grad: 5.7210  \n",
      "EVAL: [0/134] Data 1.296 (1.296) Elapsed 0m 1s (remain 3m 4s) Loss: 0.5494(0.5494) \n",
      "EVAL: [100/134] Data 0.419 (0.166) Elapsed 0m 26s (remain 0m 8s) Loss: 0.4644(0.3968) \n"
     ]
    },
    {
     "name": "stderr",
     "output_type": "stream",
     "text": [
      "Epoch 6 - avg_train_loss: 0.4115  avg_val_loss: 0.4030  time: 248s\n",
      "Epoch 6 - Accuracy: 0.8572096284178546\n"
     ]
    },
    {
     "name": "stdout",
     "output_type": "stream",
     "text": [
      "EVAL: [133/134] Data 0.000 (0.169) Elapsed 0m 35s (remain 0m 0s) Loss: 0.1444(0.4030) \n",
      "Epoch: [7][0/534] Data 1.331 (1.331) Elapsed 0m 1s (remain 15m 14s) Loss: 0.2357(0.2357) Grad: 3.1952  \n",
      "Epoch: [7][100/534] Data 0.003 (0.014) Elapsed 0m 41s (remain 2m 56s) Loss: 0.1894(0.3904) Grad: 2.2020  \n",
      "Epoch: [7][200/534] Data 0.000 (0.007) Elapsed 1m 20s (remain 2m 13s) Loss: 0.3705(0.3846) Grad: 3.6788  \n",
      "Epoch: [7][300/534] Data 0.000 (0.005) Elapsed 2m 0s (remain 1m 33s) Loss: 0.5147(0.3929) Grad: 5.3842  \n",
      "Epoch: [7][400/534] Data 0.002 (0.004) Elapsed 2m 39s (remain 0m 53s) Loss: 0.1819(0.4017) Grad: 4.2382  \n",
      "Epoch: [7][500/534] Data 0.000 (0.003) Elapsed 3m 19s (remain 0m 13s) Loss: 0.5093(0.4049) Grad: 4.5051  \n",
      "Epoch: [7][533/534] Data 0.000 (0.003) Elapsed 3m 31s (remain 0m 0s) Loss: 0.3641(0.4050) Grad: 4.4630  \n",
      "EVAL: [0/134] Data 1.154 (1.154) Elapsed 0m 1s (remain 2m 46s) Loss: 0.3328(0.3328) \n",
      "EVAL: [100/134] Data 0.539 (0.179) Elapsed 0m 28s (remain 0m 9s) Loss: 0.4894(0.3921) \n"
     ]
    },
    {
     "name": "stderr",
     "output_type": "stream",
     "text": [
      "Epoch 7 - avg_train_loss: 0.4050  avg_val_loss: 0.3912  time: 248s\n",
      "Epoch 7 - Accuracy: 0.8667913063799954\n",
      "Epoch 7 - Save Best Score: 0.8668 Model\n"
     ]
    },
    {
     "name": "stdout",
     "output_type": "stream",
     "text": [
      "EVAL: [133/134] Data 0.000 (0.170) Elapsed 0m 35s (remain 0m 0s) Loss: 0.1575(0.3912) \n",
      "Epoch: [8][0/534] Data 1.306 (1.306) Elapsed 0m 1s (remain 15m 28s) Loss: 0.3537(0.3537) Grad: 3.8524  \n",
      "Epoch: [8][100/534] Data 0.000 (0.014) Elapsed 0m 41s (remain 2m 57s) Loss: 0.1696(0.3841) Grad: 2.2508  \n",
      "Epoch: [8][200/534] Data 0.000 (0.007) Elapsed 1m 20s (remain 2m 14s) Loss: 0.4991(0.3903) Grad: 4.2601  \n",
      "Epoch: [8][300/534] Data 0.004 (0.005) Elapsed 2m 0s (remain 1m 33s) Loss: 0.4872(0.3977) Grad: 4.3626  \n",
      "Epoch: [8][400/534] Data 0.016 (0.004) Elapsed 2m 39s (remain 0m 52s) Loss: 0.1816(0.3970) Grad: 3.4001  \n",
      "Epoch: [8][500/534] Data 0.000 (0.003) Elapsed 3m 18s (remain 0m 13s) Loss: 0.2631(0.3994) Grad: 2.4735  \n",
      "Epoch: [8][533/534] Data 0.000 (0.003) Elapsed 3m 31s (remain 0m 0s) Loss: 0.2847(0.3977) Grad: 3.7381  \n",
      "EVAL: [0/134] Data 1.037 (1.037) Elapsed 0m 1s (remain 2m 30s) Loss: 0.3997(0.3997) \n",
      "EVAL: [100/134] Data 0.385 (0.173) Elapsed 0m 27s (remain 0m 8s) Loss: 0.5102(0.4008) \n"
     ]
    },
    {
     "name": "stderr",
     "output_type": "stream",
     "text": [
      "Epoch 8 - avg_train_loss: 0.3977  avg_val_loss: 0.3976  time: 247s\n",
      "Epoch 8 - Accuracy: 0.868427202617434\n",
      "Epoch 8 - Save Best Score: 0.8684 Model\n"
     ]
    },
    {
     "name": "stdout",
     "output_type": "stream",
     "text": [
      "EVAL: [133/134] Data 0.000 (0.166) Elapsed 0m 35s (remain 0m 0s) Loss: 0.1653(0.3976) \n",
      "Epoch: [9][0/534] Data 1.168 (1.168) Elapsed 0m 1s (remain 14m 12s) Loss: 0.2010(0.2010) Grad: 2.5520  \n",
      "Epoch: [9][100/534] Data 0.000 (0.012) Elapsed 0m 41s (remain 2m 59s) Loss: 0.5582(0.3566) Grad: 5.0882  \n",
      "Epoch: [9][200/534] Data 0.000 (0.006) Elapsed 1m 20s (remain 2m 12s) Loss: 0.4900(0.3734) Grad: 4.4893  \n",
      "Epoch: [9][300/534] Data 0.000 (0.005) Elapsed 2m 0s (remain 1m 33s) Loss: 0.3673(0.3839) Grad: 4.1332  \n",
      "Epoch: [9][400/534] Data 0.001 (0.004) Elapsed 2m 39s (remain 0m 53s) Loss: 0.1684(0.3792) Grad: 1.9086  \n",
      "Epoch: [9][500/534] Data 0.000 (0.003) Elapsed 3m 18s (remain 0m 13s) Loss: 0.6978(0.3806) Grad: 5.4748  \n",
      "Epoch: [9][533/534] Data 0.000 (0.003) Elapsed 3m 30s (remain 0m 0s) Loss: 0.2668(0.3800) Grad: 2.9028  \n",
      "EVAL: [0/134] Data 1.624 (1.624) Elapsed 0m 1s (remain 3m 50s) Loss: 0.4698(0.4698) \n",
      "EVAL: [100/134] Data 0.575 (0.178) Elapsed 0m 27s (remain 0m 9s) Loss: 0.7075(0.4369) \n"
     ]
    },
    {
     "name": "stderr",
     "output_type": "stream",
     "text": [
      "Epoch 9 - avg_train_loss: 0.3800  avg_val_loss: 0.4372  time: 247s\n",
      "Epoch 9 - Accuracy: 0.853704136480486\n"
     ]
    },
    {
     "name": "stdout",
     "output_type": "stream",
     "text": [
      "EVAL: [133/134] Data 0.000 (0.172) Elapsed 0m 36s (remain 0m 0s) Loss: 0.1529(0.4372) \n",
      "Epoch: [10][0/534] Data 1.260 (1.260) Elapsed 0m 1s (remain 15m 8s) Loss: 0.5206(0.5206) Grad: 4.7099  \n",
      "Epoch: [10][100/534] Data 0.000 (0.013) Elapsed 0m 41s (remain 2m 56s) Loss: 0.5370(0.3565) Grad: 5.8963  \n",
      "Epoch: [10][200/534] Data 0.000 (0.007) Elapsed 1m 19s (remain 2m 12s) Loss: 0.3704(0.3684) Grad: 3.5382  \n",
      "Epoch: [10][300/534] Data 0.000 (0.005) Elapsed 1m 59s (remain 1m 32s) Loss: 0.4844(0.3735) Grad: 6.2055  \n",
      "Epoch: [10][400/534] Data 0.000 (0.004) Elapsed 2m 38s (remain 0m 52s) Loss: 0.4446(0.3817) Grad: 3.6733  \n",
      "Epoch: [10][500/534] Data 0.000 (0.003) Elapsed 3m 17s (remain 0m 13s) Loss: 0.2109(0.3804) Grad: 2.1881  \n",
      "Epoch: [10][533/534] Data 0.000 (0.003) Elapsed 3m 30s (remain 0m 0s) Loss: 0.3217(0.3835) Grad: 3.3228  \n",
      "EVAL: [0/134] Data 1.029 (1.029) Elapsed 0m 1s (remain 2m 30s) Loss: 0.3070(0.3070) \n",
      "EVAL: [100/134] Data 0.168 (0.165) Elapsed 0m 26s (remain 0m 8s) Loss: 0.5081(0.4232) \n"
     ]
    },
    {
     "name": "stderr",
     "output_type": "stream",
     "text": [
      "Epoch 10 - avg_train_loss: 0.3835  avg_val_loss: 0.4291  time: 245s\n",
      "Epoch 10 - Accuracy: 0.8553400327179248\n",
      "========== fold: 4 result ==========\n",
      "Score: 0.86843\n",
      "========== CV ==========\n",
      "Score: 0.87092\n"
     ]
    },
    {
     "name": "stdout",
     "output_type": "stream",
     "text": [
      "EVAL: [133/134] Data 0.000 (0.160) Elapsed 0m 34s (remain 0m 0s) Loss: 0.2269(0.4291) \n"
     ]
    }
   ],
   "source": [
    "if __name__ == '__main__':\n",
    "    main()"
   ]
  },
  {
   "cell_type": "code",
   "execution_count": 22,
   "metadata": {
    "execution": {
     "iopub.execute_input": "2020-12-25T14:11:18.118140Z",
     "iopub.status.busy": "2020-12-25T14:11:18.117396Z",
     "iopub.status.idle": "2020-12-25T14:11:18.122102Z",
     "shell.execute_reply": "2020-12-25T14:11:18.121699Z"
    },
    "papermill": {
     "duration": 0.203931,
     "end_time": "2020-12-25T14:11:18.122191",
     "exception": false,
     "start_time": "2020-12-25T14:11:17.918260",
     "status": "completed"
    },
    "tags": []
   },
   "outputs": [
    {
     "data": {
      "text/plain": [
       "4"
      ]
     },
     "execution_count": 22,
     "metadata": {},
     "output_type": "execute_result"
    }
   ],
   "source": [
    "2+2"
   ]
  },
  {
   "cell_type": "code",
   "execution_count": null,
   "metadata": {
    "papermill": {
     "duration": 0.19523,
     "end_time": "2020-12-25T14:11:18.512767",
     "exception": false,
     "start_time": "2020-12-25T14:11:18.317537",
     "status": "completed"
    },
    "tags": []
   },
   "outputs": [],
   "source": []
  }
 ],
 "metadata": {
  "kernelspec": {
   "display_name": "Python 3",
   "language": "python",
   "name": "python3"
  },
  "language_info": {
   "codemirror_mode": {
    "name": "ipython",
    "version": 3
   },
   "file_extension": ".py",
   "mimetype": "text/x-python",
   "name": "python",
   "nbconvert_exporter": "python",
   "pygments_lexer": "ipython3",
   "version": "3.7.6"
  },
  "papermill": {
   "duration": 12336.855897,
   "end_time": "2020-12-25T14:11:19.417509",
   "environment_variables": {},
   "exception": null,
   "input_path": "__notebook__.ipynb",
   "output_path": "__notebook__.ipynb",
   "parameters": {},
   "start_time": "2020-12-25T10:45:42.561612",
   "version": "2.1.0"
  }
 },
 "nbformat": 4,
 "nbformat_minor": 4
}
