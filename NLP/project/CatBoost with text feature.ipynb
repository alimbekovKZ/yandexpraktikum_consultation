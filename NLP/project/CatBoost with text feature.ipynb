{
 "cells": [
  {
   "cell_type": "code",
   "execution_count": 1,
   "metadata": {},
   "outputs": [],
   "source": [
    "import numpy as np\n",
    "import pandas as pd\n",
    "import os\n",
    "from sklearn import preprocessing\n",
    "from catboost import CatBoostClassifier, Pool\n",
    "from sklearn.model_selection import StratifiedKFold\n",
    "from sklearn.metrics import roc_auc_score, accuracy_score,confusion_matrix\n",
    "from sklearn.model_selection import train_test_split,GridSearchCV\n",
    "import matplotlib.pyplot as plt\n",
    "import scikitplot as skplt\n",
    "import seaborn as sns\n",
    "\n",
    "def label_encoding(train: pd.DataFrame, test: pd.DataFrame, col_definition: dict):\n",
    "    \"\"\"\n",
    "    col_definition: encode_col\n",
    "    \"\"\"\n",
    "    n_train = len(train)\n",
    "    train = pd.concat([train, test], sort=False).reset_index(drop=True)\n",
    "    for f in col_definition['encode_col']:\n",
    "        try:\n",
    "            lbl = preprocessing.LabelEncoder()\n",
    "            train[f] = lbl.fit_transform(list(train[f].values))\n",
    "        except:\n",
    "            print(f)\n",
    "    test = train[n_train:].reset_index(drop=True)\n",
    "    train = train[:n_train]\n",
    "    return train, test"
   ]
  },
  {
   "cell_type": "code",
   "execution_count": 2,
   "metadata": {},
   "outputs": [],
   "source": [
    "data=pd.read_csv('df_train.csv')\n",
    "data = data.dropna()"
   ]
  },
  {
   "cell_type": "code",
   "execution_count": 3,
   "metadata": {},
   "outputs": [],
   "source": [
    "X = data['text']\n",
    "Y = data['target']\n",
    "\n",
    "train_X , val_X, train_y, val_y = train_test_split(X, Y, test_size=0.1, random_state=42)"
   ]
  },
  {
   "cell_type": "code",
   "execution_count": 4,
   "metadata": {},
   "outputs": [],
   "source": [
    "text_cols = ['text']\n",
    "target_col = 'target'"
   ]
  },
  {
   "cell_type": "code",
   "execution_count": 5,
   "metadata": {},
   "outputs": [
    {
     "data": {
      "text/plain": [
       "pandas.core.series.Series"
      ]
     },
     "execution_count": 5,
     "metadata": {},
     "output_type": "execute_result"
    }
   ],
   "source": [
    "type(train_X)"
   ]
  },
  {
   "cell_type": "code",
   "execution_count": 6,
   "metadata": {},
   "outputs": [],
   "source": [
    "label = np.sort(train_y.unique()).tolist()"
   ]
  },
  {
   "cell_type": "code",
   "execution_count": 7,
   "metadata": {},
   "outputs": [
    {
     "data": {
      "text/html": [
       "<div>\n",
       "<style scoped>\n",
       "    .dataframe tbody tr th:only-of-type {\n",
       "        vertical-align: middle;\n",
       "    }\n",
       "\n",
       "    .dataframe tbody tr th {\n",
       "        vertical-align: top;\n",
       "    }\n",
       "\n",
       "    .dataframe thead th {\n",
       "        text-align: right;\n",
       "    }\n",
       "</style>\n",
       "<table border=\"1\" class=\"dataframe\">\n",
       "  <thead>\n",
       "    <tr style=\"text-align: right;\">\n",
       "      <th></th>\n",
       "      <th>text</th>\n",
       "    </tr>\n",
       "  </thead>\n",
       "  <tbody>\n",
       "    <tr>\n",
       "      <th>245</th>\n",
       "      <td>американский стартап spatial представил смесь ...</td>\n",
       "    </tr>\n",
       "    <tr>\n",
       "      <th>5364</th>\n",
       "      <td>приложении презентация practices migrating big...</td>\n",
       "    </tr>\n",
       "    <tr>\n",
       "      <th>179</th>\n",
       "      <td>концепция женщин взошла хотел женщин работают ...</td>\n",
       "    </tr>\n",
       "    <tr>\n",
       "      <th>6922</th>\n",
       "      <td>waiting game 24 waiting game steps asylum seek...</td>\n",
       "    </tr>\n",
       "    <tr>\n",
       "      <th>17</th>\n",
       "      <td>смотрите фильмы играете игры оригинальной озву...</td>\n",
       "    </tr>\n",
       "    <tr>\n",
       "      <th>...</th>\n",
       "      <td>...</td>\n",
       "    </tr>\n",
       "    <tr>\n",
       "      <th>5226</th>\n",
       "      <td>visualization often described context speed ef...</td>\n",
       "    </tr>\n",
       "    <tr>\n",
       "      <th>5390</th>\n",
       "      <td>24ddeb81e872e495c6265 деньги финансовый дашбор...</td>\n",
       "    </tr>\n",
       "    <tr>\n",
       "      <th>860</th>\n",
       "      <td>привет интересный вариант специалистов области...</td>\n",
       "    </tr>\n",
       "    <tr>\n",
       "      <th>7603</th>\n",
       "      <td>cool frineds clutch chose 300 highest performi...</td>\n",
       "    </tr>\n",
       "    <tr>\n",
       "      <th>7270</th>\n",
       "      <td>government tables looks low losers higher scal...</td>\n",
       "    </tr>\n",
       "  </tbody>\n",
       "</table>\n",
       "<p>7210 rows × 1 columns</p>\n",
       "</div>"
      ],
      "text/plain": [
       "                                                   text\n",
       "245   американский стартап spatial представил смесь ...\n",
       "5364  приложении презентация practices migrating big...\n",
       "179   концепция женщин взошла хотел женщин работают ...\n",
       "6922  waiting game 24 waiting game steps asylum seek...\n",
       "17    смотрите фильмы играете игры оригинальной озву...\n",
       "...                                                 ...\n",
       "5226  visualization often described context speed ef...\n",
       "5390  24ddeb81e872e495c6265 деньги финансовый дашбор...\n",
       "860   привет интересный вариант специалистов области...\n",
       "7603  cool frineds clutch chose 300 highest performi...\n",
       "7270  government tables looks low losers higher scal...\n",
       "\n",
       "[7210 rows x 1 columns]"
      ]
     },
     "execution_count": 7,
     "metadata": {},
     "output_type": "execute_result"
    }
   ],
   "source": [
    "pd.DataFrame(train_X)"
   ]
  },
  {
   "cell_type": "code",
   "execution_count": 8,
   "metadata": {},
   "outputs": [],
   "source": [
    "y_preds = []\n",
    "models = []\n",
    "oof_train = np.zeros((len(train_X),))\n",
    "cv = StratifiedKFold(n_splits=5, shuffle=True, random_state=0)"
   ]
  },
  {
   "cell_type": "code",
   "execution_count": 20,
   "metadata": {},
   "outputs": [],
   "source": [
    "catboost_params = {\n",
    "    'iterations': 10000,\n",
    "    'learning_rate': 0.01,\n",
    "    'eval_metric': 'AUC',\n",
    "    'loss_function': 'MultiClass',\n",
    "    'task_type': 'GPU',\n",
    "    'early_stopping_rounds': 1000,\n",
    "    'use_best_model': True,\n",
    "    'objective':\"MultiClass\",\n",
    "    'verbose': 100\n",
    "}"
   ]
  },
  {
   "cell_type": "raw",
   "metadata": {},
   "source": [
    "X_train = data[text_cols]\n",
    "y_train = data[target_col].values"
   ]
  },
  {
   "cell_type": "code",
   "execution_count": 21,
   "metadata": {},
   "outputs": [],
   "source": [
    "X_tr = pd.DataFrame(train_X) #X_train\n",
    "X_val =  pd.DataFrame(val_X)\n",
    "y_tr = train_y\n",
    "y_val = val_y\n",
    "\n",
    "train_pool = Pool(\n",
    "    X_tr, \n",
    "    y_tr, \n",
    "    text_features=text_cols\n",
    ")\n",
    "valid_pool = Pool(\n",
    "    X_val, \n",
    "    y_val, \n",
    "    text_features=text_cols\n",
    ")"
   ]
  },
  {
   "cell_type": "code",
   "execution_count": 22,
   "metadata": {},
   "outputs": [
    {
     "name": "stderr",
     "output_type": "stream",
     "text": [
      "AUC is not implemented on GPU. Will use CPU for metric computation, this could significantly affect learning time\n"
     ]
    },
    {
     "name": "stdout",
     "output_type": "stream",
     "text": [
      "0:\ttest: 0.7544551\tbest: 0.7544551 (0)\ttotal: 8.39ms\tremaining: 1m 23s\n",
      "100:\ttest: 0.7977564\tbest: 0.7977564 (100)\ttotal: 659ms\tremaining: 1m 4s\n",
      "200:\ttest: 0.8138857\tbest: 0.8138857 (200)\ttotal: 1.28s\tremaining: 1m 2s\n",
      "300:\ttest: 0.8250449\tbest: 0.8250449 (300)\ttotal: 1.85s\tremaining: 59.5s\n",
      "400:\ttest: 0.8339745\tbest: 0.8339745 (400)\ttotal: 2.37s\tremaining: 56.7s\n",
      "500:\ttest: 0.8407700\tbest: 0.8407700 (500)\ttotal: 2.91s\tremaining: 55.1s\n",
      "600:\ttest: 0.8476808\tbest: 0.8476808 (600)\ttotal: 3.44s\tremaining: 53.8s\n",
      "700:\ttest: 0.8522739\tbest: 0.8522739 (700)\ttotal: 3.97s\tremaining: 52.7s\n",
      "800:\ttest: 0.8572018\tbest: 0.8572018 (800)\ttotal: 4.52s\tremaining: 51.9s\n",
      "900:\ttest: 0.8620334\tbest: 0.8620334 (900)\ttotal: 5.09s\tremaining: 51.4s\n",
      "1000:\ttest: 0.8659754\tbest: 0.8659754 (1000)\ttotal: 5.64s\tremaining: 50.8s\n",
      "1100:\ttest: 0.8697014\tbest: 0.8697014 (1100)\ttotal: 6.2s\tremaining: 50.1s\n",
      "1200:\ttest: 0.8730689\tbest: 0.8730689 (1200)\ttotal: 6.73s\tremaining: 49.3s\n",
      "1300:\ttest: 0.8760630\tbest: 0.8760630 (1300)\ttotal: 7.27s\tremaining: 48.6s\n",
      "1400:\ttest: 0.8785716\tbest: 0.8785716 (1400)\ttotal: 7.8s\tremaining: 47.9s\n",
      "1500:\ttest: 0.8814238\tbest: 0.8814578 (1497)\ttotal: 8.34s\tremaining: 47.2s\n",
      "1600:\ttest: 0.8837569\tbest: 0.8838003 (1598)\ttotal: 8.87s\tremaining: 46.5s\n",
      "1700:\ttest: 0.8861136\tbest: 0.8861136 (1700)\ttotal: 9.4s\tremaining: 45.9s\n",
      "1800:\ttest: 0.8886366\tbest: 0.8886366 (1800)\ttotal: 9.94s\tremaining: 45.2s\n",
      "1900:\ttest: 0.8904900\tbest: 0.8904900 (1900)\ttotal: 10.5s\tremaining: 44.5s\n",
      "2000:\ttest: 0.8926288\tbest: 0.8926288 (2000)\ttotal: 11s\tremaining: 43.9s\n",
      "2100:\ttest: 0.8944255\tbest: 0.8944255 (2100)\ttotal: 11.5s\tremaining: 43.3s\n",
      "2200:\ttest: 0.8960149\tbest: 0.8960149 (2200)\ttotal: 12.1s\tremaining: 42.7s\n",
      "2300:\ttest: 0.8977963\tbest: 0.8977963 (2300)\ttotal: 12.6s\tremaining: 42s\n",
      "2400:\ttest: 0.8994675\tbest: 0.8994877 (2397)\ttotal: 13.1s\tremaining: 41.4s\n",
      "2500:\ttest: 0.9010106\tbest: 0.9010277 (2499)\ttotal: 13.6s\tremaining: 40.8s\n",
      "2600:\ttest: 0.9022739\tbest: 0.9022955 (2595)\ttotal: 14.1s\tremaining: 40.2s\n",
      "2700:\ttest: 0.9035011\tbest: 0.9035030 (2693)\ttotal: 14.6s\tremaining: 39.6s\n",
      "2800:\ttest: 0.9046860\tbest: 0.9047143 (2799)\ttotal: 15.1s\tremaining: 38.9s\n",
      "2900:\ttest: 0.9058170\tbest: 0.9058201 (2899)\ttotal: 15.7s\tremaining: 38.4s\n",
      "3000:\ttest: 0.9070975\tbest: 0.9070975 (3000)\ttotal: 16.2s\tremaining: 37.8s\n",
      "3100:\ttest: 0.9081399\tbest: 0.9081399 (3100)\ttotal: 16.7s\tremaining: 37.2s\n",
      "3200:\ttest: 0.9088636\tbest: 0.9088636 (3200)\ttotal: 17.3s\tremaining: 36.6s\n",
      "3300:\ttest: 0.9099605\tbest: 0.9099689 (3299)\ttotal: 17.8s\tremaining: 36.1s\n",
      "3400:\ttest: 0.9109412\tbest: 0.9109622 (3394)\ttotal: 18.3s\tremaining: 35.5s\n",
      "3500:\ttest: 0.9118848\tbest: 0.9118848 (3500)\ttotal: 18.8s\tremaining: 34.9s\n",
      "3600:\ttest: 0.9126600\tbest: 0.9126600 (3600)\ttotal: 19.3s\tremaining: 34.3s\n",
      "3700:\ttest: 0.9132670\tbest: 0.9132897 (3697)\ttotal: 19.9s\tremaining: 33.8s\n",
      "3800:\ttest: 0.9140135\tbest: 0.9140135 (3800)\ttotal: 20.4s\tremaining: 33.2s\n",
      "3900:\ttest: 0.9147300\tbest: 0.9147300 (3900)\ttotal: 20.9s\tremaining: 32.6s\n",
      "4000:\ttest: 0.9152437\tbest: 0.9152498 (3998)\ttotal: 21.4s\tremaining: 32.1s\n",
      "4100:\ttest: 0.9157265\tbest: 0.9157783 (4095)\ttotal: 21.9s\tremaining: 31.5s\n",
      "4200:\ttest: 0.9163667\tbest: 0.9163796 (4199)\ttotal: 22.4s\tremaining: 31s\n",
      "4300:\ttest: 0.9170303\tbest: 0.9170458 (4295)\ttotal: 22.9s\tremaining: 30.4s\n",
      "4400:\ttest: 0.9175673\tbest: 0.9175673 (4398)\ttotal: 23.5s\tremaining: 29.8s\n",
      "4500:\ttest: 0.9180332\tbest: 0.9180836 (4491)\ttotal: 24s\tremaining: 29.3s\n",
      "4600:\ttest: 0.9185385\tbest: 0.9185576 (4599)\ttotal: 24.5s\tremaining: 28.7s\n",
      "4700:\ttest: 0.9189348\tbest: 0.9189348 (4700)\ttotal: 25s\tremaining: 28.2s\n",
      "4800:\ttest: 0.9194867\tbest: 0.9195099 (4796)\ttotal: 25.5s\tremaining: 27.6s\n",
      "4900:\ttest: 0.9200146\tbest: 0.9200274 (4891)\ttotal: 26s\tremaining: 27.1s\n",
      "5000:\ttest: 0.9203662\tbest: 0.9203662 (5000)\ttotal: 26.6s\tremaining: 26.5s\n",
      "5100:\ttest: 0.9208140\tbest: 0.9208140 (5100)\ttotal: 27.1s\tremaining: 26s\n",
      "5200:\ttest: 0.9213807\tbest: 0.9213807 (5200)\ttotal: 27.6s\tremaining: 25.4s\n",
      "5300:\ttest: 0.9216339\tbest: 0.9216734 (5289)\ttotal: 28.1s\tremaining: 24.9s\n",
      "5400:\ttest: 0.9220028\tbest: 0.9220458 (5397)\ttotal: 28.6s\tremaining: 24.3s\n",
      "5500:\ttest: 0.9220888\tbest: 0.9221567 (5442)\ttotal: 29.1s\tremaining: 23.8s\n",
      "5600:\ttest: 0.9226316\tbest: 0.9226428 (5573)\ttotal: 29.6s\tremaining: 23.2s\n",
      "5700:\ttest: 0.9231485\tbest: 0.9231485 (5700)\ttotal: 30.1s\tremaining: 22.7s\n",
      "5800:\ttest: 0.9232572\tbest: 0.9233152 (5793)\ttotal: 30.6s\tremaining: 22.2s\n",
      "5900:\ttest: 0.9236695\tbest: 0.9236695 (5898)\ttotal: 31.1s\tremaining: 21.6s\n",
      "6000:\ttest: 0.9241336\tbest: 0.9241336 (6000)\ttotal: 31.7s\tremaining: 21.1s\n",
      "6100:\ttest: 0.9244101\tbest: 0.9244483 (6095)\ttotal: 32.2s\tremaining: 20.6s\n",
      "6200:\ttest: 0.9246770\tbest: 0.9246770 (6200)\ttotal: 32.7s\tremaining: 20s\n",
      "6300:\ttest: 0.9248845\tbest: 0.9249229 (6285)\ttotal: 33.2s\tremaining: 19.5s\n",
      "6400:\ttest: 0.9252447\tbest: 0.9252447 (6400)\ttotal: 33.7s\tremaining: 19s\n",
      "6500:\ttest: 0.9257269\tbest: 0.9257269 (6500)\ttotal: 34.2s\tremaining: 18.4s\n",
      "6600:\ttest: 0.9260379\tbest: 0.9260639 (6576)\ttotal: 34.7s\tremaining: 17.9s\n",
      "6700:\ttest: 0.9262963\tbest: 0.9263393 (6668)\ttotal: 35.3s\tremaining: 17.4s\n",
      "6800:\ttest: 0.9266149\tbest: 0.9266620 (6797)\ttotal: 35.8s\tremaining: 16.8s\n",
      "6900:\ttest: 0.9270444\tbest: 0.9270688 (6884)\ttotal: 36.3s\tremaining: 16.3s\n",
      "7000:\ttest: 0.9272956\tbest: 0.9273094 (6987)\ttotal: 36.8s\tremaining: 15.8s\n",
      "7100:\ttest: 0.9273927\tbest: 0.9274335 (7073)\ttotal: 37.3s\tremaining: 15.2s\n",
      "7200:\ttest: 0.9275948\tbest: 0.9276010 (7198)\ttotal: 37.8s\tremaining: 14.7s\n",
      "7300:\ttest: 0.9278095\tbest: 0.9278499 (7296)\ttotal: 38.4s\tremaining: 14.2s\n",
      "7400:\ttest: 0.9281621\tbest: 0.9281621 (7400)\ttotal: 38.9s\tremaining: 13.7s\n",
      "7500:\ttest: 0.9282860\tbest: 0.9283587 (7494)\ttotal: 39.4s\tremaining: 13.1s\n",
      "7600:\ttest: 0.9283383\tbest: 0.9283683 (7521)\ttotal: 39.9s\tremaining: 12.6s\n",
      "7700:\ttest: 0.9285951\tbest: 0.9285951 (7700)\ttotal: 40.4s\tremaining: 12.1s\n",
      "7800:\ttest: 0.9288019\tbest: 0.9288395 (7794)\ttotal: 41s\tremaining: 11.5s\n",
      "7900:\ttest: 0.9291783\tbest: 0.9291813 (7898)\ttotal: 41.5s\tremaining: 11s\n",
      "8000:\ttest: 0.9292779\tbest: 0.9293060 (7998)\ttotal: 42s\tremaining: 10.5s\n",
      "8100:\ttest: 0.9295013\tbest: 0.9295013 (8100)\ttotal: 42.5s\tremaining: 9.97s\n",
      "8200:\ttest: 0.9295961\tbest: 0.9296193 (8199)\ttotal: 43.1s\tremaining: 9.45s\n",
      "8300:\ttest: 0.9298368\tbest: 0.9298368 (8300)\ttotal: 43.5s\tremaining: 8.91s\n",
      "8400:\ttest: 0.9300452\tbest: 0.9300452 (8400)\ttotal: 44.1s\tremaining: 8.38s\n",
      "8500:\ttest: 0.9302355\tbest: 0.9302552 (8496)\ttotal: 44.6s\tremaining: 7.86s\n",
      "8600:\ttest: 0.9303517\tbest: 0.9304097 (8564)\ttotal: 45.1s\tremaining: 7.33s\n",
      "8700:\ttest: 0.9305923\tbest: 0.9306157 (8685)\ttotal: 45.6s\tremaining: 6.81s\n",
      "8800:\ttest: 0.9306894\tbest: 0.9307617 (8764)\ttotal: 46.2s\tremaining: 6.29s\n",
      "8900:\ttest: 0.9308367\tbest: 0.9308818 (8864)\ttotal: 46.8s\tremaining: 5.77s\n",
      "9000:\ttest: 0.9310897\tbest: 0.9310897 (9000)\ttotal: 47.3s\tremaining: 5.25s\n",
      "9100:\ttest: 0.9313366\tbest: 0.9313366 (9100)\ttotal: 47.8s\tremaining: 4.72s\n",
      "9200:\ttest: 0.9313599\tbest: 0.9313661 (9199)\ttotal: 48.3s\tremaining: 4.2s\n",
      "9300:\ttest: 0.9315718\tbest: 0.9315718 (9299)\ttotal: 48.8s\tremaining: 3.67s\n",
      "9400:\ttest: 0.9317203\tbest: 0.9317276 (9399)\ttotal: 49.3s\tremaining: 3.14s\n",
      "9500:\ttest: 0.9318159\tbest: 0.9318400 (9493)\ttotal: 49.8s\tremaining: 2.62s\n",
      "9600:\ttest: 0.9320485\tbest: 0.9321001 (9588)\ttotal: 50.3s\tremaining: 2.09s\n",
      "9700:\ttest: 0.9321397\tbest: 0.9322140 (9674)\ttotal: 50.8s\tremaining: 1.57s\n",
      "9800:\ttest: 0.9323457\tbest: 0.9323793 (9798)\ttotal: 51.4s\tremaining: 1.04s\n",
      "9900:\ttest: 0.9324639\tbest: 0.9325337 (9892)\ttotal: 51.9s\tremaining: 518ms\n",
      "9999:\ttest: 0.9326618\tbest: 0.9326710 (9998)\ttotal: 52.4s\tremaining: 0us\n",
      "bestTest = 0.9326710477\n",
      "bestIteration = 9998\n",
      "Shrink model to first 9999 iterations.\n"
     ]
    },
    {
     "data": {
      "text/plain": [
       "<catboost.core.CatBoostClassifier at 0x7f7c1e93d7f0>"
      ]
     },
     "execution_count": 22,
     "metadata": {},
     "output_type": "execute_result"
    }
   ],
   "source": [
    "model = CatBoostClassifier(**catboost_params)\n",
    "model.fit(train_pool, eval_set=valid_pool)"
   ]
  },
  {
   "cell_type": "code",
   "execution_count": 23,
   "metadata": {},
   "outputs": [],
   "source": [
    "#oof_train[0] = model.predict_proba(X_val)[:, 1]\n",
    "\n",
    "y_pred = model.predict(X_val,prediction_type='Probability')#[:, 1]\n",
    "y_pred = model.predict(X_val,prediction_type='Class')#[:, 1]\n",
    "#y_pred = model.predict(X_val)\n",
    "y_preds.append(y_pred)\n",
    "models.append(model)"
   ]
  },
  {
   "cell_type": "code",
   "execution_count": 24,
   "metadata": {},
   "outputs": [],
   "source": [
    "def get_confusion_matrix(val_y, pred, title):\n",
    "    cm = confusion_matrix(val_y, pred, labels=label)\n",
    "    #plt.figure(figsize=(15, 15))\n",
    "    #sns.heatmap(cm, annot=True)\n",
    "    #plt.title(title)\n",
    "    #plt.ylabel(\"True labels\")\n",
    "    #plt.xlabel(\"Predicted labels\")\n",
    "    #plt.show()\n",
    "    fig = plt.figure(figsize=(15, 15))\n",
    "    ax= plt.subplot()\n",
    "    sns.heatmap(cm, annot=True, ax = ax, cbar=False, fmt='g'); #annot=True to annotate cells\n",
    "\n",
    "    # labels, title and ticks\n",
    "    ax.set_xlabel('Predicted labels');\n",
    "    ax.set_ylabel('True labels'); \n",
    "    ax.set_title('Confusion Matrix' + title); \n",
    "    ax.xaxis.set_ticklabels(label);\n",
    "    ax.yaxis.set_ticklabels(label);\n",
    "\n",
    "\n",
    "def get_roc_curve(val_y, pred_probs, title):\n",
    "    #plt.figure(figsize=(15, 15))\n",
    "    plt.title(title)\n",
    "    skplt.metrics.plot_roc(val_y, pred_probs, figsize=(15, 15))"
   ]
  },
  {
   "cell_type": "code",
   "execution_count": 25,
   "metadata": {},
   "outputs": [
    {
     "data": {
      "text/plain": [
       "(802,)"
      ]
     },
     "execution_count": 25,
     "metadata": {},
     "output_type": "execute_result"
    }
   ],
   "source": [
    "val_y.shape"
   ]
  },
  {
   "cell_type": "code",
   "execution_count": 26,
   "metadata": {},
   "outputs": [
    {
     "data": {
      "text/plain": [
       "4523    2\n",
       "4680    0\n",
       "5832    1\n",
       "3827    0\n",
       "2470    1\n",
       "       ..\n",
       "5643    1\n",
       "7340    2\n",
       "50      1\n",
       "5507    1\n",
       "733     2\n",
       "Name: target, Length: 802, dtype: int64"
      ]
     },
     "execution_count": 26,
     "metadata": {},
     "output_type": "execute_result"
    }
   ],
   "source": [
    "val_y"
   ]
  },
  {
   "cell_type": "code",
   "execution_count": 27,
   "metadata": {},
   "outputs": [
    {
     "data": {
      "text/plain": [
       "(802, 1)"
      ]
     },
     "execution_count": 27,
     "metadata": {},
     "output_type": "execute_result"
    }
   ],
   "source": [
    "y_preds[0].shape"
   ]
  },
  {
   "cell_type": "code",
   "execution_count": 28,
   "metadata": {},
   "outputs": [],
   "source": [
    "y_preds[0];"
   ]
  },
  {
   "cell_type": "code",
   "execution_count": null,
   "metadata": {},
   "outputs": [],
   "source": []
  },
  {
   "cell_type": "code",
   "execution_count": null,
   "metadata": {},
   "outputs": [],
   "source": []
  },
  {
   "cell_type": "code",
   "execution_count": null,
   "metadata": {},
   "outputs": [],
   "source": []
  },
  {
   "cell_type": "raw",
   "metadata": {},
   "source": [
    "get_roc_curve(val_y,y_preds[0],model)"
   ]
  },
  {
   "cell_type": "code",
   "execution_count": 29,
   "metadata": {},
   "outputs": [
    {
     "data": {
      "image/png": "[encoded data removed]",
      "text/plain": [
       "<Figure size 1080x1080 with 1 Axes>"
      ]
     },
     "metadata": {
      "needs_background": "light"
     },
     "output_type": "display_data"
    }
   ],
   "source": [
    "get_confusion_matrix(val_y,y_preds[0],'cat')"
   ]
  },
  {
   "cell_type": "code",
   "execution_count": null,
   "metadata": {},
   "outputs": [],
   "source": []
  },
  {
   "cell_type": "code",
   "execution_count": null,
   "metadata": {},
   "outputs": [],
   "source": []
  },
  {
   "cell_type": "code",
   "execution_count": null,
   "metadata": {},
   "outputs": [],
   "source": [
    "for fold_id, (train_index, valid_index) in enumerate(cv.split(train_X, train_y)):\n",
    "    #print(train_index)\n",
    "    X_tr = train_X[train_index]\n",
    "    X_val = train_X[valid_index]\n",
    "    y_tr = train_y[train_index]\n",
    "    y_val = train_y[valid_index]\n",
    "\n",
    "    train_pool = Pool(\n",
    "        X_tr, \n",
    "        y_tr, \n",
    "        cat_features=categorical_cols,\n",
    "        text_features=text_cols,\n",
    "        feature_names=list(X_tr)\n",
    "    )\n",
    "    valid_pool = Pool(\n",
    "        X_val, \n",
    "        y_val, \n",
    "        cat_features=categorical_cols,\n",
    "        text_features=text_cols,\n",
    "        feature_names=list(X_tr)\n",
    "    )\n",
    "\n",
    "    model = CatBoostClassifier(**catboost_params,loss_function='MultiClass',  eval_metric='Accuracy',)\n",
    "    model.fit(train_pool, eval_set=valid_pool)\n",
    "\n",
    "    oof_train[valid_index] = model.predict_proba(X_val)[:, 1]\n",
    "\n",
    "    y_pred = model.predict_proba(X_test)[:, 1]\n",
    "    y_preds.append(y_pred)\n",
    "    models.append(model)"
   ]
  },
  {
   "cell_type": "code",
   "execution_count": null,
   "metadata": {},
   "outputs": [],
   "source": []
  },
  {
   "cell_type": "code",
   "execution_count": null,
   "metadata": {},
   "outputs": [],
   "source": []
  }
 ],
 "metadata": {
  "kernelspec": {
   "display_name": "Python 3",
   "language": "python",
   "name": "python3"
  },
  "language_info": {
   "codemirror_mode": {
    "name": "ipython",
    "version": 3
   },
   "file_extension": ".py",
   "mimetype": "text/x-python",
   "name": "python",
   "nbconvert_exporter": "python",
   "pygments_lexer": "ipython3",
   "version": "3.7.3"
  }
 },
 "nbformat": 4,
 "nbformat_minor": 2
}
